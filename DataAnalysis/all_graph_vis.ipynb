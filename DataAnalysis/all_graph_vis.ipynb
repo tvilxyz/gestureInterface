{
 "cells": [
  {
   "attachments": {},
   "cell_type": "markdown",
   "metadata": {},
   "source": [
    "Overview: This script creates visualizations for the gesture data. It outputs two type of html files: a figure for a single participant session or a matrix plot for a single gesture, which groups together several participant session figures onto one file. \n",
    "\n",
    "This tool utilizes the first code block for importing libraries and the two bottom code blocks to generate the visuals and requires the pandas and os libraries to be installed to run properly.\n",
    "\n",
    "Read markdown for bottom two code blocks for more details."
   ]
  },
  {
   "cell_type": "code",
   "execution_count": 2,
   "metadata": {},
   "outputs": [],
   "source": [
    "# import necessary packages\n",
    "import warnings\n",
    "warnings.filterwarnings('ignore')\n",
    "\n",
    "import pandas as pd\n",
    "import numpy as np\n",
    "from plotnine import *\n",
    "import statsmodels.api as sm\n",
    "\n",
    "from sklearn.linear_model import LinearRegression # Linear Regression Model\n",
    "from sklearn.preprocessing import StandardScaler # Z-score variables\n",
    "from sklearn.preprocessing import MinMaxScaler # Min-Max Normalization\n",
    "\n",
    "from sklearn.model_selection import train_test_split # simple TT split cv\n",
    "\n",
    "from mpl_toolkits.mplot3d import Axes3D\n",
    "import matplotlib.pyplot as plt\n",
    "\n",
    "import plotly.graph_objects as go\n",
    "from plotly.subplots import make_subplots\n",
    "import plotly.io as pio\n",
    "\n",
    "import os"
   ]
  },
  {
   "cell_type": "code",
   "execution_count": 16,
   "metadata": {},
   "outputs": [
    {
     "name": "stdout",
     "output_type": "stream",
     "text": [
      "(13304, 49)\n"
     ]
    }
   ],
   "source": [
    "# Iterate through each CSV file in the specified folder\n",
    "data_folder = \"../AllData/F_RotForwardX\"\n",
    "\n",
    "# Create an empty list to store the dataframes\n",
    "dfs = []\n",
    "\n",
    "# Iterate over the files in the folder\n",
    "for filename in os.listdir(data_folder):\n",
    "    if filename.endswith(\".csv\"):\n",
    "        # Read the CSV file into a dataframe\n",
    "        df = pd.read_csv(os.path.join(data_folder, filename))\n",
    "\n",
    "        # Remove any data points that are not triggered by either the left or right trigger\n",
    "        df.drop(df[(df['trigger_pull_amount_left'] == 0) & (df['trigger_pull_amount_right'] == 0)].index, inplace=True)\n",
    "        \n",
    "        # Extract the participant number from the file name (specified after \"_subjID_\")\n",
    "        participant_num = int(filename.split(\"_subjID_\")[1].split(\"_\")[0])\n",
    "        \n",
    "        # Add the participant number as a column in the dataframe\n",
    "        df.insert(0, 'participant_num', participant_num)\n",
    "        \n",
    "        # Append the dataframe to the list\n",
    "        dfs.append(df)\n",
    "\n",
    "# Concatenate all the dataframes into a single dataframe\n",
    "all_F_rot_for_x_DF = pd.concat(dfs)\n",
    "\n",
    "# Print the shape of the combined dataframe\n",
    "print(all_F_rot_for_x_DF.shape)"
   ]
  },
  {
   "cell_type": "code",
   "execution_count": 17,
   "metadata": {},
   "outputs": [],
   "source": [
    "# Group the dataframe by participant number\n",
    "grouped_by_participant = all_F_rot_for_x_DF.groupby('participant_num')\n",
    "\n",
    "# Calculate the number of participants\n",
    "num_participants = len(grouped_by_participant)\n",
    "\n",
    "# Calculate the number of rows and columns based on the number of participants (sqrt number of participants and add 1)\n",
    "rows = cols = int(num_participants ** 0.5) + 1 \n",
    "\n",
    "# Create a subplot grid figure\n",
    "fig = make_subplots(rows=rows, cols=cols, subplot_titles=[f'Participant {participant_num}' for participant_num, _ in grouped_by_participant], specs=[[{'type': 'scatter3d'}]*cols]*rows)\n",
    "\n",
    "row = 1  # Starting row index for subplot\n",
    "col = 1  # Starting column index for subplot\n",
    "\n",
    "# Iterate over the grouped data by participant\n",
    "for i, (participant_num, group) in enumerate(grouped_by_participant, start=1):\n",
    "    # Iterate over trials and add scatter traces\n",
    "    for trial_num, trial_group in group.groupby('gesture_counter'):\n",
    "        fig.add_trace(go.Scatter3d(\n",
    "            x=trial_group['r_controller_translation_x'],\n",
    "            y=trial_group['r_controller_translation_z'],\n",
    "            z=trial_group['r_controller_translation_y'],\n",
    "            mode='markers',\n",
    "            marker=dict(\n",
    "                size=2,\n",
    "                color=trial_group.index,  # set color based on occurrence (use index as a unique identifier)\n",
    "                colorscale='viridis',  # colorscale\n",
    "                opacity=0.8,\n",
    "            ),\n",
    "            name=f'Trial {trial_num} - Right Controller',\n",
    "            showlegend=False  # hide legend entry\n",
    "        ), row=row, col=col)\n",
    "        \n",
    "        fig.add_trace(go.Scatter3d(\n",
    "            x=trial_group['l_controller_translation_x'],\n",
    "            y=trial_group['l_controller_translation_z'],\n",
    "            z=trial_group['l_controller_translation_y'],\n",
    "            mode='markers',\n",
    "            marker=dict(\n",
    "                size=2,\n",
    "                color=trial_group.index,  # set color based on occurrence (use index as a unique identifier)\n",
    "                colorscale='sunset_r',  # colorscale (reverse)\n",
    "                opacity=0.8,\n",
    "            ),\n",
    "            name=f'Trial {trial_num} - Left Controller',\n",
    "            showlegend=False  # hide legend entry\n",
    "        ), row=row, col=col)\n",
    "        \n",
    "    # Update subplot indices for the next participant\n",
    "    col += 1\n",
    "    if col > cols:\n",
    "        col = 1\n",
    "        row += 1\n",
    "\n",
    "# Set overall title for the figure\n",
    "fig.update_layout(height=1000, width=1000, title_text='All Participants Rotate Forward (Freeform)') \n",
    "# fig.show()\n",
    "\n",
    "# Specify output file path\n",
    "output_path = \"../Figures/Rot_For_X_Sub_1_to_26_Grid.html\"\n",
    "\n",
    "# Save figure as an HTML file\n",
    "pio.write_html(fig, file=output_path, auto_open=True)"
   ]
  },
  {
   "cell_type": "code",
   "execution_count": 19,
   "metadata": {},
   "outputs": [],
   "source": [
    "# Iterate through each CSV file in the specified folder\n",
    "data_folder = \"../AllData/F_RotForwardX\"\n",
    "\n",
    "# Create an empty list to store the dataframes\n",
    "dfs = []\n",
    "\n",
    "# Create a dictionary to track the number of sessions for each participant\n",
    "participant_sessions = {}\n",
    "\n",
    "# Iterate over the files in the folder\n",
    "for filename in os.listdir(data_folder):\n",
    "    if filename.endswith(\".csv\"):\n",
    "        # Read the CSV file into a dataframe\n",
    "        df = pd.read_csv(os.path.join(data_folder, filename))\n",
    "\n",
    "        # Remove any data points that are not triggered by either the left or right trigger\n",
    "        df.drop(df[(df['trigger_pull_amount_left'] == 0) & (df['trigger_pull_amount_right'] == 0)].index, inplace=True)\n",
    "\n",
    "        # Extract the participant number from the file name (specified after \"_subjID_\")\n",
    "        participant_num = int(filename.split(\"_subjID_\")[1].split(\"_\")[0])\n",
    "        \n",
    "        # Check if participant already has sessions\n",
    "        if participant_num in participant_sessions:\n",
    "            session_num = participant_sessions[participant_num] + 1\n",
    "            participant_sessions[participant_num] = session_num\n",
    "        else:\n",
    "            session_num = 1\n",
    "            participant_sessions[participant_num] = session_num\n",
    "        \n",
    "        # Add the participant number as a column in the dataframe\n",
    "        df.insert(0, 'participant_num', participant_num)\n",
    "\n",
    "        # Create a unique identifier for the session\n",
    "        session_identifier = f\"{session_num}\"\n",
    "        \n",
    "        # Add the session identifier as a column in the dataframe\n",
    "        df.insert(0, 'session_identifier', session_identifier)\n",
    "        \n",
    "        # Append the dataframe to the list\n",
    "        dfs.append(df)\n",
    "\n",
    "# Concatenate all the dataframes into a single dataframe\n",
    "all_F_rot_for_x_DF = pd.concat(dfs)\n",
    "\n",
    "# Print the shape of the combined dataframe\n",
    "print(all_F_rot_for_x_DF.shape)"
   ]
  },
  {
   "cell_type": "code",
   "execution_count": 29,
   "metadata": {},
   "outputs": [
    {
     "ename": "ValueError",
     "evalue": "\nThe 'specs' argument to make_subplots must be a 2D list of dictionaries with dimensions (1 x 1).\n    Received value of type <class 'list'>: [[{'type': 'scatter3d'}, {'type': 'scatter3d'}, {'type': 'scatter3d'}, {'type': 'scatter3d'}], [{'type': 'scatter3d'}, {'type': 'scatter3d'}, {'type': 'scatter3d'}, {'type': 'scatter3d'}], [{'type': 'scatter3d'}, {'type': 'scatter3d'}, {'type': 'scatter3d'}, {'type': 'scatter3d'}], [{'type': 'scatter3d'}, {'type': 'scatter3d'}, {'type': 'scatter3d'}, {'type': 'scatter3d'}]]",
     "output_type": "error",
     "traceback": [
      "\u001b[1;31m---------------------------------------------------------------------------\u001b[0m",
      "\u001b[1;31mValueError\u001b[0m                                Traceback (most recent call last)",
      "\u001b[1;32m~\\AppData\\Local\\Temp\\ipykernel_22256\\630957393.py\u001b[0m in \u001b[0;36m<module>\u001b[1;34m\u001b[0m\n\u001b[0;32m     15\u001b[0m \u001b[1;32mfor\u001b[0m \u001b[0mi\u001b[0m\u001b[1;33m,\u001b[0m \u001b[1;33m(\u001b[0m\u001b[1;33m(\u001b[0m\u001b[0mparticipant_num\u001b[0m\u001b[1;33m,\u001b[0m \u001b[0msession_id\u001b[0m\u001b[1;33m)\u001b[0m\u001b[1;33m,\u001b[0m \u001b[0mgroup\u001b[0m\u001b[1;33m)\u001b[0m \u001b[1;32min\u001b[0m \u001b[0menumerate\u001b[0m\u001b[1;33m(\u001b[0m\u001b[0mgrouped_by_participant_session\u001b[0m\u001b[1;33m,\u001b[0m \u001b[0mstart\u001b[0m\u001b[1;33m=\u001b[0m\u001b[1;36m1\u001b[0m\u001b[1;33m)\u001b[0m\u001b[1;33m:\u001b[0m\u001b[1;33m\u001b[0m\u001b[1;33m\u001b[0m\u001b[0m\n\u001b[0;32m     16\u001b[0m     \u001b[1;31m# Create a subplot grid figure\u001b[0m\u001b[1;33m\u001b[0m\u001b[1;33m\u001b[0m\u001b[0m\n\u001b[1;32m---> 17\u001b[1;33m     \u001b[0mfig\u001b[0m \u001b[1;33m=\u001b[0m \u001b[0mmake_subplots\u001b[0m\u001b[1;33m(\u001b[0m\u001b[0mrows\u001b[0m\u001b[1;33m=\u001b[0m\u001b[0mrow\u001b[0m\u001b[1;33m,\u001b[0m \u001b[0mcols\u001b[0m\u001b[1;33m=\u001b[0m\u001b[0mcol\u001b[0m\u001b[1;33m,\u001b[0m \u001b[0msubplot_titles\u001b[0m\u001b[1;33m=\u001b[0m\u001b[1;33m[\u001b[0m\u001b[1;34mf'P {participant_num}, S {session_id}'\u001b[0m \u001b[1;32mfor\u001b[0m \u001b[1;33m(\u001b[0m\u001b[0mparticipant_num\u001b[0m\u001b[1;33m,\u001b[0m \u001b[0msession_id\u001b[0m\u001b[1;33m)\u001b[0m\u001b[1;33m,\u001b[0m \u001b[0m_\u001b[0m \u001b[1;32min\u001b[0m \u001b[0mgrouped_by_participant_session\u001b[0m\u001b[1;33m]\u001b[0m\u001b[1;33m,\u001b[0m \u001b[0mspecs\u001b[0m\u001b[1;33m=\u001b[0m\u001b[1;33m[\u001b[0m\u001b[1;33m[\u001b[0m\u001b[1;33m{\u001b[0m\u001b[1;34m'type'\u001b[0m\u001b[1;33m:\u001b[0m \u001b[1;34m'scatter3d'\u001b[0m\u001b[1;33m}\u001b[0m\u001b[1;33m]\u001b[0m\u001b[1;33m*\u001b[0m\u001b[0mcols\u001b[0m\u001b[1;33m]\u001b[0m\u001b[1;33m*\u001b[0m\u001b[0mrows\u001b[0m\u001b[1;33m)\u001b[0m\u001b[1;33m\u001b[0m\u001b[1;33m\u001b[0m\u001b[0m\n\u001b[0m\u001b[0;32m     18\u001b[0m     \u001b[1;31m# Iterate over trials for each participant and session, and add scatter traces\u001b[0m\u001b[1;33m\u001b[0m\u001b[1;33m\u001b[0m\u001b[0m\n\u001b[0;32m     19\u001b[0m     \u001b[1;32mfor\u001b[0m \u001b[0mtrial_num\u001b[0m\u001b[1;33m,\u001b[0m \u001b[0mtrial_group\u001b[0m \u001b[1;32min\u001b[0m \u001b[0mgroup\u001b[0m\u001b[1;33m.\u001b[0m\u001b[0mgroupby\u001b[0m\u001b[1;33m(\u001b[0m\u001b[1;34m'gesture_counter'\u001b[0m\u001b[1;33m)\u001b[0m\u001b[1;33m:\u001b[0m\u001b[1;33m\u001b[0m\u001b[1;33m\u001b[0m\u001b[0m\n",
      "\u001b[1;32mc:\\Users\\vrelax\\anaconda3\\lib\\site-packages\\plotly\\subplots.py\u001b[0m in \u001b[0;36mmake_subplots\u001b[1;34m(rows, cols, shared_xaxes, shared_yaxes, start_cell, print_grid, horizontal_spacing, vertical_spacing, subplot_titles, column_widths, row_heights, specs, insets, column_titles, row_titles, x_title, y_title, figure, **kwargs)\u001b[0m\n\u001b[0;32m    303\u001b[0m     \"\"\"\n\u001b[0;32m    304\u001b[0m \u001b[1;33m\u001b[0m\u001b[0m\n\u001b[1;32m--> 305\u001b[1;33m     return _sub.make_subplots(\n\u001b[0m\u001b[0;32m    306\u001b[0m         \u001b[0mrows\u001b[0m\u001b[1;33m,\u001b[0m\u001b[1;33m\u001b[0m\u001b[1;33m\u001b[0m\u001b[0m\n\u001b[0;32m    307\u001b[0m         \u001b[0mcols\u001b[0m\u001b[1;33m,\u001b[0m\u001b[1;33m\u001b[0m\u001b[1;33m\u001b[0m\u001b[0m\n",
      "\u001b[1;32mc:\\Users\\vrelax\\anaconda3\\lib\\site-packages\\plotly\\_subplots.py\u001b[0m in \u001b[0;36mmake_subplots\u001b[1;34m(rows, cols, shared_xaxes, shared_yaxes, start_cell, print_grid, horizontal_spacing, vertical_spacing, subplot_titles, column_widths, row_heights, specs, insets, column_titles, row_titles, x_title, y_title, figure, **kwargs)\u001b[0m\n\u001b[0;32m    443\u001b[0m         \u001b[1;32mand\u001b[0m \u001b[0mall\u001b[0m\u001b[1;33m(\u001b[0m\u001b[0mall\u001b[0m\u001b[1;33m(\u001b[0m\u001b[0mv\u001b[0m \u001b[1;32mis\u001b[0m \u001b[1;32mNone\u001b[0m \u001b[1;32mor\u001b[0m \u001b[0misinstance\u001b[0m\u001b[1;33m(\u001b[0m\u001b[0mv\u001b[0m\u001b[1;33m,\u001b[0m \u001b[0mdict\u001b[0m\u001b[1;33m)\u001b[0m \u001b[1;32mfor\u001b[0m \u001b[0mv\u001b[0m \u001b[1;32min\u001b[0m \u001b[0mrow\u001b[0m\u001b[1;33m)\u001b[0m \u001b[1;32mfor\u001b[0m \u001b[0mrow\u001b[0m \u001b[1;32min\u001b[0m \u001b[0mspecs\u001b[0m\u001b[1;33m)\u001b[0m\u001b[1;33m\u001b[0m\u001b[1;33m\u001b[0m\u001b[0m\n\u001b[0;32m    444\u001b[0m     ):\n\u001b[1;32m--> 445\u001b[1;33m         raise ValueError(\n\u001b[0m\u001b[0;32m    446\u001b[0m             \"\"\"\n\u001b[0;32m    447\u001b[0m \u001b[0mThe\u001b[0m \u001b[1;34m'specs'\u001b[0m \u001b[0margument\u001b[0m \u001b[0mto\u001b[0m \u001b[0mmake_subplots\u001b[0m \u001b[0mmust\u001b[0m \u001b[0mbe\u001b[0m \u001b[0ma\u001b[0m \u001b[1;36m2\u001b[0m\u001b[0mD\u001b[0m \u001b[0mlist\u001b[0m \u001b[0mof\u001b[0m \u001b[0mdictionaries\u001b[0m \u001b[1;32mwith\u001b[0m\u001b[0;31m \u001b[0m\u001b[0;31m\\\u001b[0m\u001b[1;33m\u001b[0m\u001b[1;33m\u001b[0m\u001b[0m\n",
      "\u001b[1;31mValueError\u001b[0m: \nThe 'specs' argument to make_subplots must be a 2D list of dictionaries with dimensions (1 x 1).\n    Received value of type <class 'list'>: [[{'type': 'scatter3d'}, {'type': 'scatter3d'}, {'type': 'scatter3d'}, {'type': 'scatter3d'}], [{'type': 'scatter3d'}, {'type': 'scatter3d'}, {'type': 'scatter3d'}, {'type': 'scatter3d'}], [{'type': 'scatter3d'}, {'type': 'scatter3d'}, {'type': 'scatter3d'}, {'type': 'scatter3d'}], [{'type': 'scatter3d'}, {'type': 'scatter3d'}, {'type': 'scatter3d'}, {'type': 'scatter3d'}]]"
     ]
    }
   ],
   "source": [
    "# Group the dataframe by participant number and session identifier\n",
    "grouped_by_participant_session = all_F_rot_for_x_DF.groupby(['participant_num', 'session_identifier'])\n",
    "\n",
    "# Calculate the number of participants and session\n",
    "num_participants = len(grouped_by_participant_session)\n",
    "\n",
    "# Calculate the number of rows and columns based on the number of participants and sessions\n",
    "rows = cols = int(num_participants ** 0.5) + 1\n",
    "\n",
    "# Create a subplot grid figure\n",
    "fig = make_subplots(rows=rows, cols=cols, subplot_titles=[f'P {participant_num}, S {session_id}' for (participant_num, session_id), _ in grouped_by_participant_session], specs=[[{'type': 'scatter3d'}]*cols]*rows)\n",
    "\n",
    "row = 1  # Starting row index for subplot\n",
    "col = 1  # Starting column index for subplot\n",
    "\n",
    "# Iterate over the grouped data by participant and session\n",
    "for i, ((participant_num, session_id), group) in enumerate(grouped_by_participant_session, start=1):\n",
    "    # Iterate over trials for each participant and session, and add scatter traces\n",
    "    for trial_num, trial_group in group.groupby('gesture_counter'):\n",
    "        # Add scatter trace for right controller\n",
    "        fig.add_trace(go.Scatter3d(\n",
    "            x=trial_group['r_controller_translation_x'],\n",
    "            y=trial_group['r_controller_translation_z'],\n",
    "            z=trial_group['r_controller_translation_y'],\n",
    "            mode='markers',\n",
    "            marker=dict(\n",
    "                size=2,\n",
    "                color=trial_group.index,  # set color based on occurrence (use index as a unique identifier)\n",
    "                colorscale='viridis',  # colorscale\n",
    "                opacity=0.8,\n",
    "            ),\n",
    "            name=f'Trial {trial_num} - Right Controller',\n",
    "            showlegend=False  # hide legend entry\n",
    "        ), row=row, col=col)\n",
    "        \n",
    "        # Add scatter trace for left controller\n",
    "        fig.add_trace(go.Scatter3d(\n",
    "            x=trial_group['l_controller_translation_x'],\n",
    "            y=trial_group['l_controller_translation_z'],\n",
    "            z=trial_group['l_controller_translation_y'],\n",
    "            mode='markers',\n",
    "            marker=dict(\n",
    "                size=2,\n",
    "                color=trial_group.index,  # set color based on occurrence (use index as a unique identifier)\n",
    "                colorscale='sunset_r',  # colorscale (reverse)\n",
    "                opacity=0.8,\n",
    "            ),\n",
    "            name=f'Trial {trial_num} - Left Controller',\n",
    "            showlegend=False  # hide legend entry\n",
    "        ), row=row, col=col)\n",
    "        \n",
    "    # Update subplot indices for the next participant and session\n",
    "    col += 1\n",
    "    if col > cols:\n",
    "        col = 1\n",
    "        row += 1\n",
    "\n",
    "# Set overall title for the figure\n",
    "fig.update_layout(height=1000, width=1000, title_text='All Participants By Session Rotate Forward (Freeform)')  # Set the overall title for the figure\n",
    "# fig.show()\n",
    "\n",
    "# Specify the output file path\n",
    "output_path = \"C:\\\\Users\\\\vrelax\\\\Desktop\\\\VRelax\\\\gestureInterface\\\\Figures\\\\Rot_For_X_Sub_1_to_26_Session_37_Grid.html\"\n",
    "\n",
    "# Save the figure as an HTML file\n",
    "pio.write_html(fig, file=output_path, auto_open=True)"
   ]
  },
  {
   "attachments": {},
   "cell_type": "markdown",
   "metadata": {},
   "source": [
    "Overview: Creates subfolders in the Figures directory and converts the CleanedData directory into a dictionary for easier iteration.\n",
    "\n",
    "Dictionary will have 13 keys to represent the 13 different gestures. Each key will have a value of a list that contains two lists. The two lists will represent the freeform and instruction folder respectively. Within each of those two lists, they will contain 37 data files paths. \n",
    "Ex: {'PanLeft': [../session_F_PanSelect_sub1ID.csv, ../session_F_PanSelect_sub2ID.csv, ..][../session_I_PanSelect_sub1ID.csv, ../session_I_PanSelect_sub2ID.csv, ..]}\n",
    "\n",
    "Figures directory will have 13 empty gesture folders and 2 subfolders for freeform and instructional within each of them.\n",
    "\n",
    "Requirements:\n",
    "- The cleaned_data_folder_path and figures_folder_path variable must be edited to include the path to each of those folders.\n",
    "- The Figures directory can be empty.\n",
    "- Libraries in the first code block must be imported.\n",
    "- The CleanedData directory must contain the following subfolders\\files: ...\\CleanedData\\Sub#\\Session_Sub#_Sess#\\\\file.csv\n",
    "    The names that are filled in are:\n",
    "       - '#' in Sub# will be the subject's number\n",
    "       - 'Session' in Session_Sub#_Sess# is either Freeform or Instructional, '#' in Sub# is the subject's number, and '#' in Sess# is the session number\n",
    "       - 'file' in file.csv is the name of the file\n"
   ]
  },
  {
   "cell_type": "code",
   "execution_count": 54,
   "metadata": {},
   "outputs": [],
   "source": [
    "'''\n",
    "Edit paths here\n",
    "'''\n",
    "cleaned_data_folder_path = \"..\\\\gestureInterface\\\\CleanedData\"\n",
    "figures_folder_path = \"..\\\\gestureInterface\\\\Figures\"\n",
    "\n",
    "'''\n",
    "Iterates through CleanedData directory to make subfolders in Figures directory and make a dictionary of data where the 13 keys are gesture types \n",
    "and its values are two lists representing freeform and instructional. Each list will contain the path to the 37 csv data files.\n",
    "'''\n",
    "figure_gesture_dict = {}\n",
    "for root, sub_folders, files in os.walk(cleaned_data_folder_path):\n",
    "    for file in files:\n",
    "        # Splits file name for gesture and session type identification\n",
    "        file_split = file.split(\"_\")\n",
    "        file_gesture = file_split[3]\n",
    "        file_session_type = file_split[2]\n",
    "\n",
    "        # Ignores the thank you files\n",
    "        if (file_session_type != 'F') and (file_session_type != 'I'):\n",
    "            continue\n",
    "        \n",
    "        # Make gesture folder in Figures directory\n",
    "        gesture_in_figures_path = os.path.join(figures_folder_path, file_gesture)\n",
    "        if not os.path.exists(gesture_in_figures_path):\n",
    "            os.makedirs(os.path.join(gesture_in_figures_path, \"Freeform\"))\n",
    "            os.makedirs(os.path.join(gesture_in_figures_path, \"Instructional\"))\n",
    "\n",
    "        # If a gesture is not in the dictionary, make the gesture a new key with list values freeform and instructional\n",
    "        if file_gesture not in figure_gesture_dict:\n",
    "            freeform_folder = []\n",
    "            instructional_folder = []\n",
    "            figure_gesture_dict[file_gesture] = [freeform_folder, instructional_folder]\n",
    "\n",
    "        if file_session_type == 'F':\n",
    "            figure_gesture_dict[file_gesture][0].append(os.path.join(root, file))\n",
    "        else:\n",
    "            figure_gesture_dict[file_gesture][1].append(os.path.join(root, file))"
   ]
  },
  {
   "attachments": {},
   "cell_type": "markdown",
   "metadata": {},
   "source": [
    "Overview: Creates graph visualizations for the gesture data files. Exports two types of html files: all_sessions and single_session. \n",
    "\n",
    "To clarify what is meant by a single_session, each single_session is grouped by participant session, so participants are paired by a unique session. A participant can have multiple sessions and each will be considered their own.\n",
    "Examples: Box_Select_Sub1_Sess1, Box_Select_Sub2_Sess1, Box_Select_Sub2_Sess2\n",
    "\n",
    "Files will be exported into their classified folders: Figures\\GestureType\\SessionType (GestureType & SessionType(Freeform/Instructional) will be edited accordingly)\n",
    "\n",
    "single_session:\n",
    "    - Contains a data visualization graph for a single grouped by participant session figure as well as 2 color bars representing both hands, which shows the gesture motion over time. \n",
    "    - The file can be identified as gesture_sessiontype_Sub#_Sess#.html with the 'gesture', 'sessiontype', and '#' being filled out. \n",
    "        - Example: 'Box_Select_Freeform_Sub1_Sess1.html'\n",
    "all_sessions:\n",
    "    - Each all_sessions file represents a single gesture and contain several individual single_session subplots for that specific gesture.\n",
    "    - Each file has a max of 16 subplots to prevent overcrowded visuals, so an all_sessions file can be split up onto several different pages.\n",
    "        - 37 visualizations will be separated into 16 subplots onto two pages and 5 subplots on the third page.\n",
    "    - The file can be identified as gesture_sessiontype_Sub#_to_Sub#_Session_#.html with the 'gesture', 'sessiontype', and '#' being filled out.      \n",
    "        - Example: 'Box_Select_Freeform_Sub1_to_Sub26_Session_37_html'\n",
    "\n",
    "Requirements:\n",
    "- The previous code block must successfully run to set up the variable figure_gesture_dict."
   ]
  },
  {
   "cell_type": "code",
   "execution_count": 55,
   "metadata": {},
   "outputs": [],
   "source": [
    "# Iterates through each gesture in the dictionary to create plots\n",
    "for gesture in figure_gesture_dict:\n",
    "    for session_type in figure_gesture_dict[gesture]:\n",
    "        '''\n",
    "        Reads each csv file into a dataframe and then concats all of the indivdual dataframes into one big one for a single gesture.\n",
    "        '''\n",
    "        # Create an empty list to store the dataframes\n",
    "        dfs = []\n",
    "        # Create a dictionary to track the number of sessions for each participant\n",
    "        participant_sessions = {}\n",
    "\n",
    "        for file_num in range(len(session_type)):\n",
    "            # Read the CSV file into a dataframe\n",
    "            df = pd.read_csv(session_type[file_num])\n",
    "            filename = os.path.basename(session_type[file_num])\n",
    "\n",
    "            # Remove any data points that are not triggered by either the left or right trigger\n",
    "            df.drop(df[(df['trigger_pull_amount_left'] == 0) & (df['trigger_pull_amount_right'] == 0)].index, inplace=True)\n",
    "\n",
    "            # Extract the participant number from the file name (specified after \"_subjID_\")\n",
    "            participant_num = int(filename.split(\"_subjID_\")[1].split(\"_\")[0])\n",
    "        \n",
    "            # Check if participant already has sessions\n",
    "            if participant_num in participant_sessions:\n",
    "                session_num = participant_sessions[participant_num] + 1\n",
    "                participant_sessions[participant_num] = session_num\n",
    "            else:\n",
    "                session_num = 1\n",
    "                participant_sessions[participant_num] = session_num\n",
    "        \n",
    "            # Add the participant number as a column in the dataframe\n",
    "            df.insert(0, 'participant_num', participant_num)\n",
    "\n",
    "            # Create a unique identifier for the session\n",
    "            session_identifier = f\"{session_num}\"\n",
    "        \n",
    "            # Add the session identifier as a column in the dataframe\n",
    "            df.insert(0, 'session_identifier', session_identifier)\n",
    "        \n",
    "            # Append the dataframe to the list\n",
    "            dfs.append(df)\n",
    "\n",
    "        # Concatenate all the dataframes into a single dataframe\n",
    "        all_data_for_gesture_DF = pd.concat(dfs)\n",
    "\n",
    "\n",
    "\n",
    "        '''\n",
    "        Groups dataframe by participant and session identifier and creates the figure's subplot template. \n",
    "        '''\n",
    "        # Group the dataframe by participant number and session identifier\n",
    "        grouped_by_participant_session = all_data_for_gesture_DF.groupby(['participant_num', 'session_identifier'])\n",
    "\n",
    "        # Calculate the number of participants and session\n",
    "        num_participants = len(grouped_by_participant_session)\n",
    "\n",
    "        # Each file will have 4 rows and 4 columns. \n",
    "        # 37 visualizations will be split into three files with 16 of them in two files each and 5 in the third file.\n",
    "        rows = cols = 4\n",
    "        page_num = 1                    # The file num that the visualization will be on\n",
    "\n",
    "        # Create a subplot grid figure\n",
    "        fig = make_subplots(rows=rows, cols=cols, subplot_titles=[f'P {participant_num}, S {session_id}' for (participant_num, session_id), _ in grouped_by_participant_session], specs=[[{'type': 'scatter3d'}]*cols]*rows)\n",
    "\n",
    "        # Starting row and column index for subplot\n",
    "        row = 1  \n",
    "        col = 1  \n",
    "\n",
    "        '''\n",
    "        Creates the title and output path for the all_sessions and single_session visualization files.\n",
    "        '''\n",
    "        gesture_name = \"\"\n",
    "        session_name = \"\"\n",
    "        html_file_name = \"\"\n",
    "        single_session_output_path = figures_folder_path + \"\\\\\"\n",
    "        all_sessions_output_path = figures_folder_path + \"\\\\\"\n",
    "        all_sessions_title = \"All Participants By Session \"\n",
    "        \n",
    "        # Splits the first file in the folder by '_' to get the session and gesture type\n",
    "        file = os.path.basename(session_type[0])\n",
    "        session_split = file.split(\"_\")[2]\n",
    "        gesture_split = file.split(\"_\")[3]\n",
    "\n",
    "        # Adds to the output path string\n",
    "        single_session_output_path += gesture_split + '\\\\'\n",
    "        all_sessions_output_path += gesture_split + \"\\\\\"\n",
    "\n",
    "        # Gets the session type and adds to the html output path\n",
    "        if session_split == 'F':\n",
    "            session_name = \"Freeform\"\n",
    "            single_session_output_path += \"Freeform\\\\\"\n",
    "            all_sessions_output_path += \"Freeform\\\\\"\n",
    "        else:\n",
    "            session_name = \"Instructional\"\n",
    "            single_session_output_path += \"Instructional\\\\\"\n",
    "            all_sessions_output_path += \"Instructional\\\\\"\n",
    "\n",
    "        # Iterates through the gesture name. Separates the words with a space for the title and _ for the html output path\n",
    "        for i in range(len(gesture)):\n",
    "            if ((gesture_split[i].isupper() == True) and (i != 0)):\n",
    "                gesture_name += \" \"\n",
    "                html_file_name += \"_\"\n",
    "            gesture_name += gesture[i]   \n",
    "            html_file_name += gesture[i]\n",
    "\n",
    "        '''\n",
    "        Creates and exports visualization figures for all_sessions and single_session, represented by the variables fig and single_fig respectively. \n",
    "\n",
    "        The fig variable will contain all of the grouped by participant session figures. It can only contain up to 16 per file so if the file is full, fig\n",
    "        will be exported to an html and resetted to an empty figure again to be filled by more subplots.\n",
    "\n",
    "        The single_fig variable will be exported to an html after each single grouped by participant session figure has all of their trials traced. Each gesture\n",
    "        will have 74 single_fig exports, 37 for freeform and another 37 for instructional.\n",
    "        '''\n",
    "        # Iterate over the grouped data by participant and session\n",
    "        for i, ((participant_num, session_id), group) in enumerate(grouped_by_participant_session, start=1):\n",
    "            # Single session figure different from all sessions figure, fig.\n",
    "            single_fig = go.Figure()\n",
    "            # Iterate over trials for each participant and session, and add scatter traces\n",
    "            for trial_num, trial_group in group.groupby('gesture_counter'):\n",
    "                # (All Sessions Figure) Add scatter trace for right controller\n",
    "                fig.add_trace(go.Scatter3d(\n",
    "                    x=trial_group['r_controller_translation_x'],\n",
    "                    y=trial_group['r_controller_translation_z'],\n",
    "                    z=trial_group['r_controller_translation_y'],\n",
    "                    mode='markers',\n",
    "                    marker=dict(\n",
    "                        size=2,\n",
    "                        color=trial_group.index,  # set color based on occurrence (use index as a unique identifier)\n",
    "                        colorscale='viridis',  # colorscale\n",
    "                        opacity=0.8,\n",
    "                    ),\n",
    "                    name=f'Trial {trial_num} - Right Controller',\n",
    "                    showlegend=False  # hide legend entry\n",
    "                ), row=row, col=col)\n",
    "                # (All Sessions Figure) Add scatter trace for left controller\n",
    "                fig.add_trace(go.Scatter3d(\n",
    "                    x=trial_group['l_controller_translation_x'],\n",
    "                    y=trial_group['l_controller_translation_z'],\n",
    "                    z=trial_group['l_controller_translation_y'],\n",
    "                    mode='markers',\n",
    "                    marker=dict(\n",
    "                        size=2,\n",
    "                        color=trial_group.index,  # set color based on occurrence (use index as a unique identifier)\n",
    "                        colorscale='sunset_r',  # colorscale (reverse)\n",
    "                        opacity=0.8,\n",
    "                    ),\n",
    "                    name=f'Trial {trial_num} - Left Controller',\n",
    "                    showlegend=False  # hide legend entry\n",
    "                ), row=row, col=col)\n",
    "\n",
    "                # (Single Session Figure) Add scatter trace and color bar for right controller\n",
    "                single_fig.add_trace(go.Scatter3d(\n",
    "                    x=trial_group['r_controller_translation_x'],\n",
    "                    y=trial_group['r_controller_translation_z'],\n",
    "                    z=trial_group['r_controller_translation_y'],\n",
    "                    mode='markers',\n",
    "                    marker=dict(\n",
    "                        size=2,\n",
    "                        color=trial_group.index,  # set color based on occurrence (use index as a unique identifier)\n",
    "                        colorscale='viridis',  # colorscale\n",
    "                        opacity=0.8,\n",
    "                        colorbar=dict(\n",
    "                            title='Right',\n",
    "                            tickvals=[trial_group.index[0], trial_group.index[-1]],\n",
    "                            ticktext=['Start', 'End'],\n",
    "                            len=0.6,\n",
    "                            x=1.0,  # move the color bar to the left (adjust the value as needed)\n",
    "                            y=0.8,\n",
    "                        )\n",
    "                    ),\n",
    "                    name=f'Trial {trial_num} - Right Controller',\n",
    "                    showlegend=False  # hide legend entry\n",
    "                ))\n",
    "                # (Single Session Figure) Add scatter trace and color bar for left controller\n",
    "                single_fig.add_trace(go.Scatter3d(\n",
    "                    x=trial_group['l_controller_translation_x'],\n",
    "                    y=trial_group['l_controller_translation_z'],\n",
    "                    z=trial_group['l_controller_translation_y'],\n",
    "                    mode='markers',\n",
    "                    marker=dict(\n",
    "                        size=2,\n",
    "                        color=trial_group.index,  # set color based on occurrence (use index as a unique identifier)\n",
    "                        colorscale='sunset_r',  # colorscale (reverse)\n",
    "                        opacity=0.8,\n",
    "                        colorbar=dict(\n",
    "                            title='Left',\n",
    "                            tickvals=[trial_group.index[0], trial_group.index[-1]],\n",
    "                            ticktext=['Start', 'End'],\n",
    "                            len=0.6,\n",
    "                            x=.9,  # move the color bar to the left (adjust the value as needed)\n",
    "                            y=0.8,\n",
    "                        )\n",
    "                    ),\n",
    "                    name=f'Trial {trial_num} - Left Controller',\n",
    "                    showlegend=False  # hide legend entry\n",
    "                ))\n",
    "                \n",
    "            '''\n",
    "            Export single_session figure\n",
    "            '''\n",
    "            # Update title for single_session figure\n",
    "            single_session_title = gesture_name + ' (' + session_name + '): Participant ' + str(participant_num) + ' Session ' + session_id\n",
    "            single_fig.update_layout(title_text=single_session_title)\n",
    "            # Create html for single session figure and exports single session figure\n",
    "            temp_single_sess_output_path = single_session_output_path + html_file_name + '_' + session_name + '_Sub' + str(participant_num) + '_Sess' + session_id + '.html'\n",
    "            if not os.path.exists(temp_single_sess_output_path):\n",
    "                pio.write_html(single_fig, file=temp_single_sess_output_path, auto_open=True)\n",
    "\n",
    "\n",
    "            # Update subplot indices for the next participant and session.\n",
    "            col += 1\n",
    "            if col > cols:\n",
    "                col = 1\n",
    "                row += 1\n",
    "\n",
    "            '''\n",
    "            Checks if the file is full for the all_session file (if row is greater than 4).\n",
    "            If it is, current all_sessions file is exported, and the all_sessions figure will be resetted to take in more subplots for the next page\n",
    "            of the file.\n",
    "            '''\n",
    "            if row == 5:\n",
    "                # Update title and output path for all_sessions file\n",
    "                temp_all_sessions_output_path = all_sessions_output_path + html_file_name + '_' + session_name + \"_Sub1_to_Sub26_Session_37_Grid_Page\" + str(page_num) + \".html\"\n",
    "                temp_all_sessions_title = all_sessions_title + gesture_name + \" \" + session_name + \" (Page \" + str(page_num) + \")\"\n",
    "                fig.update_layout(height=1000, width=1000, title_text=temp_all_sessions_title)  # Set the overall title for the figure\n",
    "                # Save the figure as an HTML file\n",
    "                if not os.path.exists(temp_all_sessions_output_path):\n",
    "                    pio.write_html(fig, file=temp_all_sessions_output_path, auto_open=True)\n",
    "\n",
    "                # Create a new subplot grid figure.\n",
    "                # Convert groupedby object into a dataframe to drop rows for grouped by participant session. This is done so that when the 3 different files \n",
    "                # are created for 37 visualizations, the subplot_titles don't restart back to subject 1 but rather where the previous file left off.\n",
    "                end_index = page_num * 16\n",
    "                df_grouped_by_participant_session = grouped_by_participant_session.aggregate(np.sum)\n",
    "                df_grouped_by_participant_session = df_grouped_by_participant_session.drop(df_grouped_by_participant_session.index[0:end_index])\n",
    "                grouped_by_participant_session2 = df_grouped_by_participant_session.groupby(['participant_num', 'session_identifier'])\n",
    "                fig = make_subplots(rows=rows, cols=cols, subplot_titles=[f'P {participant_num}, S {session_id}' for (participant_num, session_id), _ in grouped_by_participant_session2], specs=[[{'type': 'scatter3d'}]*cols]*rows)\n",
    "\n",
    "                # Restarts the new figure at row 1, col 1, and next page.\n",
    "                row = 1\n",
    "                col = 1\n",
    "                page_num += 1\n",
    "\n",
    "                \n",
    "        # Updates and exports the final all_sessions file\n",
    "        temp_all_sessions_output_path = all_sessions_output_path + html_file_name + '_' + session_name + \"_Sub1_to_Sub26_Session_37_Grid_Page\" + str(page_num) + \".html\"\n",
    "        temp_all_sessions_title = all_sessions_title + gesture_name + \" \" + session_name + \" (Page \" + str(page_num) + \")\"\n",
    "        fig.update_layout(height=1000, width=1000, title_text=temp_all_sessions_title)  # Set the overall title for the figure\n",
    "\n",
    "        # Save the figure as an HTML file\n",
    "        if not os.path.exists(temp_all_sessions_output_path):\n",
    "            pio.write_html(fig, file=temp_all_sessions_output_path, auto_open=True)"
   ]
  },
  {
   "cell_type": "markdown",
   "metadata": {},
   "source": [
    "TEESTTTTTTT"
   ]
  },
  {
   "cell_type": "code",
   "execution_count": 33,
   "metadata": {},
   "outputs": [
    {
     "data": {
      "application/vnd.plotly.v1+json": {
       "config": {
        "plotlyServerURL": "https://plot.ly"
       },
       "data": [
        {
         "marker": {
          "colorscale": [
           [
            0,
            "#440154"
           ],
           [
            0.1111111111111111,
            "#482878"
           ],
           [
            0.2222222222222222,
            "#3e4989"
           ],
           [
            0.3333333333333333,
            "#31688e"
           ],
           [
            0.4444444444444444,
            "#26828e"
           ],
           [
            0.5555555555555556,
            "#1f9e89"
           ],
           [
            0.6666666666666666,
            "#35b779"
           ],
           [
            0.7777777777777778,
            "#6ece58"
           ],
           [
            0.8888888888888888,
            "#b5de2b"
           ],
           [
            1,
            "#fde725"
           ]
          ],
          "opacity": 0.8,
          "size": 2
         },
         "mode": "markers",
         "name": "right",
         "showlegend": true,
         "type": "scatter3d",
         "x": [
          0.662,
          0.663,
          0.663,
          0.665,
          0.666,
          0.668,
          0.67,
          0.672,
          0.674,
          0.676,
          0.679,
          0.681,
          0.683,
          0.685,
          0.687,
          0.69,
          0.692,
          0.692,
          0.692,
          0.691,
          0.692,
          0.692,
          0.693,
          0.693,
          0.693,
          0.693,
          0.694,
          0.693,
          0.693,
          0.691,
          0.69,
          0.689,
          0.689,
          0.688,
          0.688,
          0.687,
          0.685,
          0.684,
          0.682,
          0.681,
          0.68,
          0.678,
          0.676,
          0.674,
          0.672,
          0.669,
          0.667,
          0.665,
          0.662,
          0.66,
          0.658,
          0.656,
          0.655,
          0.654,
          0.654,
          0.654,
          0.655,
          0.656,
          0.657,
          0.66,
          0.662,
          0.665,
          0.668,
          0.671,
          0.674
         ],
         "y": [
          0.086,
          0.087,
          0.088,
          0.09,
          0.092,
          0.094,
          0.095,
          0.097,
          0.099,
          0.1,
          0.101,
          0.102,
          0.103,
          0.104,
          0.105,
          0.107,
          0.108,
          0.11,
          0.112,
          0.113,
          0.113,
          0.114,
          0.114,
          0.114,
          0.115,
          0.115,
          0.116,
          0.116,
          0.117,
          0.119,
          0.12,
          0.122,
          0.124,
          0.124,
          0.124,
          0.124,
          0.124,
          0.125,
          0.125,
          0.126,
          0.126,
          0.126,
          0.126,
          0.127,
          0.127,
          0.128,
          0.129,
          0.13,
          0.13,
          0.132,
          0.132,
          0.133,
          0.134,
          0.133,
          0.133,
          0.133,
          0.132,
          0.131,
          0.13,
          0.129,
          0.128,
          0.127,
          0.126,
          0.124,
          0.122
         ],
         "z": [
          1.634,
          1.629,
          1.624,
          1.617,
          1.609,
          1.601,
          1.593,
          1.584,
          1.575,
          1.565,
          1.555,
          1.545,
          1.535,
          1.524,
          1.513,
          1.502,
          1.492,
          1.48,
          1.469,
          1.458,
          1.447,
          1.437,
          1.426,
          1.415,
          1.403,
          1.393,
          1.382,
          1.371,
          1.361,
          1.35,
          1.339,
          1.328,
          1.317,
          1.307,
          1.297,
          1.288,
          1.278,
          1.268,
          1.258,
          1.249,
          1.241,
          1.233,
          1.225,
          1.217,
          1.21,
          1.203,
          1.196,
          1.19,
          1.184,
          1.178,
          1.173,
          1.169,
          1.166,
          1.165,
          1.164,
          1.165,
          1.167,
          1.171,
          1.176,
          1.183,
          1.191,
          1.2,
          1.211,
          1.222,
          1.235
         ]
        },
        {
         "marker": {
          "colorscale": [
           [
            0,
            "rgb(92, 83, 165)"
           ],
           [
            0.16666666666666666,
            "rgb(160, 89, 160)"
           ],
           [
            0.3333333333333333,
            "rgb(206, 102, 147)"
           ],
           [
            0.5,
            "rgb(235, 127, 134)"
           ],
           [
            0.6666666666666666,
            "rgb(248, 160, 126)"
           ],
           [
            0.8333333333333334,
            "rgb(250, 196, 132)"
           ],
           [
            1,
            "rgb(243, 231, 155)"
           ]
          ],
          "opacity": 0.8,
          "size": 2
         },
         "mode": "markers",
         "name": "left",
         "showlegend": true,
         "type": "scatter3d",
         "x": [
          0.671,
          0.672,
          0.672,
          0.673,
          0.674,
          0.674,
          0.676,
          0.677,
          0.679,
          0.68,
          0.682,
          0.684,
          0.686,
          0.687,
          0.689,
          0.69,
          0.692,
          0.694,
          0.695,
          0.695,
          0.696,
          0.695,
          0.695,
          0.695,
          0.695,
          0.694,
          0.693,
          0.693,
          0.692,
          0.692,
          0.692,
          0.692,
          0.691,
          0.689,
          0.687,
          0.686,
          0.684,
          0.683,
          0.682,
          0.68,
          0.679,
          0.677,
          0.675,
          0.674,
          0.673,
          0.672,
          0.671,
          0.67,
          0.669,
          0.669,
          0.669,
          0.669,
          0.669,
          0.669,
          0.67,
          0.67,
          0.671,
          0.673,
          0.674,
          0.676,
          0.678,
          0.68,
          0.682,
          0.684,
          0.686
         ],
         "y": [
          0.253,
          0.253,
          0.252,
          0.252,
          0.251,
          0.25,
          0.249,
          0.249,
          0.249,
          0.249,
          0.249,
          0.25,
          0.25,
          0.25,
          0.25,
          0.25,
          0.25,
          0.251,
          0.251,
          0.251,
          0.25,
          0.25,
          0.249,
          0.249,
          0.248,
          0.247,
          0.246,
          0.245,
          0.244,
          0.244,
          0.244,
          0.243,
          0.242,
          0.24,
          0.238,
          0.236,
          0.234,
          0.233,
          0.232,
          0.231,
          0.229,
          0.228,
          0.228,
          0.227,
          0.227,
          0.226,
          0.224,
          0.224,
          0.223,
          0.223,
          0.224,
          0.223,
          0.223,
          0.224,
          0.225,
          0.226,
          0.227,
          0.229,
          0.23,
          0.232,
          0.233,
          0.235,
          0.235,
          0.236,
          0.237
         ],
         "z": [
          1.624,
          1.62,
          1.617,
          1.613,
          1.606,
          1.6,
          1.594,
          1.586,
          1.579,
          1.571,
          1.563,
          1.555,
          1.546,
          1.537,
          1.527,
          1.517,
          1.506,
          1.497,
          1.487,
          1.476,
          1.466,
          1.454,
          1.443,
          1.433,
          1.422,
          1.411,
          1.4,
          1.389,
          1.378,
          1.367,
          1.356,
          1.344,
          1.333,
          1.321,
          1.31,
          1.299,
          1.287,
          1.276,
          1.265,
          1.254,
          1.243,
          1.232,
          1.222,
          1.212,
          1.201,
          1.191,
          1.181,
          1.171,
          1.162,
          1.154,
          1.146,
          1.139,
          1.134,
          1.132,
          1.132,
          1.133,
          1.136,
          1.14,
          1.146,
          1.154,
          1.163,
          1.173,
          1.184,
          1.195,
          1.209
         ]
        }
       ],
       "layout": {
        "margin": {
         "b": 10,
         "l": 10,
         "r": 20,
         "t": 10
        },
        "scene": {
         "xaxis": {
          "range": [
           -0.782,
           0.696
          ]
         },
         "yaxis": {
          "range": [
           1.132,
           1.634
          ]
         },
         "zaxis": {
          "range": [
           0.086,
           1.624
          ]
         }
        },
        "template": {
         "data": {
          "bar": [
           {
            "error_x": {
             "color": "#2a3f5f"
            },
            "error_y": {
             "color": "#2a3f5f"
            },
            "marker": {
             "line": {
              "color": "#E5ECF6",
              "width": 0.5
             },
             "pattern": {
              "fillmode": "overlay",
              "size": 10,
              "solidity": 0.2
             }
            },
            "type": "bar"
           }
          ],
          "barpolar": [
           {
            "marker": {
             "line": {
              "color": "#E5ECF6",
              "width": 0.5
             },
             "pattern": {
              "fillmode": "overlay",
              "size": 10,
              "solidity": 0.2
             }
            },
            "type": "barpolar"
           }
          ],
          "carpet": [
           {
            "aaxis": {
             "endlinecolor": "#2a3f5f",
             "gridcolor": "white",
             "linecolor": "white",
             "minorgridcolor": "white",
             "startlinecolor": "#2a3f5f"
            },
            "baxis": {
             "endlinecolor": "#2a3f5f",
             "gridcolor": "white",
             "linecolor": "white",
             "minorgridcolor": "white",
             "startlinecolor": "#2a3f5f"
            },
            "type": "carpet"
           }
          ],
          "choropleth": [
           {
            "colorbar": {
             "outlinewidth": 0,
             "ticks": ""
            },
            "type": "choropleth"
           }
          ],
          "contour": [
           {
            "colorbar": {
             "outlinewidth": 0,
             "ticks": ""
            },
            "colorscale": [
             [
              0,
              "#0d0887"
             ],
             [
              0.1111111111111111,
              "#46039f"
             ],
             [
              0.2222222222222222,
              "#7201a8"
             ],
             [
              0.3333333333333333,
              "#9c179e"
             ],
             [
              0.4444444444444444,
              "#bd3786"
             ],
             [
              0.5555555555555556,
              "#d8576b"
             ],
             [
              0.6666666666666666,
              "#ed7953"
             ],
             [
              0.7777777777777778,
              "#fb9f3a"
             ],
             [
              0.8888888888888888,
              "#fdca26"
             ],
             [
              1,
              "#f0f921"
             ]
            ],
            "type": "contour"
           }
          ],
          "contourcarpet": [
           {
            "colorbar": {
             "outlinewidth": 0,
             "ticks": ""
            },
            "type": "contourcarpet"
           }
          ],
          "heatmap": [
           {
            "colorbar": {
             "outlinewidth": 0,
             "ticks": ""
            },
            "colorscale": [
             [
              0,
              "#0d0887"
             ],
             [
              0.1111111111111111,
              "#46039f"
             ],
             [
              0.2222222222222222,
              "#7201a8"
             ],
             [
              0.3333333333333333,
              "#9c179e"
             ],
             [
              0.4444444444444444,
              "#bd3786"
             ],
             [
              0.5555555555555556,
              "#d8576b"
             ],
             [
              0.6666666666666666,
              "#ed7953"
             ],
             [
              0.7777777777777778,
              "#fb9f3a"
             ],
             [
              0.8888888888888888,
              "#fdca26"
             ],
             [
              1,
              "#f0f921"
             ]
            ],
            "type": "heatmap"
           }
          ],
          "heatmapgl": [
           {
            "colorbar": {
             "outlinewidth": 0,
             "ticks": ""
            },
            "colorscale": [
             [
              0,
              "#0d0887"
             ],
             [
              0.1111111111111111,
              "#46039f"
             ],
             [
              0.2222222222222222,
              "#7201a8"
             ],
             [
              0.3333333333333333,
              "#9c179e"
             ],
             [
              0.4444444444444444,
              "#bd3786"
             ],
             [
              0.5555555555555556,
              "#d8576b"
             ],
             [
              0.6666666666666666,
              "#ed7953"
             ],
             [
              0.7777777777777778,
              "#fb9f3a"
             ],
             [
              0.8888888888888888,
              "#fdca26"
             ],
             [
              1,
              "#f0f921"
             ]
            ],
            "type": "heatmapgl"
           }
          ],
          "histogram": [
           {
            "marker": {
             "pattern": {
              "fillmode": "overlay",
              "size": 10,
              "solidity": 0.2
             }
            },
            "type": "histogram"
           }
          ],
          "histogram2d": [
           {
            "colorbar": {
             "outlinewidth": 0,
             "ticks": ""
            },
            "colorscale": [
             [
              0,
              "#0d0887"
             ],
             [
              0.1111111111111111,
              "#46039f"
             ],
             [
              0.2222222222222222,
              "#7201a8"
             ],
             [
              0.3333333333333333,
              "#9c179e"
             ],
             [
              0.4444444444444444,
              "#bd3786"
             ],
             [
              0.5555555555555556,
              "#d8576b"
             ],
             [
              0.6666666666666666,
              "#ed7953"
             ],
             [
              0.7777777777777778,
              "#fb9f3a"
             ],
             [
              0.8888888888888888,
              "#fdca26"
             ],
             [
              1,
              "#f0f921"
             ]
            ],
            "type": "histogram2d"
           }
          ],
          "histogram2dcontour": [
           {
            "colorbar": {
             "outlinewidth": 0,
             "ticks": ""
            },
            "colorscale": [
             [
              0,
              "#0d0887"
             ],
             [
              0.1111111111111111,
              "#46039f"
             ],
             [
              0.2222222222222222,
              "#7201a8"
             ],
             [
              0.3333333333333333,
              "#9c179e"
             ],
             [
              0.4444444444444444,
              "#bd3786"
             ],
             [
              0.5555555555555556,
              "#d8576b"
             ],
             [
              0.6666666666666666,
              "#ed7953"
             ],
             [
              0.7777777777777778,
              "#fb9f3a"
             ],
             [
              0.8888888888888888,
              "#fdca26"
             ],
             [
              1,
              "#f0f921"
             ]
            ],
            "type": "histogram2dcontour"
           }
          ],
          "mesh3d": [
           {
            "colorbar": {
             "outlinewidth": 0,
             "ticks": ""
            },
            "type": "mesh3d"
           }
          ],
          "parcoords": [
           {
            "line": {
             "colorbar": {
              "outlinewidth": 0,
              "ticks": ""
             }
            },
            "type": "parcoords"
           }
          ],
          "pie": [
           {
            "automargin": true,
            "type": "pie"
           }
          ],
          "scatter": [
           {
            "fillpattern": {
             "fillmode": "overlay",
             "size": 10,
             "solidity": 0.2
            },
            "type": "scatter"
           }
          ],
          "scatter3d": [
           {
            "line": {
             "colorbar": {
              "outlinewidth": 0,
              "ticks": ""
             }
            },
            "marker": {
             "colorbar": {
              "outlinewidth": 0,
              "ticks": ""
             }
            },
            "type": "scatter3d"
           }
          ],
          "scattercarpet": [
           {
            "marker": {
             "colorbar": {
              "outlinewidth": 0,
              "ticks": ""
             }
            },
            "type": "scattercarpet"
           }
          ],
          "scattergeo": [
           {
            "marker": {
             "colorbar": {
              "outlinewidth": 0,
              "ticks": ""
             }
            },
            "type": "scattergeo"
           }
          ],
          "scattergl": [
           {
            "marker": {
             "colorbar": {
              "outlinewidth": 0,
              "ticks": ""
             }
            },
            "type": "scattergl"
           }
          ],
          "scattermapbox": [
           {
            "marker": {
             "colorbar": {
              "outlinewidth": 0,
              "ticks": ""
             }
            },
            "type": "scattermapbox"
           }
          ],
          "scatterpolar": [
           {
            "marker": {
             "colorbar": {
              "outlinewidth": 0,
              "ticks": ""
             }
            },
            "type": "scatterpolar"
           }
          ],
          "scatterpolargl": [
           {
            "marker": {
             "colorbar": {
              "outlinewidth": 0,
              "ticks": ""
             }
            },
            "type": "scatterpolargl"
           }
          ],
          "scatterternary": [
           {
            "marker": {
             "colorbar": {
              "outlinewidth": 0,
              "ticks": ""
             }
            },
            "type": "scatterternary"
           }
          ],
          "surface": [
           {
            "colorbar": {
             "outlinewidth": 0,
             "ticks": ""
            },
            "colorscale": [
             [
              0,
              "#0d0887"
             ],
             [
              0.1111111111111111,
              "#46039f"
             ],
             [
              0.2222222222222222,
              "#7201a8"
             ],
             [
              0.3333333333333333,
              "#9c179e"
             ],
             [
              0.4444444444444444,
              "#bd3786"
             ],
             [
              0.5555555555555556,
              "#d8576b"
             ],
             [
              0.6666666666666666,
              "#ed7953"
             ],
             [
              0.7777777777777778,
              "#fb9f3a"
             ],
             [
              0.8888888888888888,
              "#fdca26"
             ],
             [
              1,
              "#f0f921"
             ]
            ],
            "type": "surface"
           }
          ],
          "table": [
           {
            "cells": {
             "fill": {
              "color": "#EBF0F8"
             },
             "line": {
              "color": "white"
             }
            },
            "header": {
             "fill": {
              "color": "#C8D4E3"
             },
             "line": {
              "color": "white"
             }
            },
            "type": "table"
           }
          ]
         },
         "layout": {
          "annotationdefaults": {
           "arrowcolor": "#2a3f5f",
           "arrowhead": 0,
           "arrowwidth": 1
          },
          "autotypenumbers": "strict",
          "coloraxis": {
           "colorbar": {
            "outlinewidth": 0,
            "ticks": ""
           }
          },
          "colorscale": {
           "diverging": [
            [
             0,
             "#8e0152"
            ],
            [
             0.1,
             "#c51b7d"
            ],
            [
             0.2,
             "#de77ae"
            ],
            [
             0.3,
             "#f1b6da"
            ],
            [
             0.4,
             "#fde0ef"
            ],
            [
             0.5,
             "#f7f7f7"
            ],
            [
             0.6,
             "#e6f5d0"
            ],
            [
             0.7,
             "#b8e186"
            ],
            [
             0.8,
             "#7fbc41"
            ],
            [
             0.9,
             "#4d9221"
            ],
            [
             1,
             "#276419"
            ]
           ],
           "sequential": [
            [
             0,
             "#0d0887"
            ],
            [
             0.1111111111111111,
             "#46039f"
            ],
            [
             0.2222222222222222,
             "#7201a8"
            ],
            [
             0.3333333333333333,
             "#9c179e"
            ],
            [
             0.4444444444444444,
             "#bd3786"
            ],
            [
             0.5555555555555556,
             "#d8576b"
            ],
            [
             0.6666666666666666,
             "#ed7953"
            ],
            [
             0.7777777777777778,
             "#fb9f3a"
            ],
            [
             0.8888888888888888,
             "#fdca26"
            ],
            [
             1,
             "#f0f921"
            ]
           ],
           "sequentialminus": [
            [
             0,
             "#0d0887"
            ],
            [
             0.1111111111111111,
             "#46039f"
            ],
            [
             0.2222222222222222,
             "#7201a8"
            ],
            [
             0.3333333333333333,
             "#9c179e"
            ],
            [
             0.4444444444444444,
             "#bd3786"
            ],
            [
             0.5555555555555556,
             "#d8576b"
            ],
            [
             0.6666666666666666,
             "#ed7953"
            ],
            [
             0.7777777777777778,
             "#fb9f3a"
            ],
            [
             0.8888888888888888,
             "#fdca26"
            ],
            [
             1,
             "#f0f921"
            ]
           ]
          },
          "colorway": [
           "#636efa",
           "#EF553B",
           "#00cc96",
           "#ab63fa",
           "#FFA15A",
           "#19d3f3",
           "#FF6692",
           "#B6E880",
           "#FF97FF",
           "#FECB52"
          ],
          "font": {
           "color": "#2a3f5f"
          },
          "geo": {
           "bgcolor": "white",
           "lakecolor": "white",
           "landcolor": "#E5ECF6",
           "showlakes": true,
           "showland": true,
           "subunitcolor": "white"
          },
          "hoverlabel": {
           "align": "left"
          },
          "hovermode": "closest",
          "mapbox": {
           "style": "light"
          },
          "paper_bgcolor": "white",
          "plot_bgcolor": "#E5ECF6",
          "polar": {
           "angularaxis": {
            "gridcolor": "white",
            "linecolor": "white",
            "ticks": ""
           },
           "bgcolor": "#E5ECF6",
           "radialaxis": {
            "gridcolor": "white",
            "linecolor": "white",
            "ticks": ""
           }
          },
          "scene": {
           "xaxis": {
            "backgroundcolor": "#E5ECF6",
            "gridcolor": "white",
            "gridwidth": 2,
            "linecolor": "white",
            "showbackground": true,
            "ticks": "",
            "zerolinecolor": "white"
           },
           "yaxis": {
            "backgroundcolor": "#E5ECF6",
            "gridcolor": "white",
            "gridwidth": 2,
            "linecolor": "white",
            "showbackground": true,
            "ticks": "",
            "zerolinecolor": "white"
           },
           "zaxis": {
            "backgroundcolor": "#E5ECF6",
            "gridcolor": "white",
            "gridwidth": 2,
            "linecolor": "white",
            "showbackground": true,
            "ticks": "",
            "zerolinecolor": "white"
           }
          },
          "shapedefaults": {
           "line": {
            "color": "#2a3f5f"
           }
          },
          "ternary": {
           "aaxis": {
            "gridcolor": "white",
            "linecolor": "white",
            "ticks": ""
           },
           "baxis": {
            "gridcolor": "white",
            "linecolor": "white",
            "ticks": ""
           },
           "bgcolor": "#E5ECF6",
           "caxis": {
            "gridcolor": "white",
            "linecolor": "white",
            "ticks": ""
           }
          },
          "title": {
           "x": 0.05
          },
          "xaxis": {
           "automargin": true,
           "gridcolor": "white",
           "linecolor": "white",
           "ticks": "",
           "title": {
            "standoff": 15
           },
           "zerolinecolor": "white",
           "zerolinewidth": 2
          },
          "yaxis": {
           "automargin": true,
           "gridcolor": "white",
           "linecolor": "white",
           "ticks": "",
           "title": {
            "standoff": 15
           },
           "zerolinecolor": "white",
           "zerolinewidth": 2
          }
         }
        },
        "width": 700
       }
      }
     },
     "metadata": {},
     "output_type": "display_data"
    }
   ],
   "source": [
    "# Can make a dataframe list, iterate through it to find the min\n",
    "\n",
    "def drop_df(df, trial_num):\n",
    "    df.drop(df[(df[\"trigger_pull_amount_right\"] == 0) & (df[\"trigger_pull_amount_left\"] == 0)].index, inplace=True)\n",
    "    df.drop(df[(df['gesture_counter_UI']) != trial_num].index, inplace=True)\n",
    "    df.reset_index(drop=True, inplace=True)\n",
    "\n",
    "path_sess1 = 'C:\\\\Users\\\\vrelax\\\\Desktop\\\\VRelax\\\\gestureInterface\\\\CleanedData\\\\Sub11\\\\Freeform_Sub11_Sess1\\\\cleaned_session_F_PanDown_subjID_11_05-10-23_03-50-41.csv'\n",
    "path_sess2 = 'C:\\\\Users\\\\vrelax\\\\Desktop\\\\VRelax\\\\gestureInterface\\\\CleanedData\\\\Sub11\\\\Freeform_Sub11_Sess2\\\\cleaned_session_F_PanDown_subjID_11_06-05-23_03-21-59.csv'\n",
    "\n",
    "# Gets new df\n",
    "df_sess1 = pd.read_csv(path_sess1)\n",
    "df_sess2 = pd.read_csv(path_sess2)\n",
    "drop_df(df_sess1, 1)\n",
    "drop_df(df_sess2, 1)\n",
    "\n",
    "df_list = [df_sess1, df_sess2]\n",
    "\n",
    "# Get the minimum x, y, z value range\n",
    "min_X = 0.0\n",
    "min_Y = 0.0\n",
    "min_Z = 0.0\n",
    "max_X = 0.0\n",
    "max_Y = 0.0\n",
    "max_Z = 0.0\n",
    "for df_num in range(len(df_list)):\n",
    "    # Set initial min if first dataframe in iteration.\n",
    "    if df_num == 0:\n",
    "        # For min value\n",
    "        if df_list[df_num]['l_controller_translation_x'].min() > df_list[df_num]['r_controller_translation_x'].min():\n",
    "            min_X = df_list[df_num]['r_controller_translation_x'].min()\n",
    "        else:\n",
    "            min_X = df_list[df_num]['l_controller_translation_x'].min()\n",
    "\n",
    "        if df_list[df_num]['l_controller_translation_y'].min() > df_list[df_num]['r_controller_translation_y'].min():\n",
    "            min_Y = df_list[df_num]['r_controller_translation_y'].min()\n",
    "        else:\n",
    "            min_Y = df_list[df_num]['l_controller_translation_y'].min()\n",
    "\n",
    "        if df_list[df_num]['l_controller_translation_z'].min() > df_list[df_num]['r_controller_translation_z'].min():\n",
    "            min_Z = df_list[df_num]['r_controller_translation_z'].min()\n",
    "        else:\n",
    "            min_Z = df_list[df_num]['l_controller_translation_z'].min()\n",
    "\n",
    "    \n",
    "        # For max value\n",
    "        if df_list[df_num]['l_controller_translation_x'].max() > df_list[df_num]['r_controller_translation_x'].max():\n",
    "            max_X = df_list[df_num]['l_controller_translation_x'].max()\n",
    "        else:\n",
    "            max_X = df_list[df_num]['r_controller_translation_x'].max()\n",
    "\n",
    "        if df_list[df_num]['l_controller_translation_y'].max() > df_list[df_num]['r_controller_translation_y'].max():\n",
    "            max_Y = df_list[df_num]['l_controller_translation_y'].max()\n",
    "        else:\n",
    "            max_Y = df_list[df_num]['r_controller_translation_y'].max()\n",
    "\n",
    "        if df_list[df_num]['l_controller_translation_z'].max() > df_list[df_num]['r_controller_translation_z'].max():\n",
    "            max_Z = df_list[df_num]['l_controller_translation_z'].max()\n",
    "        else:\n",
    "            max_Z = df_list[df_num]['r_controller_translation_z'].max()\n",
    "        \n",
    "        continue\n",
    "\n",
    "    # Update min if current dataframe has a smaller or bigger x/y/z value.\n",
    "    if df_list[df_num]['r_controller_translation_x'].min() < min_X:\n",
    "        min_X = df_list[df_num]['r_controller_translation_x'].min()\n",
    "    if df_list[df_num]['l_controller_translation_x'].min() < min_X:\n",
    "        min_X = df_list[df_num]['l_controller_translation_x'].min()\n",
    "    if df_list[df_num]['r_controller_translation_y'].min() < min_Y:\n",
    "        min_Y = df_list[df_num]['r_controller_translation_y'].min()\n",
    "    if df_list[df_num]['l_controller_translation_y'].min() < min_Y:\n",
    "        min_Y = df_list[df_num]['l_controller_translation_y'].min()\n",
    "    if df_list[df_num]['r_controller_translation_z'].min() < min_Z:\n",
    "        min_Z = df_list[df_num]['r_controller_translation_z'].min()\n",
    "    if df_list[df_num]['l_controller_translation_y'].min() < min_Z:\n",
    "        min_Z = df_list[df_num]['l_controller_translation_z'].min()\n",
    "\n",
    "    if df_list[df_num]['r_controller_translation_x'].max() > max_X:\n",
    "        max_X = df_list[df_num]['r_controller_translation_x'].max()\n",
    "    if df_list[df_num]['l_controller_translation_x'].max() > max_X:\n",
    "        max_X = df_list[df_num]['l_controller_translation_x'].max()\n",
    "    if df_list[df_num]['r_controller_translation_y'].max() > max_Y:\n",
    "        max_Y = df_list[df_num]['r_controller_translation_y'].max()\n",
    "    if df_list[df_num]['l_controller_translation_y'].max() > max_Y:\n",
    "        max_Y = df_list[df_num]['l_controller_translation_y'].max()\n",
    "    if df_list[df_num]['r_controller_translation_z'].max() > max_Z:\n",
    "        max_Z = df_list[df_num]['r_controller_translation_z'].max()\n",
    "    if df_list[df_num]['l_controller_translation_y'].max() > max_Z:\n",
    "        max_Z = df_list[df_num]['l_controller_translation_y'].max()\n",
    "\n",
    "\n",
    "'''\n",
    "fig1 = go.Figure()\n",
    "sess1_X = df_sess1['r_controller_translation_x']\n",
    "sess1_Y = df_sess1['r_controller_translation_y']\n",
    "sess1_Z = df_sess1['r_controller_translation_z']\n",
    "\n",
    "fig1.add_trace(go.Scatter3d(\n",
    "    x = sess1_X,\n",
    "    y = sess1_Z,\n",
    "    z = sess1_Y,\n",
    "    mode='markers',\n",
    "    marker=dict(\n",
    "        size=2,\n",
    "        colorscale='viridis',  # colorscale\n",
    "        opacity=0.8,\n",
    "    ),\n",
    "    name='Sess1',\n",
    "    showlegend=False)\n",
    ")\n",
    "\n",
    "output_path = 'C:\\\\Users\\\\vrelax\\\\Desktop\\\\VRelax\\\\gestureInterface\\\\test1.html'\n",
    "if not os.path.exists(output_path):\n",
    "    pio.write_html(fig1, file=output_path, auto_open=True)\n",
    "'''\n",
    "\n",
    "fig2 = go.Figure()\n",
    "sess2_rX = df_sess2['r_controller_translation_x']\n",
    "sess2_rY = df_sess2['r_controller_translation_y']\n",
    "sess2_rZ = df_sess2['r_controller_translation_z']\n",
    "sess2_lX = df_sess2['l_controller_translation_x']\n",
    "sess2_lY = df_sess2['l_controller_translation_y']\n",
    "sess2_lZ = df_sess2['l_controller_translation_z']\n",
    "\n",
    "fig2.add_trace(go.Scatter3d(\n",
    "    x = sess2_rX,\n",
    "    y = sess2_rZ,\n",
    "    z = sess2_rY,\n",
    "    mode='markers',\n",
    "    marker=dict(\n",
    "        size=2,\n",
    "        colorscale='viridis',  # colorscale\n",
    "        opacity=0.8,\n",
    "    ),\n",
    "    name='right',\n",
    "    showlegend=True)\n",
    ")\n",
    "fig2.add_trace(go.Scatter3d(\n",
    "    x = sess2_lX,\n",
    "    y = sess2_lZ,\n",
    "    z = sess2_lY,\n",
    "    mode='markers',\n",
    "    marker=dict(\n",
    "        size=2,\n",
    "        colorscale='sunset_r',  # colorscale\n",
    "        opacity=0.8,\n",
    "    ),\n",
    "    name='left',\n",
    "    showlegend=True)\n",
    ")\n",
    "\n",
    "\n",
    "#fig2.update_layout(title_text='Sess2', xaxis_range=[min_X, max_X], yaxis_range=[min_Y, max_Y])\n",
    "\n",
    "fig2.update_layout(\n",
    "    scene = dict(\n",
    "        xaxis = dict(range=[min_X,max_X],),\n",
    "        yaxis = dict(range=[min_Y,max_Y],),\n",
    "        zaxis = dict(range=[min_Z,max_Z],),),\n",
    "    width=700,\n",
    "    margin=dict(r=20, l=10, b=10, t=10\n",
    "    )\n",
    ")\n",
    "\n",
    "\n",
    "\n",
    "fig2.show()\n",
    "\n",
    "output_path = 'C:\\\\Users\\\\vrelax\\\\Desktop\\\\VRelax\\\\gestureInterface\\\\test2.html'\n",
    "#if not os.path.exists(output_path):\n",
    "    #pio.write_html(fig2, file=output_path, auto_open=True)"
   ]
  }
 ],
 "metadata": {
  "kernelspec": {
   "display_name": "Python 3",
   "language": "python",
   "name": "python3"
  },
  "language_info": {
   "codemirror_mode": {
    "name": "ipython",
    "version": 3
   },
   "file_extension": ".py",
   "mimetype": "text/x-python",
   "name": "python",
   "nbconvert_exporter": "python",
   "pygments_lexer": "ipython3",
   "version": "3.9.13"
  },
  "orig_nbformat": 4
 },
 "nbformat": 4,
 "nbformat_minor": 2
}
