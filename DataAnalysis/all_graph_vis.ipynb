{
 "cells": [
  {
   "attachments": {},
   "cell_type": "markdown",
   "metadata": {},
   "source": [
    "Overview: This script creates visualizations for the gesture data. It outputs two type of html files: a figure for a single participant session or a matrix plot for a single gesture, which groups together several participant session figures onto one file. These files can be identified with the following html format:\n",
    "    - single figure: (gesturetype)_(sessiontype)_Sub(subjectnumber)_Sess(sessionnumber)\n",
    "        - Ex) Pan_Down_Freeform_Sub1_Sess1\n",
    "    - all figures: (gesturetype)_(sessiontype)_Sub(firstsubjectnumber)_to_Sub(lastsubjectnumber)_Session_(totalnumberofparticipantsessions)_Grid_Page(pagenum)\n",
    "        - Ex) Pan_Down_Freeform_Sub1_to_Sub26_Session_37_Grid_Page1\n",
    "\n",
    "This tool utilizes the first code block for importing libraries and the two bottom code blocks to generate the visuals and requires the pandas and os libraries to be installed to run properly.\n",
    "\n",
    "Read markdown for bottom two code blocks for more details and requirements."
   ]
  },
  {
   "cell_type": "code",
   "execution_count": 2,
   "metadata": {},
   "outputs": [],
   "source": [
    "# import necessary packages\n",
    "import warnings\n",
    "warnings.filterwarnings('ignore')\n",
    "\n",
    "import pandas as pd\n",
    "import numpy as np\n",
    "from plotnine import *\n",
    "import statsmodels.api as sm\n",
    "\n",
    "from sklearn.linear_model import LinearRegression # Linear Regression Model\n",
    "from sklearn.preprocessing import StandardScaler # Z-score variables\n",
    "from sklearn.preprocessing import MinMaxScaler # Min-Max Normalization\n",
    "\n",
    "from sklearn.model_selection import train_test_split # simple TT split cv\n",
    "\n",
    "from mpl_toolkits.mplot3d import Axes3D\n",
    "import matplotlib.pyplot as plt\n",
    "\n",
    "import plotly.graph_objects as go\n",
    "from plotly.subplots import make_subplots\n",
    "import plotly.io as pio\n",
    "\n",
    "import os"
   ]
  },
  {
   "cell_type": "code",
   "execution_count": 3,
   "metadata": {},
   "outputs": [
    {
     "ename": "FileNotFoundError",
     "evalue": "[WinError 3] The system cannot find the path specified: '../AllData/F_RotForwardX'",
     "output_type": "error",
     "traceback": [
      "\u001b[1;31m---------------------------------------------------------------------------\u001b[0m",
      "\u001b[1;31mFileNotFoundError\u001b[0m                         Traceback (most recent call last)",
      "Cell \u001b[1;32mIn[3], line 8\u001b[0m\n\u001b[0;32m      5\u001b[0m dfs \u001b[39m=\u001b[39m []\n\u001b[0;32m      7\u001b[0m \u001b[39m# Iterate over the files in the folder\u001b[39;00m\n\u001b[1;32m----> 8\u001b[0m \u001b[39mfor\u001b[39;00m filename \u001b[39min\u001b[39;00m os\u001b[39m.\u001b[39;49mlistdir(data_folder):\n\u001b[0;32m      9\u001b[0m     \u001b[39mif\u001b[39;00m filename\u001b[39m.\u001b[39mendswith(\u001b[39m\"\u001b[39m\u001b[39m.csv\u001b[39m\u001b[39m\"\u001b[39m):\n\u001b[0;32m     10\u001b[0m         \u001b[39m# Read the CSV file into a dataframe\u001b[39;00m\n\u001b[0;32m     11\u001b[0m         df \u001b[39m=\u001b[39m pd\u001b[39m.\u001b[39mread_csv(os\u001b[39m.\u001b[39mpath\u001b[39m.\u001b[39mjoin(data_folder, filename))\n",
      "\u001b[1;31mFileNotFoundError\u001b[0m: [WinError 3] The system cannot find the path specified: '../AllData/F_RotForwardX'"
     ]
    }
   ],
   "source": [
    "# Iterate through each CSV file in the specified folder\n",
    "data_folder = \"../AllData/F_RotForwardX\"\n",
    "\n",
    "# Create an empty list to store the dataframes\n",
    "dfs = []\n",
    "\n",
    "# Iterate over the files in the folder\n",
    "for filename in os.listdir(data_folder):\n",
    "    if filename.endswith(\".csv\"):\n",
    "        # Read the CSV file into a dataframe\n",
    "        df = pd.read_csv(os.path.join(data_folder, filename))\n",
    "\n",
    "        # Remove any data points that are not triggered by either the left or right trigger\n",
    "        df.drop(df[(df['trigger_pull_amount_left'] == 0) & (df['trigger_pull_amount_right'] == 0)].index, inplace=True)\n",
    "        \n",
    "        # Extract the participant number from the file name (specified after \"_subjID_\")\n",
    "        participant_num = int(filename.split(\"_subjID_\")[1].split(\"_\")[0])\n",
    "        \n",
    "        # Add the participant number as a column in the dataframe\n",
    "        df.insert(0, 'participant_num', participant_num)\n",
    "        \n",
    "        # Append the dataframe to the list\n",
    "        dfs.append(df)\n",
    "\n",
    "# Concatenate all the dataframes into a single dataframe\n",
    "all_F_rot_for_x_DF = pd.concat(dfs)\n",
    "\n",
    "# Print the shape of the combined dataframe\n",
    "print(all_F_rot_for_x_DF.shape)"
   ]
  },
  {
   "cell_type": "code",
   "execution_count": 17,
   "metadata": {},
   "outputs": [],
   "source": [
    "# Group the dataframe by participant number\n",
    "grouped_by_participant = all_F_rot_for_x_DF.groupby('participant_num')\n",
    "\n",
    "# Calculate the number of participants\n",
    "num_participants = len(grouped_by_participant)\n",
    "\n",
    "# Calculate the number of rows and columns based on the number of participants (sqrt number of participants and add 1)\n",
    "rows = cols = int(num_participants ** 0.5) + 1 \n",
    "\n",
    "# Create a subplot grid figure\n",
    "fig = make_subplots(rows=rows, cols=cols, subplot_titles=[f'Participant {participant_num}' for participant_num, _ in grouped_by_participant], specs=[[{'type': 'scatter3d'}]*cols]*rows)\n",
    "\n",
    "row = 1  # Starting row index for subplot\n",
    "col = 1  # Starting column index for subplot\n",
    "\n",
    "# Iterate over the grouped data by participant\n",
    "for i, (participant_num, group) in enumerate(grouped_by_participant, start=1):\n",
    "    # Iterate over trials and add scatter traces\n",
    "    for trial_num, trial_group in group.groupby('gesture_counter'):\n",
    "        fig.add_trace(go.Scatter3d(\n",
    "            x=trial_group['r_controller_translation_x'],\n",
    "            y=trial_group['r_controller_translation_z'],\n",
    "            z=trial_group['r_controller_translation_y'],\n",
    "            mode='markers',\n",
    "            marker=dict(\n",
    "                size=2,\n",
    "                color=trial_group.index,  # set color based on occurrence (use index as a unique identifier)\n",
    "                colorscale='viridis',  # colorscale\n",
    "                opacity=0.8,\n",
    "            ),\n",
    "            name=f'Trial {trial_num} - Right Controller',\n",
    "            showlegend=False  # hide legend entry\n",
    "        ), row=row, col=col)\n",
    "        \n",
    "        fig.add_trace(go.Scatter3d(\n",
    "            x=trial_group['l_controller_translation_x'],\n",
    "            y=trial_group['l_controller_translation_z'],\n",
    "            z=trial_group['l_controller_translation_y'],\n",
    "            mode='markers',\n",
    "            marker=dict(\n",
    "                size=2,\n",
    "                color=trial_group.index,  # set color based on occurrence (use index as a unique identifier)\n",
    "                colorscale='sunset_r',  # colorscale (reverse)\n",
    "                opacity=0.8,\n",
    "            ),\n",
    "            name=f'Trial {trial_num} - Left Controller',\n",
    "            showlegend=False  # hide legend entry\n",
    "        ), row=row, col=col)\n",
    "        \n",
    "    # Update subplot indices for the next participant\n",
    "    col += 1\n",
    "    if col > cols:\n",
    "        col = 1\n",
    "        row += 1\n",
    "\n",
    "# Set overall title for the figure\n",
    "fig.update_layout(height=1000, width=1000, title_text='All Participants Rotate Forward (Freeform)') \n",
    "# fig.show()\n",
    "\n",
    "# Specify output file path\n",
    "output_path = \"../Figures/Rot_For_X_Sub_1_to_26_Grid.html\"\n",
    "\n",
    "# Save figure as an HTML file\n",
    "pio.write_html(fig, file=output_path, auto_open=True)"
   ]
  },
  {
   "cell_type": "code",
   "execution_count": 19,
   "metadata": {},
   "outputs": [],
   "source": [
    "# Iterate through each CSV file in the specified folder\n",
    "data_folder = \"../AllData/F_RotForwardX\"\n",
    "\n",
    "# Create an empty list to store the dataframes\n",
    "dfs = []\n",
    "\n",
    "# Create a dictionary to track the number of sessions for each participant\n",
    "participant_sessions = {}\n",
    "\n",
    "# Iterate over the files in the folder\n",
    "for filename in os.listdir(data_folder):\n",
    "    if filename.endswith(\".csv\"):\n",
    "        # Read the CSV file into a dataframe\n",
    "        df = pd.read_csv(os.path.join(data_folder, filename))\n",
    "\n",
    "        # Remove any data points that are not triggered by either the left or right trigger\n",
    "        df.drop(df[(df['trigger_pull_amount_left'] == 0) & (df['trigger_pull_amount_right'] == 0)].index, inplace=True)\n",
    "\n",
    "        # Extract the participant number from the file name (specified after \"_subjID_\")\n",
    "        participant_num = int(filename.split(\"_subjID_\")[1].split(\"_\")[0])\n",
    "        \n",
    "        # Check if participant already has sessions\n",
    "        if participant_num in participant_sessions:\n",
    "            session_num = participant_sessions[participant_num] + 1\n",
    "            participant_sessions[participant_num] = session_num\n",
    "        else:\n",
    "            session_num = 1\n",
    "            participant_sessions[participant_num] = session_num\n",
    "        \n",
    "        # Add the participant number as a column in the dataframe\n",
    "        df.insert(0, 'participant_num', participant_num)\n",
    "\n",
    "        # Create a unique identifier for the session\n",
    "        session_identifier = f\"{session_num}\"\n",
    "        \n",
    "        # Add the session identifier as a column in the dataframe\n",
    "        df.insert(0, 'session_identifier', session_identifier)\n",
    "        \n",
    "        # Append the dataframe to the list\n",
    "        dfs.append(df)\n",
    "\n",
    "# Concatenate all the dataframes into a single dataframe\n",
    "all_F_rot_for_x_DF = pd.concat(dfs)\n",
    "\n",
    "# Print the shape of the combined dataframe\n",
    "print(all_F_rot_for_x_DF.shape)"
   ]
  },
  {
   "cell_type": "code",
   "execution_count": 29,
   "metadata": {},
   "outputs": [
    {
     "ename": "ValueError",
     "evalue": "\nThe 'specs' argument to make_subplots must be a 2D list of dictionaries with dimensions (1 x 1).\n    Received value of type <class 'list'>: [[{'type': 'scatter3d'}, {'type': 'scatter3d'}, {'type': 'scatter3d'}, {'type': 'scatter3d'}], [{'type': 'scatter3d'}, {'type': 'scatter3d'}, {'type': 'scatter3d'}, {'type': 'scatter3d'}], [{'type': 'scatter3d'}, {'type': 'scatter3d'}, {'type': 'scatter3d'}, {'type': 'scatter3d'}], [{'type': 'scatter3d'}, {'type': 'scatter3d'}, {'type': 'scatter3d'}, {'type': 'scatter3d'}]]",
     "output_type": "error",
     "traceback": [
      "\u001b[1;31m---------------------------------------------------------------------------\u001b[0m",
      "\u001b[1;31mValueError\u001b[0m                                Traceback (most recent call last)",
      "\u001b[1;32m~\\AppData\\Local\\Temp\\ipykernel_22256\\630957393.py\u001b[0m in \u001b[0;36m<module>\u001b[1;34m\u001b[0m\n\u001b[0;32m     15\u001b[0m \u001b[1;32mfor\u001b[0m \u001b[0mi\u001b[0m\u001b[1;33m,\u001b[0m \u001b[1;33m(\u001b[0m\u001b[1;33m(\u001b[0m\u001b[0mparticipant_num\u001b[0m\u001b[1;33m,\u001b[0m \u001b[0msession_id\u001b[0m\u001b[1;33m)\u001b[0m\u001b[1;33m,\u001b[0m \u001b[0mgroup\u001b[0m\u001b[1;33m)\u001b[0m \u001b[1;32min\u001b[0m \u001b[0menumerate\u001b[0m\u001b[1;33m(\u001b[0m\u001b[0mgrouped_by_participant_session\u001b[0m\u001b[1;33m,\u001b[0m \u001b[0mstart\u001b[0m\u001b[1;33m=\u001b[0m\u001b[1;36m1\u001b[0m\u001b[1;33m)\u001b[0m\u001b[1;33m:\u001b[0m\u001b[1;33m\u001b[0m\u001b[1;33m\u001b[0m\u001b[0m\n\u001b[0;32m     16\u001b[0m     \u001b[1;31m# Create a subplot grid figure\u001b[0m\u001b[1;33m\u001b[0m\u001b[1;33m\u001b[0m\u001b[0m\n\u001b[1;32m---> 17\u001b[1;33m     \u001b[0mfig\u001b[0m \u001b[1;33m=\u001b[0m \u001b[0mmake_subplots\u001b[0m\u001b[1;33m(\u001b[0m\u001b[0mrows\u001b[0m\u001b[1;33m=\u001b[0m\u001b[0mrow\u001b[0m\u001b[1;33m,\u001b[0m \u001b[0mcols\u001b[0m\u001b[1;33m=\u001b[0m\u001b[0mcol\u001b[0m\u001b[1;33m,\u001b[0m \u001b[0msubplot_titles\u001b[0m\u001b[1;33m=\u001b[0m\u001b[1;33m[\u001b[0m\u001b[1;34mf'P {participant_num}, S {session_id}'\u001b[0m \u001b[1;32mfor\u001b[0m \u001b[1;33m(\u001b[0m\u001b[0mparticipant_num\u001b[0m\u001b[1;33m,\u001b[0m \u001b[0msession_id\u001b[0m\u001b[1;33m)\u001b[0m\u001b[1;33m,\u001b[0m \u001b[0m_\u001b[0m \u001b[1;32min\u001b[0m \u001b[0mgrouped_by_participant_session\u001b[0m\u001b[1;33m]\u001b[0m\u001b[1;33m,\u001b[0m \u001b[0mspecs\u001b[0m\u001b[1;33m=\u001b[0m\u001b[1;33m[\u001b[0m\u001b[1;33m[\u001b[0m\u001b[1;33m{\u001b[0m\u001b[1;34m'type'\u001b[0m\u001b[1;33m:\u001b[0m \u001b[1;34m'scatter3d'\u001b[0m\u001b[1;33m}\u001b[0m\u001b[1;33m]\u001b[0m\u001b[1;33m*\u001b[0m\u001b[0mcols\u001b[0m\u001b[1;33m]\u001b[0m\u001b[1;33m*\u001b[0m\u001b[0mrows\u001b[0m\u001b[1;33m)\u001b[0m\u001b[1;33m\u001b[0m\u001b[1;33m\u001b[0m\u001b[0m\n\u001b[0m\u001b[0;32m     18\u001b[0m     \u001b[1;31m# Iterate over trials for each participant and session, and add scatter traces\u001b[0m\u001b[1;33m\u001b[0m\u001b[1;33m\u001b[0m\u001b[0m\n\u001b[0;32m     19\u001b[0m     \u001b[1;32mfor\u001b[0m \u001b[0mtrial_num\u001b[0m\u001b[1;33m,\u001b[0m \u001b[0mtrial_group\u001b[0m \u001b[1;32min\u001b[0m \u001b[0mgroup\u001b[0m\u001b[1;33m.\u001b[0m\u001b[0mgroupby\u001b[0m\u001b[1;33m(\u001b[0m\u001b[1;34m'gesture_counter'\u001b[0m\u001b[1;33m)\u001b[0m\u001b[1;33m:\u001b[0m\u001b[1;33m\u001b[0m\u001b[1;33m\u001b[0m\u001b[0m\n",
      "\u001b[1;32mc:\\Users\\vrelax\\anaconda3\\lib\\site-packages\\plotly\\subplots.py\u001b[0m in \u001b[0;36mmake_subplots\u001b[1;34m(rows, cols, shared_xaxes, shared_yaxes, start_cell, print_grid, horizontal_spacing, vertical_spacing, subplot_titles, column_widths, row_heights, specs, insets, column_titles, row_titles, x_title, y_title, figure, **kwargs)\u001b[0m\n\u001b[0;32m    303\u001b[0m     \"\"\"\n\u001b[0;32m    304\u001b[0m \u001b[1;33m\u001b[0m\u001b[0m\n\u001b[1;32m--> 305\u001b[1;33m     return _sub.make_subplots(\n\u001b[0m\u001b[0;32m    306\u001b[0m         \u001b[0mrows\u001b[0m\u001b[1;33m,\u001b[0m\u001b[1;33m\u001b[0m\u001b[1;33m\u001b[0m\u001b[0m\n\u001b[0;32m    307\u001b[0m         \u001b[0mcols\u001b[0m\u001b[1;33m,\u001b[0m\u001b[1;33m\u001b[0m\u001b[1;33m\u001b[0m\u001b[0m\n",
      "\u001b[1;32mc:\\Users\\vrelax\\anaconda3\\lib\\site-packages\\plotly\\_subplots.py\u001b[0m in \u001b[0;36mmake_subplots\u001b[1;34m(rows, cols, shared_xaxes, shared_yaxes, start_cell, print_grid, horizontal_spacing, vertical_spacing, subplot_titles, column_widths, row_heights, specs, insets, column_titles, row_titles, x_title, y_title, figure, **kwargs)\u001b[0m\n\u001b[0;32m    443\u001b[0m         \u001b[1;32mand\u001b[0m \u001b[0mall\u001b[0m\u001b[1;33m(\u001b[0m\u001b[0mall\u001b[0m\u001b[1;33m(\u001b[0m\u001b[0mv\u001b[0m \u001b[1;32mis\u001b[0m \u001b[1;32mNone\u001b[0m \u001b[1;32mor\u001b[0m \u001b[0misinstance\u001b[0m\u001b[1;33m(\u001b[0m\u001b[0mv\u001b[0m\u001b[1;33m,\u001b[0m \u001b[0mdict\u001b[0m\u001b[1;33m)\u001b[0m \u001b[1;32mfor\u001b[0m \u001b[0mv\u001b[0m \u001b[1;32min\u001b[0m \u001b[0mrow\u001b[0m\u001b[1;33m)\u001b[0m \u001b[1;32mfor\u001b[0m \u001b[0mrow\u001b[0m \u001b[1;32min\u001b[0m \u001b[0mspecs\u001b[0m\u001b[1;33m)\u001b[0m\u001b[1;33m\u001b[0m\u001b[1;33m\u001b[0m\u001b[0m\n\u001b[0;32m    444\u001b[0m     ):\n\u001b[1;32m--> 445\u001b[1;33m         raise ValueError(\n\u001b[0m\u001b[0;32m    446\u001b[0m             \"\"\"\n\u001b[0;32m    447\u001b[0m \u001b[0mThe\u001b[0m \u001b[1;34m'specs'\u001b[0m \u001b[0margument\u001b[0m \u001b[0mto\u001b[0m \u001b[0mmake_subplots\u001b[0m \u001b[0mmust\u001b[0m \u001b[0mbe\u001b[0m \u001b[0ma\u001b[0m \u001b[1;36m2\u001b[0m\u001b[0mD\u001b[0m \u001b[0mlist\u001b[0m \u001b[0mof\u001b[0m \u001b[0mdictionaries\u001b[0m \u001b[1;32mwith\u001b[0m\u001b[0;31m \u001b[0m\u001b[0;31m\\\u001b[0m\u001b[1;33m\u001b[0m\u001b[1;33m\u001b[0m\u001b[0m\n",
      "\u001b[1;31mValueError\u001b[0m: \nThe 'specs' argument to make_subplots must be a 2D list of dictionaries with dimensions (1 x 1).\n    Received value of type <class 'list'>: [[{'type': 'scatter3d'}, {'type': 'scatter3d'}, {'type': 'scatter3d'}, {'type': 'scatter3d'}], [{'type': 'scatter3d'}, {'type': 'scatter3d'}, {'type': 'scatter3d'}, {'type': 'scatter3d'}], [{'type': 'scatter3d'}, {'type': 'scatter3d'}, {'type': 'scatter3d'}, {'type': 'scatter3d'}], [{'type': 'scatter3d'}, {'type': 'scatter3d'}, {'type': 'scatter3d'}, {'type': 'scatter3d'}]]"
     ]
    }
   ],
   "source": [
    "# Group the dataframe by participant number and session identifier\n",
    "grouped_by_participant_session = all_F_rot_for_x_DF.groupby(['participant_num', 'session_identifier'])\n",
    "\n",
    "# Calculate the number of participants and session\n",
    "num_participants = len(grouped_by_participant_session)\n",
    "\n",
    "# Calculate the number of rows and columns based on the number of participants and sessions\n",
    "rows = cols = int(num_participants ** 0.5) + 1\n",
    "\n",
    "# Create a subplot grid figure\n",
    "fig = make_subplots(rows=rows, cols=cols, subplot_titles=[f'P {participant_num}, S {session_id}' for (participant_num, session_id), _ in grouped_by_participant_session], specs=[[{'type': 'scatter3d'}]*cols]*rows)\n",
    "\n",
    "row = 1  # Starting row index for subplot\n",
    "col = 1  # Starting column index for subplot\n",
    "\n",
    "# Iterate over the grouped data by participant and session\n",
    "for i, ((participant_num, session_id), group) in enumerate(grouped_by_participant_session, start=1):\n",
    "    # Iterate over trials for each participant and session, and add scatter traces\n",
    "    for trial_num, trial_group in group.groupby('gesture_counter'):\n",
    "        # Add scatter trace for right controller\n",
    "        fig.add_trace(go.Scatter3d(\n",
    "            x=trial_group['r_controller_translation_x'],\n",
    "            y=trial_group['r_controller_translation_z'],\n",
    "            z=trial_group['r_controller_translation_y'],\n",
    "            mode='markers',\n",
    "            marker=dict(\n",
    "                size=2,\n",
    "                color=trial_group.index,  # set color based on occurrence (use index as a unique identifier)\n",
    "                colorscale='viridis',  # colorscale\n",
    "                opacity=0.8,\n",
    "            ),\n",
    "            name=f'Trial {trial_num} - Right Controller',\n",
    "            showlegend=False  # hide legend entry\n",
    "        ), row=row, col=col)\n",
    "        \n",
    "        # Add scatter trace for left controller\n",
    "        fig.add_trace(go.Scatter3d(\n",
    "            x=trial_group['l_controller_translation_x'],\n",
    "            y=trial_group['l_controller_translation_z'],\n",
    "            z=trial_group['l_controller_translation_y'],\n",
    "            mode='markers',\n",
    "            marker=dict(\n",
    "                size=2,\n",
    "                color=trial_group.index,  # set color based on occurrence (use index as a unique identifier)\n",
    "                colorscale='sunset_r',  # colorscale (reverse)\n",
    "                opacity=0.8,\n",
    "            ),\n",
    "            name=f'Trial {trial_num} - Left Controller',\n",
    "            showlegend=False  # hide legend entry\n",
    "        ), row=row, col=col)\n",
    "        \n",
    "    # Update subplot indices for the next participant and session\n",
    "    col += 1\n",
    "    if col > cols:\n",
    "        col = 1\n",
    "        row += 1\n",
    "\n",
    "# Set overall title for the figure\n",
    "fig.update_layout(height=1000, width=1000, title_text='All Participants By Session Rotate Forward (Freeform)')  # Set the overall title for the figure\n",
    "# fig.show()\n",
    "\n",
    "# Specify the output file path\n",
    "output_path = \"C:\\\\Users\\\\vrelax\\\\Desktop\\\\VRelax\\\\gestureInterface\\\\Figures\\\\Rot_For_X_Sub_1_to_26_Session_37_Grid.html\"\n",
    "\n",
    "# Save the figure as an HTML file\n",
    "pio.write_html(fig, file=output_path, auto_open=True)"
   ]
  },
  {
   "cell_type": "code",
   "execution_count": null,
   "metadata": {},
   "outputs": [],
   "source": []
  },
  {
   "attachments": {},
   "cell_type": "markdown",
   "metadata": {},
   "source": [
    "Overview: Creates subfolders in the Figures directory and converts the CleanedData directory into a dictionary for easier iteration.\n",
    "\n",
    "Dictionary will have 13 keys to represent the 13 different gestures. Each key will have a value of a list that contains two lists. The two lists will represent the freeform and instruction folder respectively. Within each of those two lists, they will contain 37 data files paths. \n",
    "Ex: {'PanLeft': [../session_F_PanSelect_sub1ID.csv, ../session_F_PanSelect_sub2ID.csv, ..][../session_I_PanSelect_sub1ID.csv, ../session_I_PanSelect_sub2ID.csv, ..]}\n",
    "\n",
    "Figures directory will have 13 empty gesture folders and 2 subfolders for freeform and instructional within each of them.\n",
    "\n",
    "Requirements:\n",
    "- The cleaned_data_folder_path and figures_folder_path variable must be edited to include the path to each of those folders.\n",
    "- The Figures directory can be empty.\n",
    "- Libraries in the first code block must be imported.\n",
    "- The CleanedData directory must contain the following subfolders\\files: ...\\CleanedData\\Sub#\\Session_Sub#_Sess#\\file.csv\n",
    "    The names that are filled in are:\n",
    "       - '#' in Sub# will be the subject's number\n",
    "       - 'Session' in Session_Sub#_Sess# is either Freeform or Instructional, '#' in Sub# is the subject's number, and '#' in Sess# is the session number\n",
    "       - 'file' in file.csv is the name of the file\n"
   ]
  },
  {
   "cell_type": "code",
   "execution_count": 4,
   "metadata": {},
   "outputs": [],
   "source": [
    "'''\n",
    "Edit paths here\n",
    "'''\n",
    "cleaned_data_folder_path = \"C:\\\\Users\\\\katie\\\\Desktop\\\\cpsc\\\\VRelax\\\\gestureInterface\\\\CleanedData\"\n",
    "figures_folder_path = \"C:\\\\Users\\\\katie\\\\Desktop\\\\cpsc\\\\VRelax\\\\gestureInterface\\\\Figures\\\\FixedAxisModeWController\"\n",
    "\n",
    "'''\n",
    "Iterates through CleanedData directory to make subfolders in Figures directory and make a dictionary of data where the 13 keys are gesture types \n",
    "and its values are two lists representing freeform and instructional. Each list will contain the path to the 37 csv data files.\n",
    "'''\n",
    "figure_gesture_dict = {}\n",
    "for root, sub_folders, files in os.walk(cleaned_data_folder_path):\n",
    "    for file in files:\n",
    "        # Splits file name for gesture and session type identification\n",
    "        file_split = file.split(\"_\")\n",
    "        file_gesture = file_split[3]\n",
    "        file_session_type = file_split[2]\n",
    "        \n",
    "        # Ignores the thank you files\n",
    "        if (file_session_type != 'F') and (file_session_type != 'I'):\n",
    "            continue\n",
    "        \n",
    "        # Make gesture folder in Figures directory\n",
    "        gesture_in_figures_path = os.path.join(figures_folder_path, file_gesture)\n",
    "        if not os.path.exists(gesture_in_figures_path):\n",
    "            os.makedirs(os.path.join(gesture_in_figures_path, \"Freeform\"))\n",
    "            os.makedirs(os.path.join(gesture_in_figures_path, \"Instructional\"))\n",
    "\n",
    "        # If a gesture is not in the dictionary, make the gesture a new key with list values freeform and instructional\n",
    "        if file_gesture not in figure_gesture_dict:\n",
    "            freeform_folder = []\n",
    "            instructional_folder = []\n",
    "            figure_gesture_dict[file_gesture] = [freeform_folder, instructional_folder]\n",
    "\n",
    "        if file_session_type == 'F':\n",
    "            figure_gesture_dict[file_gesture][0].append(os.path.join(root, file))\n",
    "        else:\n",
    "            figure_gesture_dict[file_gesture][1].append(os.path.join(root, file))"
   ]
  },
  {
   "attachments": {},
   "cell_type": "markdown",
   "metadata": {},
   "source": [
    "Overview: Creates graph visualizations for the gesture data files. Exports two types of html files: all_sessions and single_session. \n",
    "\n",
    "To clarify what is meant by a single_session, each single_session is grouped by participant session, so participants are paired by a unique session. A participant can have multiple sessions and each will be considered their own.\n",
    "Examples: Box_Select_Sub1_Sess1, Box_Select_Sub2_Sess1, Box_Select_Sub2_Sess2\n",
    "\n",
    "Files will be exported into their classified folders: Figures\\GestureType\\SessionType (GestureType & SessionType(Freeform/Instructional) will be edited accordingly)\n",
    "\n",
    "single_session:\n",
    "    - Contains a data visualization graph for a single grouped by participant session figure as well as 2 color bars representing both hands, which shows the gesture motion over time. \n",
    "    - The file can be identified as gesture_sessiontype_Sub#_Sess#.html with the 'gesture', 'sessiontype', and '#' being filled out. \n",
    "        - Example: 'Box_Select_Freeform_Sub1_Sess1.html'\n",
    "all_sessions:\n",
    "    - Each all_sessions file represents a single gesture and contain several individual single_session subplots for that specific gesture.\n",
    "    - Each file has a max of 16 subplots to prevent overcrowded visuals, so an all_sessions file can be split up onto several different pages.\n",
    "        - 37 visualizations will be separated into 16 subplots onto two pages and 5 subplots on the third page.\n",
    "    - The file can be identified as gesture_sessiontype_Sub#_to_Sub#_Session_#.html with the 'gesture', 'sessiontype', and '#' being filled out.      \n",
    "        - Example: 'Box_Select_Freeform_Sub1_to_Sub26_Session_37.html'\n",
    "\n",
    "Requirements:\n",
    "- The previous code block must successfully run to set up the variable figure_gesture_dict."
   ]
  },
  {
   "cell_type": "markdown",
   "metadata": {},
   "source": [
    "Fixed Axis Mode: All visualizations will have the same axis mode (data)"
   ]
  },
  {
   "cell_type": "code",
   "execution_count": 5,
   "metadata": {},
   "outputs": [],
   "source": [
    "# Iterates through each gesture in the dictionary to create plots\n",
    "for gesture in figure_gesture_dict:\n",
    "    for session_type in figure_gesture_dict[gesture]:\n",
    "        '''\n",
    "        Reads each csv file into a dataframe and then concats all of the indivdual dataframes into one big one for a single gesture.\n",
    "        '''\n",
    "        # Create an empty list to store the dataframes\n",
    "        dfs = []\n",
    "\n",
    "        # Create a dictionary to track the number of sessions for each participant\n",
    "        participant_sessions = {}\n",
    "\n",
    "        for file_num in range(len(session_type)):\n",
    "            # Read the CSV file into a dataframe\n",
    "            df = pd.read_csv(session_type[file_num])\n",
    "            filename = os.path.basename(session_type[file_num])\n",
    "\n",
    "            # Remove any data points that are not triggered by either the left or right trigger\n",
    "            df.drop(df[(df['trigger_pull_amount_left'] == 0) & (df['trigger_pull_amount_right'] == 0)].index, inplace=True)\n",
    "\n",
    "            # Extract the participant number from the file name (specified after \"_subjID_\")\n",
    "            participant_num = int(filename.split(\"_subjID_\")[1].split(\"_\")[0])\n",
    "        \n",
    "            # Check if participant already has sessions\n",
    "            if participant_num in participant_sessions:\n",
    "                session_num = participant_sessions[participant_num] + 1\n",
    "                participant_sessions[participant_num] = session_num\n",
    "            else:\n",
    "                session_num = 1\n",
    "                participant_sessions[participant_num] = session_num\n",
    "        \n",
    "            # Add the participant number as a column in the dataframe\n",
    "            df.insert(0, 'participant_num', participant_num)\n",
    "\n",
    "            # Create a unique identifier for the session\n",
    "            session_identifier = f\"{session_num}\"\n",
    "        \n",
    "            # Add the session identifier as a column in the dataframe\n",
    "            df.insert(0, 'session_identifier', session_identifier)\n",
    "        \n",
    "            # Append the dataframe to the list\n",
    "            dfs.append(df)\n",
    "\n",
    "        # Concatenate all the dataframes into a single dataframe\n",
    "        all_data_for_gesture_DF = pd.concat(dfs)\n",
    "\n",
    "\n",
    "\n",
    "\n",
    "\n",
    "        '''\n",
    "        Groups dataframe by participant and session identifier and creates the figure's subplot template. \n",
    "        '''\n",
    "        # Group the dataframe by participant number and session identifier\n",
    "        grouped_by_participant_session = all_data_for_gesture_DF.groupby(['participant_num', 'session_identifier'])\n",
    "\n",
    "        # Calculate the number of participants and session\n",
    "        num_participants = len(grouped_by_participant_session)\n",
    "\n",
    "        # Each file will have 4 rows and 4 columns. \n",
    "        # 37 visualizations will be split into three files with 16 of them in two files each and 5 in the third file.\n",
    "        rows = cols = 4\n",
    "        page_num = 1                    # The file num that the visualization will be on\n",
    "\n",
    "        # Create a subplot grid figure\n",
    "        fig = make_subplots(rows=rows, cols=cols, subplot_titles=[f'P {participant_num}, S {session_id}' for (participant_num, session_id), _ in grouped_by_participant_session], specs=[[{'type': 'scatter3d'}]*cols]*rows)\n",
    "\n",
    "        # Starting row and column index for subplot\n",
    "        row = 1  \n",
    "        col = 1  \n",
    "\n",
    "        '''\n",
    "        Creates the title and output path for the all_sessions and single_session visualization files.\n",
    "        '''\n",
    "        gesture_name = \"\"\n",
    "        session_name = \"\"\n",
    "        html_file_name = \"\"\n",
    "        single_session_output_path = figures_folder_path + \"\\\\\"\n",
    "        all_sessions_output_path = figures_folder_path + \"\\\\\"\n",
    "        all_sessions_title = \"All Participants By Session \"\n",
    "        \n",
    "        # Splits the first file in the folder by '_' to get the session and gesture type\n",
    "        file = os.path.basename(session_type[0])\n",
    "        session_split = file.split(\"_\")[2]\n",
    "        gesture_split = file.split(\"_\")[3]\n",
    "\n",
    "        # Adds to the output path string\n",
    "        single_session_output_path += gesture_split + '\\\\'\n",
    "        all_sessions_output_path += gesture_split + \"\\\\\"\n",
    "\n",
    "        # Gets the session type and adds to the html output path\n",
    "        if session_split == 'F':\n",
    "            session_name = \"Freeform\"\n",
    "            single_session_output_path += \"Freeform\\\\\"\n",
    "            all_sessions_output_path += \"Freeform\\\\\"\n",
    "        else:\n",
    "            session_name = \"Instructional\"\n",
    "            single_session_output_path += \"Instructional\\\\\"\n",
    "            all_sessions_output_path += \"Instructional\\\\\"\n",
    "\n",
    "        # Iterates through the gesture name. Separates the words with a space for the title and _ for the html output path\n",
    "        for i in range(len(gesture)):\n",
    "            if ((gesture[i].isupper() == True) and (i != 0)):\n",
    "                gesture_name += \" \"\n",
    "                html_file_name += \"_\"\n",
    "            gesture_name += gesture[i]   \n",
    "            html_file_name += gesture[i]\n",
    "\n",
    "        '''\n",
    "        Creates and exports visualization figures for all_sessions and single_session, represented by the variables fig and single_fig respectively. \n",
    "\n",
    "        The fig variable will contain all of the grouped by participant session figures. It can only contain up to 16 per file so if the file is full, fig\n",
    "        will be exported to an html and resetted to an empty figure again to be filled by more subplots.\n",
    "\n",
    "        The single_fig variable will be exported to an html after each single grouped by participant session figure has all of their trials traced. Each gesture\n",
    "        will have 74 single_fig exports, 37 for freeform and another 37 for instructional.\n",
    "        '''\n",
    "        # Iterate over the grouped data by participant and session\n",
    "        for i, ((participant_num, session_id), group) in enumerate(grouped_by_participant_session, start=1):\n",
    "            # Single session figure different from all sessions figure, fig.\n",
    "            single_fig = go.Figure()\n",
    "            # Iterate over trials for each participant and session, and add scatter traces\n",
    "            for trial_num, trial_group in group.groupby('gesture_counter'):\n",
    "                # (All Sessions Figure) Add scatter trace for right controller\n",
    "                fig.add_trace(go.Scatter3d(\n",
    "                    x=trial_group['r_controller_translation_x'],\n",
    "                    y=trial_group['r_controller_translation_y'],\n",
    "                    z=trial_group['r_controller_translation_z'],\n",
    "                    mode='markers',\n",
    "                    marker=dict(\n",
    "                        size=2,\n",
    "                        color=trial_group.index,  # set color based on occurrence (use index as a unique identifier)\n",
    "                        colorscale='viridis',  # colorscale\n",
    "                        opacity=0.8,\n",
    "                    ),\n",
    "                    name=f'Trial {trial_num} - Right Controller',\n",
    "                    showlegend=False  # hide legend entry\n",
    "                ), row=row, col=col)\n",
    "                # (All Sessions Figure) Add scatter trace for left controller\n",
    "                fig.add_trace(go.Scatter3d(\n",
    "                    x=trial_group['l_controller_translation_x'],\n",
    "                    y=trial_group['l_controller_translation_y'],\n",
    "                    z=trial_group['l_controller_translation_z'],\n",
    "                    mode='markers',\n",
    "                    marker=dict(\n",
    "                        size=2,\n",
    "                        color=trial_group.index,  # set color based on occurrence (use index as a unique identifier)\n",
    "                        colorscale='sunset_r',  # colorscale (reverse)\n",
    "                        opacity=0.8,\n",
    "                    ),\n",
    "                    name=f'Trial {trial_num} - Left Controller',\n",
    "                    showlegend=False  # hide legend entry\n",
    "                ), row=row, col=col)\n",
    "\n",
    "                # (Single Session Figure) Add scatter trace and color bar for right controller\n",
    "                single_fig.add_trace(go.Scatter3d(\n",
    "                    x=trial_group['r_controller_translation_x'],\n",
    "                    y=trial_group['r_controller_translation_y'],\n",
    "                    z=trial_group['r_controller_translation_z'],\n",
    "                    mode='markers',\n",
    "                    marker=dict(\n",
    "                        size=2,\n",
    "                        color=trial_group.index,  # set color based on occurrence (use index as a unique identifier)\n",
    "                        colorscale='viridis',  # colorscale\n",
    "                        opacity=0.8,\n",
    "                        colorbar=dict(\n",
    "                            title='Right',\n",
    "                            tickvals=[trial_group.index[0], trial_group.index[-1]],\n",
    "                            ticktext=['Start', 'End'],\n",
    "                            len=0.6,\n",
    "                            x=1.05,  # move the color bar to the left (adjust the value as needed)\n",
    "                            y=.9,\n",
    "                        )\n",
    "                    ),\n",
    "                    name=f'Trial {trial_num} - Right Controller',\n",
    "                    showlegend=False\n",
    "                ))\n",
    "                # (Single Session Figure) Add scatter trace and color bar for left controller\n",
    "                single_fig.add_trace(go.Scatter3d(\n",
    "                    x=trial_group['l_controller_translation_x'],\n",
    "                    y=trial_group['l_controller_translation_y'],\n",
    "                    z=trial_group['l_controller_translation_z'],\n",
    "                    mode='markers',\n",
    "                    marker=dict(\n",
    "                        size=2,\n",
    "                        color=trial_group.index,  # set color based on occurrence (use index as a unique identifier)\n",
    "                        colorscale='sunset_r',  # colorscale (reverse)\n",
    "                        opacity=0.8,\n",
    "                        colorbar=dict(\n",
    "                            title='Left',\n",
    "                            tickvals=[trial_group.index[0], trial_group.index[-1]],\n",
    "                            ticktext=['Start', 'End'],\n",
    "                            len=0.6,\n",
    "                            x=.95,  # move the color bar to the left (adjust the value as needed)\n",
    "                            y=0.9,\n",
    "                        )\n",
    "                    ),\n",
    "                    name=f'Trial {trial_num} - Left Controller',\n",
    "                    showlegend=False\n",
    "                ))\n",
    "                if np.any(trial_group['trigger_pull_amount_left'] > 0):\n",
    "                    single_fig.update_traces(showlegend=True, selector = ({'name':f'Trial {trial_num} - Left Controller'}))\n",
    "                if np.any(trial_group['trigger_pull_amount_right'] > 0):\n",
    "                    single_fig.update_traces(showlegend=True, selector = ({'name':f'Trial {trial_num} - Right Controller'}))\n",
    "\n",
    "                \n",
    "                \n",
    "            '''\n",
    "            Export single_session figure\n",
    "            '''\n",
    "            # Update title for single_session figure\n",
    "            single_session_title = gesture_name + ' (' + session_name + '): Participant ' + str(participant_num) + ' Session ' + session_id\n",
    "            single_fig.update_layout(\n",
    "                legend=dict(\n",
    "                    x=.95,\n",
    "                    y=-.5\n",
    "                ),\n",
    "                legend_title='Controllers in Use',\n",
    "                title_text=single_session_title,\n",
    "                scene_aspectmode='data'\n",
    "            )\n",
    "            \n",
    "            # Create html for single session figure and exports single session figure\n",
    "            temp_single_sess_output_path = single_session_output_path + html_file_name + '_' + session_name + '_Sub' + str(participant_num) + '_Sess' + session_id + '.html'\n",
    "            if not os.path.exists(temp_single_sess_output_path):\n",
    "                pio.write_html(single_fig, file=temp_single_sess_output_path, auto_open=False)\n",
    "\n",
    "\n",
    "            # Update subplot indices for the next participant and session.\n",
    "            col += 1\n",
    "            if col > cols:\n",
    "                col = 1\n",
    "                row += 1\n",
    "\n",
    "            '''\n",
    "            Checks if the file is full for the all_session file (if row is greater than 4).\n",
    "            If it is, current all_sessions file is exported, and the all_sessions figure will be resetted to take in more subplots for the next page\n",
    "            of the file.\n",
    "            '''\n",
    "            if row == 5:\n",
    "                # Update title and output path for all_sessions file\n",
    "                temp_all_sessions_output_path = all_sessions_output_path + html_file_name + '_' + session_name + \"_Sub1_to_Sub26_Session_37_Grid_Page\" + str(page_num) + \".html\"\n",
    "                temp_all_sessions_title = all_sessions_title + gesture_name + \" \" + session_name + \" (Page \" + str(page_num) + \")\"\n",
    "                fig.update_layout(height=1000, width=1000, title_text=temp_all_sessions_title)    # Set the overall title for the figure\n",
    "                fig.update_scenes(\n",
    "                    aspectmode = 'data'\n",
    "                )\n",
    "                # Save the figure as an HTML file\n",
    "                if not os.path.exists(temp_all_sessions_output_path):\n",
    "                    pio.write_html(fig, file=temp_all_sessions_output_path, auto_open=False)\n",
    "\n",
    "                # Create a new subplot grid figure.\n",
    "                # Convert groupedby object into a dataframe to drop rows for grouped by participant session. This is done so that when the 3 different files \n",
    "                # are created for 37 visualizations, the subplot_titles don't restart back to subject 1 but rather where the previous file left off.\n",
    "                end_index = page_num * 16\n",
    "                df_grouped_by_participant_session = grouped_by_participant_session.aggregate(np.sum)\n",
    "                df_grouped_by_participant_session = df_grouped_by_participant_session.drop(df_grouped_by_participant_session.index[0:end_index])\n",
    "                grouped_by_participant_session2 = df_grouped_by_participant_session.groupby(['participant_num', 'session_identifier'])\n",
    "                fig = make_subplots(rows=rows, cols=cols, subplot_titles=[f'P {participant_num}, S {session_id}' for (participant_num, session_id), _ in grouped_by_participant_session2], specs=[[{'type': 'scatter3d'}]*cols]*rows)\n",
    "\n",
    "                # Restarts the new figure at row 1, col 1, and next page.\n",
    "                row = 1\n",
    "                col = 1\n",
    "                page_num += 1\n",
    "\n",
    "                \n",
    "        # Updates and exports the final all_sessions file\n",
    "        temp_all_sessions_output_path = all_sessions_output_path + html_file_name + '_' + session_name + \"_Sub1_to_Sub26_Session_37_Grid_Page\" + str(page_num) + \".html\"\n",
    "        temp_all_sessions_title = all_sessions_title + gesture_name + \" \" + session_name + \" (Page \" + str(page_num) + \")\"\n",
    "        fig.update_layout(height=1000, width=1000, title_text=temp_all_sessions_title)  # Set the overall title for the figure\n",
    "        fig.update_scenes(\n",
    "            aspectmode = 'data'\n",
    "        )\n",
    "        # Save the figure as an HTML file\n",
    "\n",
    "        if not os.path.exists(temp_all_sessions_output_path):\n",
    "            pio.write_html(fig, file=temp_all_sessions_output_path, auto_open=False)"
   ]
  },
  {
   "cell_type": "markdown",
   "metadata": {},
   "source": [
    "BSPLINE TEST"
   ]
  },
  {
   "cell_type": "code",
   "execution_count": 33,
   "metadata": {},
   "outputs": [
    {
     "data": {
      "application/vnd.plotly.v1+json": {
       "config": {
        "plotlyServerURL": "https://plot.ly"
       },
       "data": [
        {
         "marker": {
          "colorscale": [
           [
            0,
            "#440154"
           ],
           [
            0.1111111111111111,
            "#482878"
           ],
           [
            0.2222222222222222,
            "#3e4989"
           ],
           [
            0.3333333333333333,
            "#31688e"
           ],
           [
            0.4444444444444444,
            "#26828e"
           ],
           [
            0.5555555555555556,
            "#1f9e89"
           ],
           [
            0.6666666666666666,
            "#35b779"
           ],
           [
            0.7777777777777778,
            "#6ece58"
           ],
           [
            0.8888888888888888,
            "#b5de2b"
           ],
           [
            1,
            "#fde725"
           ]
          ],
          "opacity": 0.8,
          "size": 2
         },
         "mode": "markers",
         "name": "ORIGINAL",
         "showlegend": true,
         "type": "scatter3d",
         "x": [
          -0.172,
          -0.173,
          -0.175,
          -0.177,
          -0.178,
          -0.18,
          -0.182,
          -0.183,
          -0.185,
          -0.186,
          -0.188,
          -0.19,
          -0.192,
          -0.194,
          -0.197,
          -0.2,
          -0.202,
          -0.205,
          -0.207,
          -0.209,
          -0.21,
          -0.212,
          -0.213,
          -0.215,
          -0.217,
          -0.22,
          -0.222,
          -0.223,
          -0.223,
          -0.224,
          -0.225,
          -0.227,
          -0.229,
          -0.23,
          -0.231,
          -0.231,
          -0.231,
          -0.232,
          -0.232,
          -0.233,
          -0.233,
          -0.233,
          -0.232,
          -0.232,
          -0.232,
          -0.231,
          -0.23
         ],
         "y": [
          1.698,
          1.694,
          1.69,
          1.685,
          1.679,
          1.674,
          1.667,
          1.66,
          1.653,
          1.646,
          1.638,
          1.629,
          1.62,
          1.61,
          1.601,
          1.59,
          1.58,
          1.57,
          1.56,
          1.55,
          1.54,
          1.531,
          1.521,
          1.51,
          1.499,
          1.487,
          1.476,
          1.467,
          1.458,
          1.449,
          1.438,
          1.427,
          1.417,
          1.408,
          1.4,
          1.392,
          1.383,
          1.374,
          1.365,
          1.357,
          1.349,
          1.343,
          1.337,
          1.332,
          1.329,
          1.327,
          1.328
         ],
         "z": [
          0.382,
          0.38,
          0.379,
          0.379,
          0.381,
          0.383,
          0.385,
          0.386,
          0.388,
          0.389,
          0.391,
          0.393,
          0.395,
          0.397,
          0.399,
          0.401,
          0.403,
          0.405,
          0.407,
          0.409,
          0.411,
          0.414,
          0.417,
          0.42,
          0.421,
          0.422,
          0.422,
          0.424,
          0.426,
          0.429,
          0.431,
          0.432,
          0.432,
          0.432,
          0.433,
          0.435,
          0.437,
          0.437,
          0.437,
          0.437,
          0.438,
          0.439,
          0.44,
          0.441,
          0.442,
          0.444,
          0.447
         ]
        },
        {
         "marker": {
          "colorscale": [
           [
            0,
            "rgb(92, 83, 165)"
           ],
           [
            0.16666666666666666,
            "rgb(160, 89, 160)"
           ],
           [
            0.3333333333333333,
            "rgb(206, 102, 147)"
           ],
           [
            0.5,
            "rgb(235, 127, 134)"
           ],
           [
            0.6666666666666666,
            "rgb(248, 160, 126)"
           ],
           [
            0.8333333333333334,
            "rgb(250, 196, 132)"
           ],
           [
            1,
            "rgb(243, 231, 155)"
           ]
          ],
          "opacity": 0.8,
          "size": 2
         },
         "mode": "lines",
         "name": "SMOOTHED",
         "showlegend": true,
         "type": "scatter3d",
         "x": [
          -0.172,
          -0.22444141623140207
         ],
         "y": [
          1.698,
          1.4438210166178382
         ],
         "z": [
          0.382,
          0.4301381003242451
         ]
        }
       ],
       "layout": {
        "scene": {
         "aspectmode": "data"
        },
        "template": {
         "data": {
          "bar": [
           {
            "error_x": {
             "color": "#2a3f5f"
            },
            "error_y": {
             "color": "#2a3f5f"
            },
            "marker": {
             "line": {
              "color": "#E5ECF6",
              "width": 0.5
             },
             "pattern": {
              "fillmode": "overlay",
              "size": 10,
              "solidity": 0.2
             }
            },
            "type": "bar"
           }
          ],
          "barpolar": [
           {
            "marker": {
             "line": {
              "color": "#E5ECF6",
              "width": 0.5
             },
             "pattern": {
              "fillmode": "overlay",
              "size": 10,
              "solidity": 0.2
             }
            },
            "type": "barpolar"
           }
          ],
          "carpet": [
           {
            "aaxis": {
             "endlinecolor": "#2a3f5f",
             "gridcolor": "white",
             "linecolor": "white",
             "minorgridcolor": "white",
             "startlinecolor": "#2a3f5f"
            },
            "baxis": {
             "endlinecolor": "#2a3f5f",
             "gridcolor": "white",
             "linecolor": "white",
             "minorgridcolor": "white",
             "startlinecolor": "#2a3f5f"
            },
            "type": "carpet"
           }
          ],
          "choropleth": [
           {
            "colorbar": {
             "outlinewidth": 0,
             "ticks": ""
            },
            "type": "choropleth"
           }
          ],
          "contour": [
           {
            "colorbar": {
             "outlinewidth": 0,
             "ticks": ""
            },
            "colorscale": [
             [
              0,
              "#0d0887"
             ],
             [
              0.1111111111111111,
              "#46039f"
             ],
             [
              0.2222222222222222,
              "#7201a8"
             ],
             [
              0.3333333333333333,
              "#9c179e"
             ],
             [
              0.4444444444444444,
              "#bd3786"
             ],
             [
              0.5555555555555556,
              "#d8576b"
             ],
             [
              0.6666666666666666,
              "#ed7953"
             ],
             [
              0.7777777777777778,
              "#fb9f3a"
             ],
             [
              0.8888888888888888,
              "#fdca26"
             ],
             [
              1,
              "#f0f921"
             ]
            ],
            "type": "contour"
           }
          ],
          "contourcarpet": [
           {
            "colorbar": {
             "outlinewidth": 0,
             "ticks": ""
            },
            "type": "contourcarpet"
           }
          ],
          "heatmap": [
           {
            "colorbar": {
             "outlinewidth": 0,
             "ticks": ""
            },
            "colorscale": [
             [
              0,
              "#0d0887"
             ],
             [
              0.1111111111111111,
              "#46039f"
             ],
             [
              0.2222222222222222,
              "#7201a8"
             ],
             [
              0.3333333333333333,
              "#9c179e"
             ],
             [
              0.4444444444444444,
              "#bd3786"
             ],
             [
              0.5555555555555556,
              "#d8576b"
             ],
             [
              0.6666666666666666,
              "#ed7953"
             ],
             [
              0.7777777777777778,
              "#fb9f3a"
             ],
             [
              0.8888888888888888,
              "#fdca26"
             ],
             [
              1,
              "#f0f921"
             ]
            ],
            "type": "heatmap"
           }
          ],
          "heatmapgl": [
           {
            "colorbar": {
             "outlinewidth": 0,
             "ticks": ""
            },
            "colorscale": [
             [
              0,
              "#0d0887"
             ],
             [
              0.1111111111111111,
              "#46039f"
             ],
             [
              0.2222222222222222,
              "#7201a8"
             ],
             [
              0.3333333333333333,
              "#9c179e"
             ],
             [
              0.4444444444444444,
              "#bd3786"
             ],
             [
              0.5555555555555556,
              "#d8576b"
             ],
             [
              0.6666666666666666,
              "#ed7953"
             ],
             [
              0.7777777777777778,
              "#fb9f3a"
             ],
             [
              0.8888888888888888,
              "#fdca26"
             ],
             [
              1,
              "#f0f921"
             ]
            ],
            "type": "heatmapgl"
           }
          ],
          "histogram": [
           {
            "marker": {
             "pattern": {
              "fillmode": "overlay",
              "size": 10,
              "solidity": 0.2
             }
            },
            "type": "histogram"
           }
          ],
          "histogram2d": [
           {
            "colorbar": {
             "outlinewidth": 0,
             "ticks": ""
            },
            "colorscale": [
             [
              0,
              "#0d0887"
             ],
             [
              0.1111111111111111,
              "#46039f"
             ],
             [
              0.2222222222222222,
              "#7201a8"
             ],
             [
              0.3333333333333333,
              "#9c179e"
             ],
             [
              0.4444444444444444,
              "#bd3786"
             ],
             [
              0.5555555555555556,
              "#d8576b"
             ],
             [
              0.6666666666666666,
              "#ed7953"
             ],
             [
              0.7777777777777778,
              "#fb9f3a"
             ],
             [
              0.8888888888888888,
              "#fdca26"
             ],
             [
              1,
              "#f0f921"
             ]
            ],
            "type": "histogram2d"
           }
          ],
          "histogram2dcontour": [
           {
            "colorbar": {
             "outlinewidth": 0,
             "ticks": ""
            },
            "colorscale": [
             [
              0,
              "#0d0887"
             ],
             [
              0.1111111111111111,
              "#46039f"
             ],
             [
              0.2222222222222222,
              "#7201a8"
             ],
             [
              0.3333333333333333,
              "#9c179e"
             ],
             [
              0.4444444444444444,
              "#bd3786"
             ],
             [
              0.5555555555555556,
              "#d8576b"
             ],
             [
              0.6666666666666666,
              "#ed7953"
             ],
             [
              0.7777777777777778,
              "#fb9f3a"
             ],
             [
              0.8888888888888888,
              "#fdca26"
             ],
             [
              1,
              "#f0f921"
             ]
            ],
            "type": "histogram2dcontour"
           }
          ],
          "mesh3d": [
           {
            "colorbar": {
             "outlinewidth": 0,
             "ticks": ""
            },
            "type": "mesh3d"
           }
          ],
          "parcoords": [
           {
            "line": {
             "colorbar": {
              "outlinewidth": 0,
              "ticks": ""
             }
            },
            "type": "parcoords"
           }
          ],
          "pie": [
           {
            "automargin": true,
            "type": "pie"
           }
          ],
          "scatter": [
           {
            "fillpattern": {
             "fillmode": "overlay",
             "size": 10,
             "solidity": 0.2
            },
            "type": "scatter"
           }
          ],
          "scatter3d": [
           {
            "line": {
             "colorbar": {
              "outlinewidth": 0,
              "ticks": ""
             }
            },
            "marker": {
             "colorbar": {
              "outlinewidth": 0,
              "ticks": ""
             }
            },
            "type": "scatter3d"
           }
          ],
          "scattercarpet": [
           {
            "marker": {
             "colorbar": {
              "outlinewidth": 0,
              "ticks": ""
             }
            },
            "type": "scattercarpet"
           }
          ],
          "scattergeo": [
           {
            "marker": {
             "colorbar": {
              "outlinewidth": 0,
              "ticks": ""
             }
            },
            "type": "scattergeo"
           }
          ],
          "scattergl": [
           {
            "marker": {
             "colorbar": {
              "outlinewidth": 0,
              "ticks": ""
             }
            },
            "type": "scattergl"
           }
          ],
          "scattermapbox": [
           {
            "marker": {
             "colorbar": {
              "outlinewidth": 0,
              "ticks": ""
             }
            },
            "type": "scattermapbox"
           }
          ],
          "scatterpolar": [
           {
            "marker": {
             "colorbar": {
              "outlinewidth": 0,
              "ticks": ""
             }
            },
            "type": "scatterpolar"
           }
          ],
          "scatterpolargl": [
           {
            "marker": {
             "colorbar": {
              "outlinewidth": 0,
              "ticks": ""
             }
            },
            "type": "scatterpolargl"
           }
          ],
          "scatterternary": [
           {
            "marker": {
             "colorbar": {
              "outlinewidth": 0,
              "ticks": ""
             }
            },
            "type": "scatterternary"
           }
          ],
          "surface": [
           {
            "colorbar": {
             "outlinewidth": 0,
             "ticks": ""
            },
            "colorscale": [
             [
              0,
              "#0d0887"
             ],
             [
              0.1111111111111111,
              "#46039f"
             ],
             [
              0.2222222222222222,
              "#7201a8"
             ],
             [
              0.3333333333333333,
              "#9c179e"
             ],
             [
              0.4444444444444444,
              "#bd3786"
             ],
             [
              0.5555555555555556,
              "#d8576b"
             ],
             [
              0.6666666666666666,
              "#ed7953"
             ],
             [
              0.7777777777777778,
              "#fb9f3a"
             ],
             [
              0.8888888888888888,
              "#fdca26"
             ],
             [
              1,
              "#f0f921"
             ]
            ],
            "type": "surface"
           }
          ],
          "table": [
           {
            "cells": {
             "fill": {
              "color": "#EBF0F8"
             },
             "line": {
              "color": "white"
             }
            },
            "header": {
             "fill": {
              "color": "#C8D4E3"
             },
             "line": {
              "color": "white"
             }
            },
            "type": "table"
           }
          ]
         },
         "layout": {
          "annotationdefaults": {
           "arrowcolor": "#2a3f5f",
           "arrowhead": 0,
           "arrowwidth": 1
          },
          "autotypenumbers": "strict",
          "coloraxis": {
           "colorbar": {
            "outlinewidth": 0,
            "ticks": ""
           }
          },
          "colorscale": {
           "diverging": [
            [
             0,
             "#8e0152"
            ],
            [
             0.1,
             "#c51b7d"
            ],
            [
             0.2,
             "#de77ae"
            ],
            [
             0.3,
             "#f1b6da"
            ],
            [
             0.4,
             "#fde0ef"
            ],
            [
             0.5,
             "#f7f7f7"
            ],
            [
             0.6,
             "#e6f5d0"
            ],
            [
             0.7,
             "#b8e186"
            ],
            [
             0.8,
             "#7fbc41"
            ],
            [
             0.9,
             "#4d9221"
            ],
            [
             1,
             "#276419"
            ]
           ],
           "sequential": [
            [
             0,
             "#0d0887"
            ],
            [
             0.1111111111111111,
             "#46039f"
            ],
            [
             0.2222222222222222,
             "#7201a8"
            ],
            [
             0.3333333333333333,
             "#9c179e"
            ],
            [
             0.4444444444444444,
             "#bd3786"
            ],
            [
             0.5555555555555556,
             "#d8576b"
            ],
            [
             0.6666666666666666,
             "#ed7953"
            ],
            [
             0.7777777777777778,
             "#fb9f3a"
            ],
            [
             0.8888888888888888,
             "#fdca26"
            ],
            [
             1,
             "#f0f921"
            ]
           ],
           "sequentialminus": [
            [
             0,
             "#0d0887"
            ],
            [
             0.1111111111111111,
             "#46039f"
            ],
            [
             0.2222222222222222,
             "#7201a8"
            ],
            [
             0.3333333333333333,
             "#9c179e"
            ],
            [
             0.4444444444444444,
             "#bd3786"
            ],
            [
             0.5555555555555556,
             "#d8576b"
            ],
            [
             0.6666666666666666,
             "#ed7953"
            ],
            [
             0.7777777777777778,
             "#fb9f3a"
            ],
            [
             0.8888888888888888,
             "#fdca26"
            ],
            [
             1,
             "#f0f921"
            ]
           ]
          },
          "colorway": [
           "#636efa",
           "#EF553B",
           "#00cc96",
           "#ab63fa",
           "#FFA15A",
           "#19d3f3",
           "#FF6692",
           "#B6E880",
           "#FF97FF",
           "#FECB52"
          ],
          "font": {
           "color": "#2a3f5f"
          },
          "geo": {
           "bgcolor": "white",
           "lakecolor": "white",
           "landcolor": "#E5ECF6",
           "showlakes": true,
           "showland": true,
           "subunitcolor": "white"
          },
          "hoverlabel": {
           "align": "left"
          },
          "hovermode": "closest",
          "mapbox": {
           "style": "light"
          },
          "paper_bgcolor": "white",
          "plot_bgcolor": "#E5ECF6",
          "polar": {
           "angularaxis": {
            "gridcolor": "white",
            "linecolor": "white",
            "ticks": ""
           },
           "bgcolor": "#E5ECF6",
           "radialaxis": {
            "gridcolor": "white",
            "linecolor": "white",
            "ticks": ""
           }
          },
          "scene": {
           "xaxis": {
            "backgroundcolor": "#E5ECF6",
            "gridcolor": "white",
            "gridwidth": 2,
            "linecolor": "white",
            "showbackground": true,
            "ticks": "",
            "zerolinecolor": "white"
           },
           "yaxis": {
            "backgroundcolor": "#E5ECF6",
            "gridcolor": "white",
            "gridwidth": 2,
            "linecolor": "white",
            "showbackground": true,
            "ticks": "",
            "zerolinecolor": "white"
           },
           "zaxis": {
            "backgroundcolor": "#E5ECF6",
            "gridcolor": "white",
            "gridwidth": 2,
            "linecolor": "white",
            "showbackground": true,
            "ticks": "",
            "zerolinecolor": "white"
           }
          },
          "shapedefaults": {
           "line": {
            "color": "#2a3f5f"
           }
          },
          "ternary": {
           "aaxis": {
            "gridcolor": "white",
            "linecolor": "white",
            "ticks": ""
           },
           "baxis": {
            "gridcolor": "white",
            "linecolor": "white",
            "ticks": ""
           },
           "bgcolor": "#E5ECF6",
           "caxis": {
            "gridcolor": "white",
            "linecolor": "white",
            "ticks": ""
           }
          },
          "title": {
           "x": 0.05
          },
          "xaxis": {
           "automargin": true,
           "gridcolor": "white",
           "linecolor": "white",
           "ticks": "",
           "title": {
            "standoff": 15
           },
           "zerolinecolor": "white",
           "zerolinewidth": 2
          },
          "yaxis": {
           "automargin": true,
           "gridcolor": "white",
           "linecolor": "white",
           "ticks": "",
           "title": {
            "standoff": 15
           },
           "zerolinecolor": "white",
           "zerolinewidth": 2
          }
         }
        },
        "title": {
         "text": "PAN DOWN SUB 11 SESS 1"
        }
       }
      }
     },
     "metadata": {},
     "output_type": "display_data"
    },
    {
     "data": {
      "application/vnd.plotly.v1+json": {
       "config": {
        "plotlyServerURL": "https://plot.ly"
       },
       "data": [
        {
         "marker": {
          "colorscale": [
           [
            0,
            "#440154"
           ],
           [
            0.1111111111111111,
            "#482878"
           ],
           [
            0.2222222222222222,
            "#3e4989"
           ],
           [
            0.3333333333333333,
            "#31688e"
           ],
           [
            0.4444444444444444,
            "#26828e"
           ],
           [
            0.5555555555555556,
            "#1f9e89"
           ],
           [
            0.6666666666666666,
            "#35b779"
           ],
           [
            0.7777777777777778,
            "#6ece58"
           ],
           [
            0.8888888888888888,
            "#b5de2b"
           ],
           [
            1,
            "#fde725"
           ]
          ],
          "opacity": 0.8,
          "size": 2
         },
         "mode": "markers",
         "name": "ORIGINAL",
         "showlegend": true,
         "type": "scatter3d",
         "x": [
          -0.696,
          -0.694,
          -0.693,
          -0.69,
          -0.689,
          -0.688,
          -0.686,
          -0.684,
          -0.681,
          -0.679,
          -0.676,
          -0.674,
          -0.671,
          -0.668,
          -0.665,
          -0.662,
          -0.659,
          -0.657,
          -0.655,
          -0.653,
          -0.65,
          -0.647,
          -0.644,
          -0.642,
          -0.64,
          -0.638,
          -0.636,
          -0.634,
          -0.633,
          -0.632,
          -0.632,
          -0.632,
          -0.632,
          -0.632,
          -0.633,
          -0.634,
          -0.636,
          -0.637,
          -0.639,
          -0.641,
          -0.642,
          -0.644,
          -0.646,
          -0.648,
          -0.649,
          -0.651,
          -0.653,
          -0.655,
          -0.656,
          -0.658,
          -0.659,
          -0.661,
          -0.663,
          -0.665,
          -0.667,
          -0.668,
          -0.67,
          -0.671
         ],
         "y": [
          1.457,
          1.463,
          1.469,
          1.474,
          1.478,
          1.481,
          1.483,
          1.486,
          1.487,
          1.487,
          1.486,
          1.485,
          1.484,
          1.481,
          1.478,
          1.475,
          1.471,
          1.466,
          1.459,
          1.453,
          1.446,
          1.44,
          1.434,
          1.428,
          1.421,
          1.416,
          1.41,
          1.405,
          1.399,
          1.393,
          1.386,
          1.38,
          1.373,
          1.368,
          1.362,
          1.355,
          1.348,
          1.342,
          1.337,
          1.333,
          1.328,
          1.323,
          1.318,
          1.314,
          1.311,
          1.309,
          1.306,
          1.303,
          1.301,
          1.299,
          1.298,
          1.297,
          1.296,
          1.296,
          1.296,
          1.295,
          1.294,
          1.295
         ],
         "z": [
          0.365,
          0.363,
          0.361,
          0.358,
          0.355,
          0.35,
          0.345,
          0.339,
          0.331,
          0.324,
          0.317,
          0.308,
          0.3,
          0.291,
          0.282,
          0.274,
          0.266,
          0.259,
          0.251,
          0.243,
          0.237,
          0.232,
          0.227,
          0.223,
          0.218,
          0.215,
          0.212,
          0.21,
          0.209,
          0.207,
          0.206,
          0.205,
          0.205,
          0.206,
          0.207,
          0.208,
          0.211,
          0.213,
          0.217,
          0.221,
          0.224,
          0.227,
          0.23,
          0.233,
          0.237,
          0.241,
          0.245,
          0.249,
          0.253,
          0.257,
          0.261,
          0.266,
          0.271,
          0.276,
          0.281,
          0.286,
          0.291,
          0.296
         ]
        },
        {
         "marker": {
          "colorscale": [
           [
            0,
            "rgb(92, 83, 165)"
           ],
           [
            0.16666666666666666,
            "rgb(160, 89, 160)"
           ],
           [
            0.3333333333333333,
            "rgb(206, 102, 147)"
           ],
           [
            0.5,
            "rgb(235, 127, 134)"
           ],
           [
            0.6666666666666666,
            "rgb(248, 160, 126)"
           ],
           [
            0.8333333333333334,
            "rgb(250, 196, 132)"
           ],
           [
            1,
            "rgb(243, 231, 155)"
           ]
          ],
          "opacity": 0.8,
          "size": 2
         },
         "mode": "lines",
         "name": "SMOOTHED",
         "showlegend": true,
         "type": "scatter3d",
         "x": [
          -0.696,
          -0.6828720543117159,
          -0.6627573854485115,
          -0.6436850763297581,
          -0.6319175837822932,
          -0.6368659900789982,
          -0.6494293140355482,
          -0.6623088580645724
         ],
         "y": [
          1.457,
          1.4866220983772602,
          1.4758121525488597,
          1.4332418860534972,
          1.3894148544174807,
          1.3426407037159993,
          1.3104535212045036,
          1.296276669173649
         ],
         "z": [
          0.365,
          0.33607431721274084,
          0.2759550279707197,
          0.22645420186935472,
          0.20640438258152585,
          0.21270815497681977,
          0.23807009842995697,
          0.2692131535443165
         ]
        }
       ],
       "layout": {
        "scene": {
         "aspectmode": "data"
        },
        "template": {
         "data": {
          "bar": [
           {
            "error_x": {
             "color": "#2a3f5f"
            },
            "error_y": {
             "color": "#2a3f5f"
            },
            "marker": {
             "line": {
              "color": "#E5ECF6",
              "width": 0.5
             },
             "pattern": {
              "fillmode": "overlay",
              "size": 10,
              "solidity": 0.2
             }
            },
            "type": "bar"
           }
          ],
          "barpolar": [
           {
            "marker": {
             "line": {
              "color": "#E5ECF6",
              "width": 0.5
             },
             "pattern": {
              "fillmode": "overlay",
              "size": 10,
              "solidity": 0.2
             }
            },
            "type": "barpolar"
           }
          ],
          "carpet": [
           {
            "aaxis": {
             "endlinecolor": "#2a3f5f",
             "gridcolor": "white",
             "linecolor": "white",
             "minorgridcolor": "white",
             "startlinecolor": "#2a3f5f"
            },
            "baxis": {
             "endlinecolor": "#2a3f5f",
             "gridcolor": "white",
             "linecolor": "white",
             "minorgridcolor": "white",
             "startlinecolor": "#2a3f5f"
            },
            "type": "carpet"
           }
          ],
          "choropleth": [
           {
            "colorbar": {
             "outlinewidth": 0,
             "ticks": ""
            },
            "type": "choropleth"
           }
          ],
          "contour": [
           {
            "colorbar": {
             "outlinewidth": 0,
             "ticks": ""
            },
            "colorscale": [
             [
              0,
              "#0d0887"
             ],
             [
              0.1111111111111111,
              "#46039f"
             ],
             [
              0.2222222222222222,
              "#7201a8"
             ],
             [
              0.3333333333333333,
              "#9c179e"
             ],
             [
              0.4444444444444444,
              "#bd3786"
             ],
             [
              0.5555555555555556,
              "#d8576b"
             ],
             [
              0.6666666666666666,
              "#ed7953"
             ],
             [
              0.7777777777777778,
              "#fb9f3a"
             ],
             [
              0.8888888888888888,
              "#fdca26"
             ],
             [
              1,
              "#f0f921"
             ]
            ],
            "type": "contour"
           }
          ],
          "contourcarpet": [
           {
            "colorbar": {
             "outlinewidth": 0,
             "ticks": ""
            },
            "type": "contourcarpet"
           }
          ],
          "heatmap": [
           {
            "colorbar": {
             "outlinewidth": 0,
             "ticks": ""
            },
            "colorscale": [
             [
              0,
              "#0d0887"
             ],
             [
              0.1111111111111111,
              "#46039f"
             ],
             [
              0.2222222222222222,
              "#7201a8"
             ],
             [
              0.3333333333333333,
              "#9c179e"
             ],
             [
              0.4444444444444444,
              "#bd3786"
             ],
             [
              0.5555555555555556,
              "#d8576b"
             ],
             [
              0.6666666666666666,
              "#ed7953"
             ],
             [
              0.7777777777777778,
              "#fb9f3a"
             ],
             [
              0.8888888888888888,
              "#fdca26"
             ],
             [
              1,
              "#f0f921"
             ]
            ],
            "type": "heatmap"
           }
          ],
          "heatmapgl": [
           {
            "colorbar": {
             "outlinewidth": 0,
             "ticks": ""
            },
            "colorscale": [
             [
              0,
              "#0d0887"
             ],
             [
              0.1111111111111111,
              "#46039f"
             ],
             [
              0.2222222222222222,
              "#7201a8"
             ],
             [
              0.3333333333333333,
              "#9c179e"
             ],
             [
              0.4444444444444444,
              "#bd3786"
             ],
             [
              0.5555555555555556,
              "#d8576b"
             ],
             [
              0.6666666666666666,
              "#ed7953"
             ],
             [
              0.7777777777777778,
              "#fb9f3a"
             ],
             [
              0.8888888888888888,
              "#fdca26"
             ],
             [
              1,
              "#f0f921"
             ]
            ],
            "type": "heatmapgl"
           }
          ],
          "histogram": [
           {
            "marker": {
             "pattern": {
              "fillmode": "overlay",
              "size": 10,
              "solidity": 0.2
             }
            },
            "type": "histogram"
           }
          ],
          "histogram2d": [
           {
            "colorbar": {
             "outlinewidth": 0,
             "ticks": ""
            },
            "colorscale": [
             [
              0,
              "#0d0887"
             ],
             [
              0.1111111111111111,
              "#46039f"
             ],
             [
              0.2222222222222222,
              "#7201a8"
             ],
             [
              0.3333333333333333,
              "#9c179e"
             ],
             [
              0.4444444444444444,
              "#bd3786"
             ],
             [
              0.5555555555555556,
              "#d8576b"
             ],
             [
              0.6666666666666666,
              "#ed7953"
             ],
             [
              0.7777777777777778,
              "#fb9f3a"
             ],
             [
              0.8888888888888888,
              "#fdca26"
             ],
             [
              1,
              "#f0f921"
             ]
            ],
            "type": "histogram2d"
           }
          ],
          "histogram2dcontour": [
           {
            "colorbar": {
             "outlinewidth": 0,
             "ticks": ""
            },
            "colorscale": [
             [
              0,
              "#0d0887"
             ],
             [
              0.1111111111111111,
              "#46039f"
             ],
             [
              0.2222222222222222,
              "#7201a8"
             ],
             [
              0.3333333333333333,
              "#9c179e"
             ],
             [
              0.4444444444444444,
              "#bd3786"
             ],
             [
              0.5555555555555556,
              "#d8576b"
             ],
             [
              0.6666666666666666,
              "#ed7953"
             ],
             [
              0.7777777777777778,
              "#fb9f3a"
             ],
             [
              0.8888888888888888,
              "#fdca26"
             ],
             [
              1,
              "#f0f921"
             ]
            ],
            "type": "histogram2dcontour"
           }
          ],
          "mesh3d": [
           {
            "colorbar": {
             "outlinewidth": 0,
             "ticks": ""
            },
            "type": "mesh3d"
           }
          ],
          "parcoords": [
           {
            "line": {
             "colorbar": {
              "outlinewidth": 0,
              "ticks": ""
             }
            },
            "type": "parcoords"
           }
          ],
          "pie": [
           {
            "automargin": true,
            "type": "pie"
           }
          ],
          "scatter": [
           {
            "fillpattern": {
             "fillmode": "overlay",
             "size": 10,
             "solidity": 0.2
            },
            "type": "scatter"
           }
          ],
          "scatter3d": [
           {
            "line": {
             "colorbar": {
              "outlinewidth": 0,
              "ticks": ""
             }
            },
            "marker": {
             "colorbar": {
              "outlinewidth": 0,
              "ticks": ""
             }
            },
            "type": "scatter3d"
           }
          ],
          "scattercarpet": [
           {
            "marker": {
             "colorbar": {
              "outlinewidth": 0,
              "ticks": ""
             }
            },
            "type": "scattercarpet"
           }
          ],
          "scattergeo": [
           {
            "marker": {
             "colorbar": {
              "outlinewidth": 0,
              "ticks": ""
             }
            },
            "type": "scattergeo"
           }
          ],
          "scattergl": [
           {
            "marker": {
             "colorbar": {
              "outlinewidth": 0,
              "ticks": ""
             }
            },
            "type": "scattergl"
           }
          ],
          "scattermapbox": [
           {
            "marker": {
             "colorbar": {
              "outlinewidth": 0,
              "ticks": ""
             }
            },
            "type": "scattermapbox"
           }
          ],
          "scatterpolar": [
           {
            "marker": {
             "colorbar": {
              "outlinewidth": 0,
              "ticks": ""
             }
            },
            "type": "scatterpolar"
           }
          ],
          "scatterpolargl": [
           {
            "marker": {
             "colorbar": {
              "outlinewidth": 0,
              "ticks": ""
             }
            },
            "type": "scatterpolargl"
           }
          ],
          "scatterternary": [
           {
            "marker": {
             "colorbar": {
              "outlinewidth": 0,
              "ticks": ""
             }
            },
            "type": "scatterternary"
           }
          ],
          "surface": [
           {
            "colorbar": {
             "outlinewidth": 0,
             "ticks": ""
            },
            "colorscale": [
             [
              0,
              "#0d0887"
             ],
             [
              0.1111111111111111,
              "#46039f"
             ],
             [
              0.2222222222222222,
              "#7201a8"
             ],
             [
              0.3333333333333333,
              "#9c179e"
             ],
             [
              0.4444444444444444,
              "#bd3786"
             ],
             [
              0.5555555555555556,
              "#d8576b"
             ],
             [
              0.6666666666666666,
              "#ed7953"
             ],
             [
              0.7777777777777778,
              "#fb9f3a"
             ],
             [
              0.8888888888888888,
              "#fdca26"
             ],
             [
              1,
              "#f0f921"
             ]
            ],
            "type": "surface"
           }
          ],
          "table": [
           {
            "cells": {
             "fill": {
              "color": "#EBF0F8"
             },
             "line": {
              "color": "white"
             }
            },
            "header": {
             "fill": {
              "color": "#C8D4E3"
             },
             "line": {
              "color": "white"
             }
            },
            "type": "table"
           }
          ]
         },
         "layout": {
          "annotationdefaults": {
           "arrowcolor": "#2a3f5f",
           "arrowhead": 0,
           "arrowwidth": 1
          },
          "autotypenumbers": "strict",
          "coloraxis": {
           "colorbar": {
            "outlinewidth": 0,
            "ticks": ""
           }
          },
          "colorscale": {
           "diverging": [
            [
             0,
             "#8e0152"
            ],
            [
             0.1,
             "#c51b7d"
            ],
            [
             0.2,
             "#de77ae"
            ],
            [
             0.3,
             "#f1b6da"
            ],
            [
             0.4,
             "#fde0ef"
            ],
            [
             0.5,
             "#f7f7f7"
            ],
            [
             0.6,
             "#e6f5d0"
            ],
            [
             0.7,
             "#b8e186"
            ],
            [
             0.8,
             "#7fbc41"
            ],
            [
             0.9,
             "#4d9221"
            ],
            [
             1,
             "#276419"
            ]
           ],
           "sequential": [
            [
             0,
             "#0d0887"
            ],
            [
             0.1111111111111111,
             "#46039f"
            ],
            [
             0.2222222222222222,
             "#7201a8"
            ],
            [
             0.3333333333333333,
             "#9c179e"
            ],
            [
             0.4444444444444444,
             "#bd3786"
            ],
            [
             0.5555555555555556,
             "#d8576b"
            ],
            [
             0.6666666666666666,
             "#ed7953"
            ],
            [
             0.7777777777777778,
             "#fb9f3a"
            ],
            [
             0.8888888888888888,
             "#fdca26"
            ],
            [
             1,
             "#f0f921"
            ]
           ],
           "sequentialminus": [
            [
             0,
             "#0d0887"
            ],
            [
             0.1111111111111111,
             "#46039f"
            ],
            [
             0.2222222222222222,
             "#7201a8"
            ],
            [
             0.3333333333333333,
             "#9c179e"
            ],
            [
             0.4444444444444444,
             "#bd3786"
            ],
            [
             0.5555555555555556,
             "#d8576b"
            ],
            [
             0.6666666666666666,
             "#ed7953"
            ],
            [
             0.7777777777777778,
             "#fb9f3a"
            ],
            [
             0.8888888888888888,
             "#fdca26"
            ],
            [
             1,
             "#f0f921"
            ]
           ]
          },
          "colorway": [
           "#636efa",
           "#EF553B",
           "#00cc96",
           "#ab63fa",
           "#FFA15A",
           "#19d3f3",
           "#FF6692",
           "#B6E880",
           "#FF97FF",
           "#FECB52"
          ],
          "font": {
           "color": "#2a3f5f"
          },
          "geo": {
           "bgcolor": "white",
           "lakecolor": "white",
           "landcolor": "#E5ECF6",
           "showlakes": true,
           "showland": true,
           "subunitcolor": "white"
          },
          "hoverlabel": {
           "align": "left"
          },
          "hovermode": "closest",
          "mapbox": {
           "style": "light"
          },
          "paper_bgcolor": "white",
          "plot_bgcolor": "#E5ECF6",
          "polar": {
           "angularaxis": {
            "gridcolor": "white",
            "linecolor": "white",
            "ticks": ""
           },
           "bgcolor": "#E5ECF6",
           "radialaxis": {
            "gridcolor": "white",
            "linecolor": "white",
            "ticks": ""
           }
          },
          "scene": {
           "xaxis": {
            "backgroundcolor": "#E5ECF6",
            "gridcolor": "white",
            "gridwidth": 2,
            "linecolor": "white",
            "showbackground": true,
            "ticks": "",
            "zerolinecolor": "white"
           },
           "yaxis": {
            "backgroundcolor": "#E5ECF6",
            "gridcolor": "white",
            "gridwidth": 2,
            "linecolor": "white",
            "showbackground": true,
            "ticks": "",
            "zerolinecolor": "white"
           },
           "zaxis": {
            "backgroundcolor": "#E5ECF6",
            "gridcolor": "white",
            "gridwidth": 2,
            "linecolor": "white",
            "showbackground": true,
            "ticks": "",
            "zerolinecolor": "white"
           }
          },
          "shapedefaults": {
           "line": {
            "color": "#2a3f5f"
           }
          },
          "ternary": {
           "aaxis": {
            "gridcolor": "white",
            "linecolor": "white",
            "ticks": ""
           },
           "baxis": {
            "gridcolor": "white",
            "linecolor": "white",
            "ticks": ""
           },
           "bgcolor": "#E5ECF6",
           "caxis": {
            "gridcolor": "white",
            "linecolor": "white",
            "ticks": ""
           }
          },
          "title": {
           "x": 0.05
          },
          "xaxis": {
           "automargin": true,
           "gridcolor": "white",
           "linecolor": "white",
           "ticks": "",
           "title": {
            "standoff": 15
           },
           "zerolinecolor": "white",
           "zerolinewidth": 2
          },
          "yaxis": {
           "automargin": true,
           "gridcolor": "white",
           "linecolor": "white",
           "ticks": "",
           "title": {
            "standoff": 15
           },
           "zerolinecolor": "white",
           "zerolinewidth": 2
          }
         }
        },
        "title": {
         "text": "ROT BACK X SUB 11 SESS 1"
        }
       }
      }
     },
     "metadata": {},
     "output_type": "display_data"
    }
   ],
   "source": [
    "import numpy as np\n",
    "from scipy.interpolate import BSpline, make_interp_spline\n",
    "\n",
    "\n",
    "def drop_df(df, trial_num):\n",
    "    df.drop(df[(df[\"trigger_pull_amount_right\"] == 0) & (df[\"trigger_pull_amount_left\"] == 0)].index, inplace=True)\n",
    "    df.drop(df[(df['gesture_counter_UI']) != trial_num].index, inplace=True)\n",
    "    df.reset_index(drop=True, inplace=True)\n",
    "\n",
    "\n",
    "#path_sess1 = 'C:\\\\Users\\\\katie\\\\Desktop\\\\cpsc\\\\VRelax\\\\gestureInterface\\\\CleanedData\\\\Sub11\\\\Freeform_Sub11_Sess1\\\\cleaned_session_F_BoxSelect_subjID_11_05-10-23_03-50-54.csv'\n",
    "path_sess1 = 'C:\\\\Users\\\\katie\\\\Desktop\\\\cpsc\\\\VRelax\\\\gestureInterface\\\\CleanedData\\\\Sub11\\\\Freeform_Sub11_Sess1\\\\cleaned_session_F_PanDown_subjID_11_05-10-23_03-50-41.csv'\n",
    "path_sess2 = 'C:\\\\Users\\\\katie\\\\Desktop\\\\cpsc\\\\VRelax\\\\gestureInterface\\\\CleanedData\\\\Sub11\\\\Freeform_Sub11_Sess1\\\\cleaned_session_F_RotBackX_subjID_11_05-10-23_03-52-41.csv'\n",
    "path_sess3 = 'C:\\\\Users\\\\katie\\\\Desktop\\\\cpsc\\\\VRelax\\\\gestureInterface\\\\CleanedData\\\\Sub11\\\\Freeform_Sub11_Sess1\\\\cleaned_session_F_BoxSelect_subjID_11_05-10-23_03-50-54.csv'\n",
    "path_sess1 = 'C:\\\\Users\\\\katie\\\\Desktop\\\\cpsc\\\\VRelax\\\\gestureInterface\\\\CleanedData\\\\Sub1\\\\Freeform_Sub1_Sess1\\\\cleaned_session_F_PanDown_subjID_1_04-14-23_02-23-56.csv'\n",
    "df_sess3 = pd.read_csv(path_sess3)\n",
    "drop_df(df_sess3, 1)\n",
    "\n",
    "# Gets new df\n",
    "df_sess1 = pd.read_csv(path_sess1)\n",
    "drop_df(df_sess1, 1)\n",
    "\n",
    "fig1 = go.Figure()\n",
    "sess1_rX = df_sess1['r_controller_translation_x']\n",
    "sess1_rY = df_sess1['r_controller_translation_y']\n",
    "sess1_rZ = df_sess1['r_controller_translation_z']\n",
    "\n",
    "if np.any(df_sess1['trigger_pull_amount_left'] > 0):\n",
    "    print('left hand')\n",
    "\n",
    "x = np.array(sess1_rX)\n",
    "y = np.array(sess1_rY)\n",
    "z = np.array(sess1_rZ)\n",
    "\n",
    "# The number of control points and knots\n",
    "k = 3  # degree of the B-spline\n",
    "t = np.linspace(0, 1, len(sess1_rZ))\n",
    "\n",
    "# Create the B-spline representation for each dimension\n",
    "spl_x = make_interp_spline(t, x, k=k)\n",
    "spl_y = make_interp_spline(t, y, k=k)\n",
    "spl_z = make_interp_spline(t, z, k=k)\n",
    "\n",
    "# Evaluate the B-spline over a dense set of points for a smooth trajectory\n",
    "dense_t = np.linspace(0, 1, 5 * len(sess1_rZ))  # points in the smoothed curve; can be adjusted\n",
    "x_smooth = spl_x(dense_t)\n",
    "y_smooth = spl_y(dense_t)\n",
    "z_smooth = spl_z(dense_t)\n",
    "\n",
    "new_x_smooth = []\n",
    "new_y_smooth = []\n",
    "new_z_smooth = []\n",
    "for index in range(len(x_smooth)):\n",
    "    if (index % 150 != 0) :\n",
    "        continue\n",
    "    new_x_smooth.append(x_smooth[index])\n",
    "    new_y_smooth.append(y_smooth[index])\n",
    "    new_z_smooth.append(z_smooth[index])\n",
    "\n",
    "fig1.add_trace(go.Scatter3d(\n",
    "    x = sess1_rX,\n",
    "    y = sess1_rY,\n",
    "    z = sess1_rZ,\n",
    "    mode='markers',\n",
    "    marker=dict(\n",
    "        size=2,\n",
    "        colorscale='viridis',  # colorscale\n",
    "        opacity=0.8,\n",
    "    ),\n",
    "    name='ORIGINAL',\n",
    "    showlegend=True)\n",
    ")\n",
    "fig1.add_trace(go.Scatter3d(\n",
    "    x = new_x_smooth,\n",
    "    y = new_y_smooth,\n",
    "    z = new_z_smooth,\n",
    "    mode='lines',\n",
    "    marker=dict(\n",
    "        size=2,\n",
    "        colorscale='sunset_r',  # colorscale\n",
    "        opacity=0.8,\n",
    "    ),\n",
    "    name='SMOOTHED',\n",
    "    showlegend=True)\n",
    ")\n",
    "fig1.update_layout(\n",
    "    title_text='PAN DOWN SUB 11 SESS 1', \n",
    "    scene_aspectmode='data'\n",
    ")\n",
    "fig1.show()\n",
    "\n",
    "\n",
    "\n",
    "\n",
    "\n",
    "# Gets new df\n",
    "df_sess2 = pd.read_csv(path_sess2)\n",
    "drop_df(df_sess2, 1)\n",
    "\n",
    "fig2 = go.Figure()\n",
    "sess2_rX = df_sess2['r_controller_translation_x']\n",
    "sess2_rY = df_sess2['r_controller_translation_y']\n",
    "sess2_rZ = df_sess2['r_controller_translation_z']\n",
    "\n",
    "x = np.array(sess2_rX)\n",
    "y = np.array(sess2_rY)\n",
    "z = np.array(sess2_rZ)\n",
    "\n",
    "# The number of control points and knots\n",
    "k = 3  # degree of the B-spline\n",
    "t = np.linspace(0, 1, len(sess2_rZ))\n",
    "\n",
    "# Create the B-spline representation for each dimension\n",
    "spl_x = make_interp_spline(t, x, k=k)\n",
    "spl_y = make_interp_spline(t, y, k=k)\n",
    "spl_z = make_interp_spline(t, z, k=k)\n",
    "\n",
    "# Evaluate the B-spline over a dense set of points for a smooth trajectory\n",
    "dense_t = np.linspace(0, 1, 20 * len(sess2_rZ))  # points in the smoothed curve; can be adjusted\n",
    "x_smooth = spl_x(dense_t)\n",
    "y_smooth = spl_y(dense_t)\n",
    "z_smooth = spl_z(dense_t)\n",
    "\n",
    "new_x_smooth = []\n",
    "new_y_smooth = []\n",
    "new_z_smooth = []\n",
    "for index in range(len(x_smooth)):\n",
    "    if (index % 150 != 0) :\n",
    "        continue\n",
    "    new_x_smooth.append(x_smooth[index])\n",
    "    new_y_smooth.append(y_smooth[index])\n",
    "    new_z_smooth.append(z_smooth[index])\n",
    "    \n",
    "\n",
    "fig2.add_trace(go.Scatter3d(\n",
    "    x = sess2_rX,\n",
    "    y = sess2_rY,\n",
    "    z = sess2_rZ,\n",
    "    mode='markers',\n",
    "    marker=dict(\n",
    "        size=2,\n",
    "        colorscale='viridis',  # colorscale\n",
    "        opacity=0.8,\n",
    "    ),\n",
    "    name='ORIGINAL',\n",
    "    showlegend=True)\n",
    ")\n",
    "fig2.add_trace(go.Scatter3d(\n",
    "    x = new_x_smooth,\n",
    "    y = new_y_smooth,\n",
    "    z = new_z_smooth,\n",
    "    mode='lines',\n",
    "    marker=dict(\n",
    "        size=2,\n",
    "        colorscale='sunset_r',  # colorscale\n",
    "        opacity=0.8,\n",
    "    ),\n",
    "    name='SMOOTHED',\n",
    "    showlegend=True)\n",
    ")\n",
    "fig2.update_layout(\n",
    "    title_text='ROT BACK X SUB 11 SESS 1', \n",
    "    scene_aspectmode='data'\n",
    ")\n",
    "fig2.show()\n",
    "\n",
    "#fig2.update_layout(title_text='Smoothed: BOX SELECT SUB 1 SESS 1', scene_aspectmode='data')\n",
    "#fig2.show()"
   ]
  },
  {
   "cell_type": "code",
   "execution_count": 100,
   "metadata": {},
   "outputs": [
    {
     "data": {
      "application/vnd.plotly.v1+json": {
       "config": {
        "plotlyServerURL": "https://plot.ly"
       },
       "data": [
        {
         "marker": {
          "colorscale": [
           [
            0,
            "#440154"
           ],
           [
            0.1111111111111111,
            "#482878"
           ],
           [
            0.2222222222222222,
            "#3e4989"
           ],
           [
            0.3333333333333333,
            "#31688e"
           ],
           [
            0.4444444444444444,
            "#26828e"
           ],
           [
            0.5555555555555556,
            "#1f9e89"
           ],
           [
            0.6666666666666666,
            "#35b779"
           ],
           [
            0.7777777777777778,
            "#6ece58"
           ],
           [
            0.8888888888888888,
            "#b5de2b"
           ],
           [
            1,
            "#fde725"
           ]
          ],
          "opacity": 0.8,
          "size": 2
         },
         "mode": "markers",
         "name": "ORIGINAL",
         "showlegend": true,
         "type": "scatter3d",
         "x": [
          -0.249,
          -0.248,
          -0.246,
          -0.244,
          -0.24,
          -0.235,
          -0.228,
          -0.219,
          -0.21,
          -0.201,
          -0.192,
          -0.182,
          -0.173,
          -0.163,
          -0.154,
          -0.146,
          -0.138,
          -0.13,
          -0.123,
          -0.116,
          -0.109,
          -0.103,
          -0.097,
          -0.092,
          -0.086,
          -0.081,
          -0.075,
          -0.069,
          -0.064,
          -0.059,
          -0.054,
          -0.049,
          -0.045,
          -0.041,
          -0.037,
          -0.034,
          -0.032,
          -0.031,
          -0.03,
          -0.029,
          -0.03,
          -0.03,
          -0.032,
          -0.033,
          -0.035,
          -0.037,
          -0.039,
          -0.042,
          -0.045,
          -0.048,
          -0.051,
          -0.055,
          -0.059
         ],
         "y": [
          1.287,
          1.288,
          1.289,
          1.291,
          1.292,
          1.295,
          1.298,
          1.303,
          1.307,
          1.312,
          1.316,
          1.32,
          1.323,
          1.327,
          1.33,
          1.332,
          1.334,
          1.336,
          1.338,
          1.339,
          1.341,
          1.342,
          1.343,
          1.344,
          1.345,
          1.345,
          1.346,
          1.346,
          1.346,
          1.346,
          1.346,
          1.346,
          1.346,
          1.345,
          1.345,
          1.344,
          1.343,
          1.342,
          1.341,
          1.34,
          1.34,
          1.34,
          1.34,
          1.341,
          1.34,
          1.34,
          1.339,
          1.338,
          1.337,
          1.336,
          1.335,
          1.333,
          1.332
         ],
         "z": [
          1.019,
          1.02,
          1.02,
          1.02,
          1.02,
          1.02,
          1.019,
          1.018,
          1.016,
          1.013,
          1.01,
          1.007,
          1.003,
          0.998,
          0.993,
          0.988,
          0.982,
          0.976,
          0.97,
          0.963,
          0.957,
          0.95,
          0.943,
          0.936,
          0.929,
          0.921,
          0.913,
          0.905,
          0.896,
          0.888,
          0.879,
          0.87,
          0.861,
          0.852,
          0.844,
          0.837,
          0.831,
          0.825,
          0.82,
          0.816,
          0.815,
          0.813,
          0.813,
          0.813,
          0.814,
          0.815,
          0.819,
          0.822,
          0.825,
          0.829,
          0.833,
          0.837,
          0.841
         ]
        },
        {
         "marker": {
          "colorscale": [
           [
            0,
            "rgb(92, 83, 165)"
           ],
           [
            0.16666666666666666,
            "rgb(160, 89, 160)"
           ],
           [
            0.3333333333333333,
            "rgb(206, 102, 147)"
           ],
           [
            0.5,
            "rgb(235, 127, 134)"
           ],
           [
            0.6666666666666666,
            "rgb(248, 160, 126)"
           ],
           [
            0.8333333333333334,
            "rgb(250, 196, 132)"
           ],
           [
            1,
            "rgb(243, 231, 155)"
           ]
          ],
          "opacity": 0.8,
          "size": 2
         },
         "mode": "lines",
         "name": "SMOOTHED",
         "showlegend": true,
         "type": "scatter3d",
         "x": [
          -0.249,
          -0.19344031132991496,
          -0.11102735884126888,
          -0.05628972558056967,
          -0.029333375674275266,
          -0.048690735425874744
         ],
         "y": [
          1.287,
          1.3154073628128422,
          1.340411056191374,
          1.3460060370507052,
          1.3399071357722603,
          1.3358024307444682
         ],
         "z": [
          1.019,
          1.0104386075063103,
          0.9588354522679632,
          0.8831918594172192,
          0.8154711016377842,
          0.8299874646377287
         ]
        }
       ],
       "layout": {
        "scene": {
         "aspectmode": "data"
        },
        "template": {
         "data": {
          "bar": [
           {
            "error_x": {
             "color": "#2a3f5f"
            },
            "error_y": {
             "color": "#2a3f5f"
            },
            "marker": {
             "line": {
              "color": "#E5ECF6",
              "width": 0.5
             },
             "pattern": {
              "fillmode": "overlay",
              "size": 10,
              "solidity": 0.2
             }
            },
            "type": "bar"
           }
          ],
          "barpolar": [
           {
            "marker": {
             "line": {
              "color": "#E5ECF6",
              "width": 0.5
             },
             "pattern": {
              "fillmode": "overlay",
              "size": 10,
              "solidity": 0.2
             }
            },
            "type": "barpolar"
           }
          ],
          "carpet": [
           {
            "aaxis": {
             "endlinecolor": "#2a3f5f",
             "gridcolor": "white",
             "linecolor": "white",
             "minorgridcolor": "white",
             "startlinecolor": "#2a3f5f"
            },
            "baxis": {
             "endlinecolor": "#2a3f5f",
             "gridcolor": "white",
             "linecolor": "white",
             "minorgridcolor": "white",
             "startlinecolor": "#2a3f5f"
            },
            "type": "carpet"
           }
          ],
          "choropleth": [
           {
            "colorbar": {
             "outlinewidth": 0,
             "ticks": ""
            },
            "type": "choropleth"
           }
          ],
          "contour": [
           {
            "colorbar": {
             "outlinewidth": 0,
             "ticks": ""
            },
            "colorscale": [
             [
              0,
              "#0d0887"
             ],
             [
              0.1111111111111111,
              "#46039f"
             ],
             [
              0.2222222222222222,
              "#7201a8"
             ],
             [
              0.3333333333333333,
              "#9c179e"
             ],
             [
              0.4444444444444444,
              "#bd3786"
             ],
             [
              0.5555555555555556,
              "#d8576b"
             ],
             [
              0.6666666666666666,
              "#ed7953"
             ],
             [
              0.7777777777777778,
              "#fb9f3a"
             ],
             [
              0.8888888888888888,
              "#fdca26"
             ],
             [
              1,
              "#f0f921"
             ]
            ],
            "type": "contour"
           }
          ],
          "contourcarpet": [
           {
            "colorbar": {
             "outlinewidth": 0,
             "ticks": ""
            },
            "type": "contourcarpet"
           }
          ],
          "heatmap": [
           {
            "colorbar": {
             "outlinewidth": 0,
             "ticks": ""
            },
            "colorscale": [
             [
              0,
              "#0d0887"
             ],
             [
              0.1111111111111111,
              "#46039f"
             ],
             [
              0.2222222222222222,
              "#7201a8"
             ],
             [
              0.3333333333333333,
              "#9c179e"
             ],
             [
              0.4444444444444444,
              "#bd3786"
             ],
             [
              0.5555555555555556,
              "#d8576b"
             ],
             [
              0.6666666666666666,
              "#ed7953"
             ],
             [
              0.7777777777777778,
              "#fb9f3a"
             ],
             [
              0.8888888888888888,
              "#fdca26"
             ],
             [
              1,
              "#f0f921"
             ]
            ],
            "type": "heatmap"
           }
          ],
          "heatmapgl": [
           {
            "colorbar": {
             "outlinewidth": 0,
             "ticks": ""
            },
            "colorscale": [
             [
              0,
              "#0d0887"
             ],
             [
              0.1111111111111111,
              "#46039f"
             ],
             [
              0.2222222222222222,
              "#7201a8"
             ],
             [
              0.3333333333333333,
              "#9c179e"
             ],
             [
              0.4444444444444444,
              "#bd3786"
             ],
             [
              0.5555555555555556,
              "#d8576b"
             ],
             [
              0.6666666666666666,
              "#ed7953"
             ],
             [
              0.7777777777777778,
              "#fb9f3a"
             ],
             [
              0.8888888888888888,
              "#fdca26"
             ],
             [
              1,
              "#f0f921"
             ]
            ],
            "type": "heatmapgl"
           }
          ],
          "histogram": [
           {
            "marker": {
             "pattern": {
              "fillmode": "overlay",
              "size": 10,
              "solidity": 0.2
             }
            },
            "type": "histogram"
           }
          ],
          "histogram2d": [
           {
            "colorbar": {
             "outlinewidth": 0,
             "ticks": ""
            },
            "colorscale": [
             [
              0,
              "#0d0887"
             ],
             [
              0.1111111111111111,
              "#46039f"
             ],
             [
              0.2222222222222222,
              "#7201a8"
             ],
             [
              0.3333333333333333,
              "#9c179e"
             ],
             [
              0.4444444444444444,
              "#bd3786"
             ],
             [
              0.5555555555555556,
              "#d8576b"
             ],
             [
              0.6666666666666666,
              "#ed7953"
             ],
             [
              0.7777777777777778,
              "#fb9f3a"
             ],
             [
              0.8888888888888888,
              "#fdca26"
             ],
             [
              1,
              "#f0f921"
             ]
            ],
            "type": "histogram2d"
           }
          ],
          "histogram2dcontour": [
           {
            "colorbar": {
             "outlinewidth": 0,
             "ticks": ""
            },
            "colorscale": [
             [
              0,
              "#0d0887"
             ],
             [
              0.1111111111111111,
              "#46039f"
             ],
             [
              0.2222222222222222,
              "#7201a8"
             ],
             [
              0.3333333333333333,
              "#9c179e"
             ],
             [
              0.4444444444444444,
              "#bd3786"
             ],
             [
              0.5555555555555556,
              "#d8576b"
             ],
             [
              0.6666666666666666,
              "#ed7953"
             ],
             [
              0.7777777777777778,
              "#fb9f3a"
             ],
             [
              0.8888888888888888,
              "#fdca26"
             ],
             [
              1,
              "#f0f921"
             ]
            ],
            "type": "histogram2dcontour"
           }
          ],
          "mesh3d": [
           {
            "colorbar": {
             "outlinewidth": 0,
             "ticks": ""
            },
            "type": "mesh3d"
           }
          ],
          "parcoords": [
           {
            "line": {
             "colorbar": {
              "outlinewidth": 0,
              "ticks": ""
             }
            },
            "type": "parcoords"
           }
          ],
          "pie": [
           {
            "automargin": true,
            "type": "pie"
           }
          ],
          "scatter": [
           {
            "fillpattern": {
             "fillmode": "overlay",
             "size": 10,
             "solidity": 0.2
            },
            "type": "scatter"
           }
          ],
          "scatter3d": [
           {
            "line": {
             "colorbar": {
              "outlinewidth": 0,
              "ticks": ""
             }
            },
            "marker": {
             "colorbar": {
              "outlinewidth": 0,
              "ticks": ""
             }
            },
            "type": "scatter3d"
           }
          ],
          "scattercarpet": [
           {
            "marker": {
             "colorbar": {
              "outlinewidth": 0,
              "ticks": ""
             }
            },
            "type": "scattercarpet"
           }
          ],
          "scattergeo": [
           {
            "marker": {
             "colorbar": {
              "outlinewidth": 0,
              "ticks": ""
             }
            },
            "type": "scattergeo"
           }
          ],
          "scattergl": [
           {
            "marker": {
             "colorbar": {
              "outlinewidth": 0,
              "ticks": ""
             }
            },
            "type": "scattergl"
           }
          ],
          "scattermapbox": [
           {
            "marker": {
             "colorbar": {
              "outlinewidth": 0,
              "ticks": ""
             }
            },
            "type": "scattermapbox"
           }
          ],
          "scatterpolar": [
           {
            "marker": {
             "colorbar": {
              "outlinewidth": 0,
              "ticks": ""
             }
            },
            "type": "scatterpolar"
           }
          ],
          "scatterpolargl": [
           {
            "marker": {
             "colorbar": {
              "outlinewidth": 0,
              "ticks": ""
             }
            },
            "type": "scatterpolargl"
           }
          ],
          "scatterternary": [
           {
            "marker": {
             "colorbar": {
              "outlinewidth": 0,
              "ticks": ""
             }
            },
            "type": "scatterternary"
           }
          ],
          "surface": [
           {
            "colorbar": {
             "outlinewidth": 0,
             "ticks": ""
            },
            "colorscale": [
             [
              0,
              "#0d0887"
             ],
             [
              0.1111111111111111,
              "#46039f"
             ],
             [
              0.2222222222222222,
              "#7201a8"
             ],
             [
              0.3333333333333333,
              "#9c179e"
             ],
             [
              0.4444444444444444,
              "#bd3786"
             ],
             [
              0.5555555555555556,
              "#d8576b"
             ],
             [
              0.6666666666666666,
              "#ed7953"
             ],
             [
              0.7777777777777778,
              "#fb9f3a"
             ],
             [
              0.8888888888888888,
              "#fdca26"
             ],
             [
              1,
              "#f0f921"
             ]
            ],
            "type": "surface"
           }
          ],
          "table": [
           {
            "cells": {
             "fill": {
              "color": "#EBF0F8"
             },
             "line": {
              "color": "white"
             }
            },
            "header": {
             "fill": {
              "color": "#C8D4E3"
             },
             "line": {
              "color": "white"
             }
            },
            "type": "table"
           }
          ]
         },
         "layout": {
          "annotationdefaults": {
           "arrowcolor": "#2a3f5f",
           "arrowhead": 0,
           "arrowwidth": 1
          },
          "autotypenumbers": "strict",
          "coloraxis": {
           "colorbar": {
            "outlinewidth": 0,
            "ticks": ""
           }
          },
          "colorscale": {
           "diverging": [
            [
             0,
             "#8e0152"
            ],
            [
             0.1,
             "#c51b7d"
            ],
            [
             0.2,
             "#de77ae"
            ],
            [
             0.3,
             "#f1b6da"
            ],
            [
             0.4,
             "#fde0ef"
            ],
            [
             0.5,
             "#f7f7f7"
            ],
            [
             0.6,
             "#e6f5d0"
            ],
            [
             0.7,
             "#b8e186"
            ],
            [
             0.8,
             "#7fbc41"
            ],
            [
             0.9,
             "#4d9221"
            ],
            [
             1,
             "#276419"
            ]
           ],
           "sequential": [
            [
             0,
             "#0d0887"
            ],
            [
             0.1111111111111111,
             "#46039f"
            ],
            [
             0.2222222222222222,
             "#7201a8"
            ],
            [
             0.3333333333333333,
             "#9c179e"
            ],
            [
             0.4444444444444444,
             "#bd3786"
            ],
            [
             0.5555555555555556,
             "#d8576b"
            ],
            [
             0.6666666666666666,
             "#ed7953"
            ],
            [
             0.7777777777777778,
             "#fb9f3a"
            ],
            [
             0.8888888888888888,
             "#fdca26"
            ],
            [
             1,
             "#f0f921"
            ]
           ],
           "sequentialminus": [
            [
             0,
             "#0d0887"
            ],
            [
             0.1111111111111111,
             "#46039f"
            ],
            [
             0.2222222222222222,
             "#7201a8"
            ],
            [
             0.3333333333333333,
             "#9c179e"
            ],
            [
             0.4444444444444444,
             "#bd3786"
            ],
            [
             0.5555555555555556,
             "#d8576b"
            ],
            [
             0.6666666666666666,
             "#ed7953"
            ],
            [
             0.7777777777777778,
             "#fb9f3a"
            ],
            [
             0.8888888888888888,
             "#fdca26"
            ],
            [
             1,
             "#f0f921"
            ]
           ]
          },
          "colorway": [
           "#636efa",
           "#EF553B",
           "#00cc96",
           "#ab63fa",
           "#FFA15A",
           "#19d3f3",
           "#FF6692",
           "#B6E880",
           "#FF97FF",
           "#FECB52"
          ],
          "font": {
           "color": "#2a3f5f"
          },
          "geo": {
           "bgcolor": "white",
           "lakecolor": "white",
           "landcolor": "#E5ECF6",
           "showlakes": true,
           "showland": true,
           "subunitcolor": "white"
          },
          "hoverlabel": {
           "align": "left"
          },
          "hovermode": "closest",
          "mapbox": {
           "style": "light"
          },
          "paper_bgcolor": "white",
          "plot_bgcolor": "#E5ECF6",
          "polar": {
           "angularaxis": {
            "gridcolor": "white",
            "linecolor": "white",
            "ticks": ""
           },
           "bgcolor": "#E5ECF6",
           "radialaxis": {
            "gridcolor": "white",
            "linecolor": "white",
            "ticks": ""
           }
          },
          "scene": {
           "xaxis": {
            "backgroundcolor": "#E5ECF6",
            "gridcolor": "white",
            "gridwidth": 2,
            "linecolor": "white",
            "showbackground": true,
            "ticks": "",
            "zerolinecolor": "white"
           },
           "yaxis": {
            "backgroundcolor": "#E5ECF6",
            "gridcolor": "white",
            "gridwidth": 2,
            "linecolor": "white",
            "showbackground": true,
            "ticks": "",
            "zerolinecolor": "white"
           },
           "zaxis": {
            "backgroundcolor": "#E5ECF6",
            "gridcolor": "white",
            "gridwidth": 2,
            "linecolor": "white",
            "showbackground": true,
            "ticks": "",
            "zerolinecolor": "white"
           }
          },
          "shapedefaults": {
           "line": {
            "color": "#2a3f5f"
           }
          },
          "ternary": {
           "aaxis": {
            "gridcolor": "white",
            "linecolor": "white",
            "ticks": ""
           },
           "baxis": {
            "gridcolor": "white",
            "linecolor": "white",
            "ticks": ""
           },
           "bgcolor": "#E5ECF6",
           "caxis": {
            "gridcolor": "white",
            "linecolor": "white",
            "ticks": ""
           }
          },
          "title": {
           "x": 0.05
          },
          "xaxis": {
           "automargin": true,
           "gridcolor": "white",
           "linecolor": "white",
           "ticks": "",
           "title": {
            "standoff": 15
           },
           "zerolinecolor": "white",
           "zerolinewidth": 2
          },
          "yaxis": {
           "automargin": true,
           "gridcolor": "white",
           "linecolor": "white",
           "ticks": "",
           "title": {
            "standoff": 15
           },
           "zerolinecolor": "white",
           "zerolinewidth": 2
          }
         }
        },
        "title": {
         "text": "PAN RIGHT SUB 4 SESS 1"
        }
       }
      }
     },
     "metadata": {},
     "output_type": "display_data"
    },
    {
     "name": "stdout",
     "output_type": "stream",
     "text": [
      "53\n",
      "265\n",
      "32\n"
     ]
    },
    {
     "data": {
      "application/vnd.plotly.v1+json": {
       "config": {
        "plotlyServerURL": "https://plot.ly"
       },
       "data": [
        {
         "marker": {
          "colorscale": [
           [
            0,
            "#440154"
           ],
           [
            0.1111111111111111,
            "#482878"
           ],
           [
            0.2222222222222222,
            "#3e4989"
           ],
           [
            0.3333333333333333,
            "#31688e"
           ],
           [
            0.4444444444444444,
            "#26828e"
           ],
           [
            0.5555555555555556,
            "#1f9e89"
           ],
           [
            0.6666666666666666,
            "#35b779"
           ],
           [
            0.7777777777777778,
            "#6ece58"
           ],
           [
            0.8888888888888888,
            "#b5de2b"
           ],
           [
            1,
            "#fde725"
           ]
          ],
          "opacity": 0.8,
          "size": 2
         },
         "mode": "markers",
         "name": "ORIGINAL",
         "showlegend": true,
         "type": "scatter3d",
         "x": [
          -0.135,
          -0.128,
          -0.122,
          -0.113,
          -0.103,
          -0.091,
          -0.078,
          -0.062,
          -0.045,
          -0.026,
          -0.005,
          0.018,
          0.042,
          0.067,
          0.089,
          0.111,
          0.129,
          0.145,
          0.156,
          0.163,
          0.167,
          0.169,
          0.168,
          0.162,
          0.159,
          0.154,
          0.147,
          0.141,
          0.135,
          0.13,
          0.124,
          0.118
         ],
         "y": [
          1.447,
          1.448,
          1.449,
          1.45,
          1.451,
          1.453,
          1.455,
          1.457,
          1.458,
          1.459,
          1.459,
          1.458,
          1.455,
          1.451,
          1.446,
          1.441,
          1.434,
          1.428,
          1.422,
          1.417,
          1.414,
          1.411,
          1.411,
          1.411,
          1.412,
          1.413,
          1.414,
          1.416,
          1.418,
          1.419,
          1.422,
          1.424
         ],
         "z": [
          0.318,
          0.319,
          0.32,
          0.322,
          0.323,
          0.324,
          0.325,
          0.326,
          0.327,
          0.328,
          0.328,
          0.328,
          0.327,
          0.325,
          0.322,
          0.318,
          0.313,
          0.309,
          0.305,
          0.302,
          0.299,
          0.298,
          0.298,
          0.299,
          0.3,
          0.3,
          0.301,
          0.302,
          0.302,
          0.303,
          0.303,
          0.303
         ]
        },
        {
         "marker": {
          "colorscale": [
           [
            0,
            "rgb(92, 83, 165)"
           ],
           [
            0.16666666666666666,
            "rgb(160, 89, 160)"
           ],
           [
            0.3333333333333333,
            "rgb(206, 102, 147)"
           ],
           [
            0.5,
            "rgb(235, 127, 134)"
           ],
           [
            0.6666666666666666,
            "rgb(248, 160, 126)"
           ],
           [
            0.8333333333333334,
            "rgb(250, 196, 132)"
           ],
           [
            1,
            "rgb(243, 231, 155)"
           ]
          ],
          "opacity": 0.8,
          "size": 2
         },
         "mode": "lines",
         "name": "SMOOTHED",
         "showlegend": true,
         "type": "scatter3d",
         "x": [
          -0.135,
          -0.010489414372997745,
          0.16529590762205323,
          0.12864085982239892
         ],
         "y": [
          1.447,
          1.4590851177244368,
          1.4154390182861118,
          1.4195639998526388
         ],
         "z": [
          0.318,
          0.32802629852082654,
          0.30039067942006187,
          0.30311604813212484
         ]
        }
       ],
       "layout": {
        "scene": {
         "aspectmode": "data"
        },
        "template": {
         "data": {
          "bar": [
           {
            "error_x": {
             "color": "#2a3f5f"
            },
            "error_y": {
             "color": "#2a3f5f"
            },
            "marker": {
             "line": {
              "color": "#E5ECF6",
              "width": 0.5
             },
             "pattern": {
              "fillmode": "overlay",
              "size": 10,
              "solidity": 0.2
             }
            },
            "type": "bar"
           }
          ],
          "barpolar": [
           {
            "marker": {
             "line": {
              "color": "#E5ECF6",
              "width": 0.5
             },
             "pattern": {
              "fillmode": "overlay",
              "size": 10,
              "solidity": 0.2
             }
            },
            "type": "barpolar"
           }
          ],
          "carpet": [
           {
            "aaxis": {
             "endlinecolor": "#2a3f5f",
             "gridcolor": "white",
             "linecolor": "white",
             "minorgridcolor": "white",
             "startlinecolor": "#2a3f5f"
            },
            "baxis": {
             "endlinecolor": "#2a3f5f",
             "gridcolor": "white",
             "linecolor": "white",
             "minorgridcolor": "white",
             "startlinecolor": "#2a3f5f"
            },
            "type": "carpet"
           }
          ],
          "choropleth": [
           {
            "colorbar": {
             "outlinewidth": 0,
             "ticks": ""
            },
            "type": "choropleth"
           }
          ],
          "contour": [
           {
            "colorbar": {
             "outlinewidth": 0,
             "ticks": ""
            },
            "colorscale": [
             [
              0,
              "#0d0887"
             ],
             [
              0.1111111111111111,
              "#46039f"
             ],
             [
              0.2222222222222222,
              "#7201a8"
             ],
             [
              0.3333333333333333,
              "#9c179e"
             ],
             [
              0.4444444444444444,
              "#bd3786"
             ],
             [
              0.5555555555555556,
              "#d8576b"
             ],
             [
              0.6666666666666666,
              "#ed7953"
             ],
             [
              0.7777777777777778,
              "#fb9f3a"
             ],
             [
              0.8888888888888888,
              "#fdca26"
             ],
             [
              1,
              "#f0f921"
             ]
            ],
            "type": "contour"
           }
          ],
          "contourcarpet": [
           {
            "colorbar": {
             "outlinewidth": 0,
             "ticks": ""
            },
            "type": "contourcarpet"
           }
          ],
          "heatmap": [
           {
            "colorbar": {
             "outlinewidth": 0,
             "ticks": ""
            },
            "colorscale": [
             [
              0,
              "#0d0887"
             ],
             [
              0.1111111111111111,
              "#46039f"
             ],
             [
              0.2222222222222222,
              "#7201a8"
             ],
             [
              0.3333333333333333,
              "#9c179e"
             ],
             [
              0.4444444444444444,
              "#bd3786"
             ],
             [
              0.5555555555555556,
              "#d8576b"
             ],
             [
              0.6666666666666666,
              "#ed7953"
             ],
             [
              0.7777777777777778,
              "#fb9f3a"
             ],
             [
              0.8888888888888888,
              "#fdca26"
             ],
             [
              1,
              "#f0f921"
             ]
            ],
            "type": "heatmap"
           }
          ],
          "heatmapgl": [
           {
            "colorbar": {
             "outlinewidth": 0,
             "ticks": ""
            },
            "colorscale": [
             [
              0,
              "#0d0887"
             ],
             [
              0.1111111111111111,
              "#46039f"
             ],
             [
              0.2222222222222222,
              "#7201a8"
             ],
             [
              0.3333333333333333,
              "#9c179e"
             ],
             [
              0.4444444444444444,
              "#bd3786"
             ],
             [
              0.5555555555555556,
              "#d8576b"
             ],
             [
              0.6666666666666666,
              "#ed7953"
             ],
             [
              0.7777777777777778,
              "#fb9f3a"
             ],
             [
              0.8888888888888888,
              "#fdca26"
             ],
             [
              1,
              "#f0f921"
             ]
            ],
            "type": "heatmapgl"
           }
          ],
          "histogram": [
           {
            "marker": {
             "pattern": {
              "fillmode": "overlay",
              "size": 10,
              "solidity": 0.2
             }
            },
            "type": "histogram"
           }
          ],
          "histogram2d": [
           {
            "colorbar": {
             "outlinewidth": 0,
             "ticks": ""
            },
            "colorscale": [
             [
              0,
              "#0d0887"
             ],
             [
              0.1111111111111111,
              "#46039f"
             ],
             [
              0.2222222222222222,
              "#7201a8"
             ],
             [
              0.3333333333333333,
              "#9c179e"
             ],
             [
              0.4444444444444444,
              "#bd3786"
             ],
             [
              0.5555555555555556,
              "#d8576b"
             ],
             [
              0.6666666666666666,
              "#ed7953"
             ],
             [
              0.7777777777777778,
              "#fb9f3a"
             ],
             [
              0.8888888888888888,
              "#fdca26"
             ],
             [
              1,
              "#f0f921"
             ]
            ],
            "type": "histogram2d"
           }
          ],
          "histogram2dcontour": [
           {
            "colorbar": {
             "outlinewidth": 0,
             "ticks": ""
            },
            "colorscale": [
             [
              0,
              "#0d0887"
             ],
             [
              0.1111111111111111,
              "#46039f"
             ],
             [
              0.2222222222222222,
              "#7201a8"
             ],
             [
              0.3333333333333333,
              "#9c179e"
             ],
             [
              0.4444444444444444,
              "#bd3786"
             ],
             [
              0.5555555555555556,
              "#d8576b"
             ],
             [
              0.6666666666666666,
              "#ed7953"
             ],
             [
              0.7777777777777778,
              "#fb9f3a"
             ],
             [
              0.8888888888888888,
              "#fdca26"
             ],
             [
              1,
              "#f0f921"
             ]
            ],
            "type": "histogram2dcontour"
           }
          ],
          "mesh3d": [
           {
            "colorbar": {
             "outlinewidth": 0,
             "ticks": ""
            },
            "type": "mesh3d"
           }
          ],
          "parcoords": [
           {
            "line": {
             "colorbar": {
              "outlinewidth": 0,
              "ticks": ""
             }
            },
            "type": "parcoords"
           }
          ],
          "pie": [
           {
            "automargin": true,
            "type": "pie"
           }
          ],
          "scatter": [
           {
            "fillpattern": {
             "fillmode": "overlay",
             "size": 10,
             "solidity": 0.2
            },
            "type": "scatter"
           }
          ],
          "scatter3d": [
           {
            "line": {
             "colorbar": {
              "outlinewidth": 0,
              "ticks": ""
             }
            },
            "marker": {
             "colorbar": {
              "outlinewidth": 0,
              "ticks": ""
             }
            },
            "type": "scatter3d"
           }
          ],
          "scattercarpet": [
           {
            "marker": {
             "colorbar": {
              "outlinewidth": 0,
              "ticks": ""
             }
            },
            "type": "scattercarpet"
           }
          ],
          "scattergeo": [
           {
            "marker": {
             "colorbar": {
              "outlinewidth": 0,
              "ticks": ""
             }
            },
            "type": "scattergeo"
           }
          ],
          "scattergl": [
           {
            "marker": {
             "colorbar": {
              "outlinewidth": 0,
              "ticks": ""
             }
            },
            "type": "scattergl"
           }
          ],
          "scattermapbox": [
           {
            "marker": {
             "colorbar": {
              "outlinewidth": 0,
              "ticks": ""
             }
            },
            "type": "scattermapbox"
           }
          ],
          "scatterpolar": [
           {
            "marker": {
             "colorbar": {
              "outlinewidth": 0,
              "ticks": ""
             }
            },
            "type": "scatterpolar"
           }
          ],
          "scatterpolargl": [
           {
            "marker": {
             "colorbar": {
              "outlinewidth": 0,
              "ticks": ""
             }
            },
            "type": "scatterpolargl"
           }
          ],
          "scatterternary": [
           {
            "marker": {
             "colorbar": {
              "outlinewidth": 0,
              "ticks": ""
             }
            },
            "type": "scatterternary"
           }
          ],
          "surface": [
           {
            "colorbar": {
             "outlinewidth": 0,
             "ticks": ""
            },
            "colorscale": [
             [
              0,
              "#0d0887"
             ],
             [
              0.1111111111111111,
              "#46039f"
             ],
             [
              0.2222222222222222,
              "#7201a8"
             ],
             [
              0.3333333333333333,
              "#9c179e"
             ],
             [
              0.4444444444444444,
              "#bd3786"
             ],
             [
              0.5555555555555556,
              "#d8576b"
             ],
             [
              0.6666666666666666,
              "#ed7953"
             ],
             [
              0.7777777777777778,
              "#fb9f3a"
             ],
             [
              0.8888888888888888,
              "#fdca26"
             ],
             [
              1,
              "#f0f921"
             ]
            ],
            "type": "surface"
           }
          ],
          "table": [
           {
            "cells": {
             "fill": {
              "color": "#EBF0F8"
             },
             "line": {
              "color": "white"
             }
            },
            "header": {
             "fill": {
              "color": "#C8D4E3"
             },
             "line": {
              "color": "white"
             }
            },
            "type": "table"
           }
          ]
         },
         "layout": {
          "annotationdefaults": {
           "arrowcolor": "#2a3f5f",
           "arrowhead": 0,
           "arrowwidth": 1
          },
          "autotypenumbers": "strict",
          "coloraxis": {
           "colorbar": {
            "outlinewidth": 0,
            "ticks": ""
           }
          },
          "colorscale": {
           "diverging": [
            [
             0,
             "#8e0152"
            ],
            [
             0.1,
             "#c51b7d"
            ],
            [
             0.2,
             "#de77ae"
            ],
            [
             0.3,
             "#f1b6da"
            ],
            [
             0.4,
             "#fde0ef"
            ],
            [
             0.5,
             "#f7f7f7"
            ],
            [
             0.6,
             "#e6f5d0"
            ],
            [
             0.7,
             "#b8e186"
            ],
            [
             0.8,
             "#7fbc41"
            ],
            [
             0.9,
             "#4d9221"
            ],
            [
             1,
             "#276419"
            ]
           ],
           "sequential": [
            [
             0,
             "#0d0887"
            ],
            [
             0.1111111111111111,
             "#46039f"
            ],
            [
             0.2222222222222222,
             "#7201a8"
            ],
            [
             0.3333333333333333,
             "#9c179e"
            ],
            [
             0.4444444444444444,
             "#bd3786"
            ],
            [
             0.5555555555555556,
             "#d8576b"
            ],
            [
             0.6666666666666666,
             "#ed7953"
            ],
            [
             0.7777777777777778,
             "#fb9f3a"
            ],
            [
             0.8888888888888888,
             "#fdca26"
            ],
            [
             1,
             "#f0f921"
            ]
           ],
           "sequentialminus": [
            [
             0,
             "#0d0887"
            ],
            [
             0.1111111111111111,
             "#46039f"
            ],
            [
             0.2222222222222222,
             "#7201a8"
            ],
            [
             0.3333333333333333,
             "#9c179e"
            ],
            [
             0.4444444444444444,
             "#bd3786"
            ],
            [
             0.5555555555555556,
             "#d8576b"
            ],
            [
             0.6666666666666666,
             "#ed7953"
            ],
            [
             0.7777777777777778,
             "#fb9f3a"
            ],
            [
             0.8888888888888888,
             "#fdca26"
            ],
            [
             1,
             "#f0f921"
            ]
           ]
          },
          "colorway": [
           "#636efa",
           "#EF553B",
           "#00cc96",
           "#ab63fa",
           "#FFA15A",
           "#19d3f3",
           "#FF6692",
           "#B6E880",
           "#FF97FF",
           "#FECB52"
          ],
          "font": {
           "color": "#2a3f5f"
          },
          "geo": {
           "bgcolor": "white",
           "lakecolor": "white",
           "landcolor": "#E5ECF6",
           "showlakes": true,
           "showland": true,
           "subunitcolor": "white"
          },
          "hoverlabel": {
           "align": "left"
          },
          "hovermode": "closest",
          "mapbox": {
           "style": "light"
          },
          "paper_bgcolor": "white",
          "plot_bgcolor": "#E5ECF6",
          "polar": {
           "angularaxis": {
            "gridcolor": "white",
            "linecolor": "white",
            "ticks": ""
           },
           "bgcolor": "#E5ECF6",
           "radialaxis": {
            "gridcolor": "white",
            "linecolor": "white",
            "ticks": ""
           }
          },
          "scene": {
           "xaxis": {
            "backgroundcolor": "#E5ECF6",
            "gridcolor": "white",
            "gridwidth": 2,
            "linecolor": "white",
            "showbackground": true,
            "ticks": "",
            "zerolinecolor": "white"
           },
           "yaxis": {
            "backgroundcolor": "#E5ECF6",
            "gridcolor": "white",
            "gridwidth": 2,
            "linecolor": "white",
            "showbackground": true,
            "ticks": "",
            "zerolinecolor": "white"
           },
           "zaxis": {
            "backgroundcolor": "#E5ECF6",
            "gridcolor": "white",
            "gridwidth": 2,
            "linecolor": "white",
            "showbackground": true,
            "ticks": "",
            "zerolinecolor": "white"
           }
          },
          "shapedefaults": {
           "line": {
            "color": "#2a3f5f"
           }
          },
          "ternary": {
           "aaxis": {
            "gridcolor": "white",
            "linecolor": "white",
            "ticks": ""
           },
           "baxis": {
            "gridcolor": "white",
            "linecolor": "white",
            "ticks": ""
           },
           "bgcolor": "#E5ECF6",
           "caxis": {
            "gridcolor": "white",
            "linecolor": "white",
            "ticks": ""
           }
          },
          "title": {
           "x": 0.05
          },
          "xaxis": {
           "automargin": true,
           "gridcolor": "white",
           "linecolor": "white",
           "ticks": "",
           "title": {
            "standoff": 15
           },
           "zerolinecolor": "white",
           "zerolinewidth": 2
          },
          "yaxis": {
           "automargin": true,
           "gridcolor": "white",
           "linecolor": "white",
           "ticks": "",
           "title": {
            "standoff": 15
           },
           "zerolinecolor": "white",
           "zerolinewidth": 2
          }
         }
        },
        "title": {
         "text": "PAN RIGHT SUB 6 SESS 1"
        }
       }
      }
     },
     "metadata": {},
     "output_type": "display_data"
    },
    {
     "name": "stdout",
     "output_type": "stream",
     "text": [
      "160\n"
     ]
    }
   ],
   "source": [
    "import numpy as np\n",
    "from scipy.interpolate import BSpline, make_interp_spline\n",
    "\n",
    "\n",
    "def drop_df(df, trial_num):\n",
    "    df.drop(df[(df[\"trigger_pull_amount_right\"] == 0) & (df[\"trigger_pull_amount_left\"] == 0)].index, inplace=True)\n",
    "    df.drop(df[(df['gesture_counter_UI']) != trial_num].index, inplace=True)\n",
    "    df.reset_index(drop=True, inplace=True)\n",
    "\n",
    "\n",
    "#path_sess1 = 'C:\\\\Users\\\\katie\\\\Desktop\\\\cpsc\\\\VRelax\\\\gestureInterface\\\\CleanedData\\\\Sub11\\\\Freeform_Sub11_Sess1\\\\cleaned_session_F_BoxSelect_subjID_11_05-10-23_03-50-54.csv'\n",
    "\n",
    "path_sess1 = 'C:\\\\Users\\\\katie\\\\Desktop\\\\cpsc\\\\VRelax\\\\gestureInterface\\\\CleanedData\\\\Sub11\\\\Freeform_Sub11_Sess1\\\\cleaned_session_F_PanRight_subjID_11_05-10-23_03-49-47.csv'\n",
    "path_sess2 = 'C:\\\\Users\\\\katie\\\\Desktop\\\\cpsc\\\\VRelax\\\\gestureInterface\\\\CleanedData\\\\Sub11\\\\Freeform_Sub11_Sess1\\\\cleaned_session_F_PanRight_subjID_11_06-05-23_03-21-29.csv'\n",
    "path_sess3 = 'C:\\\\Users\\\\katie\\\\Desktop\\\\cpsc\\\\VRelax\\\\gestureInterface\\\\CleanedData\\\\Sub11\\\\Freeform_Sub11_Sess1\\\\cleaned_session_F_PanRight_subjID_11_06-13-23_02-07-26.csv'\n",
    "path_sess1 = 'C:\\\\Users\\\\katie\\\\Desktop\\\\cpsc\\\\VRelax\\\\gestureInterface\\\\CleanedData\\\\Sub10\\\\Freeform_Sub10_Sess1\\\\cleaned_session_F_PanRight_subjID_10_05-10-23_02-36-16.csv'\n",
    "path_sess1 = 'C:\\\\Users\\\\katie\\\\Desktop\\\\cpsc\\\\VRelax\\\\gestureInterface\\\\CleanedData\\\\Sub4\\\\Freeform_Sub4_Sess1\\\\cleaned_session_F_PanRight_subjID_4_04-28-23_03-32-02.csv'\n",
    "path_sess2 = 'C:\\\\Users\\\\katie\\\\Desktop\\\\cpsc\\\\VRelax\\\\gestureInterface\\\\CleanedData\\\\Sub6\\\\Freeform_Sub6_Sess1\\\\cleaned_session_F_PanRight_subjID_6_05-05-23_03-31-23.csv'\n",
    "\n",
    "# Gets new df\n",
    "df_sess1 = pd.read_csv(path_sess1)\n",
    "drop_df(df_sess1, 1)\n",
    "\n",
    "fig1 = go.Figure()\n",
    "sess1_rX = df_sess1['r_controller_translation_x']\n",
    "sess1_rY = df_sess1['r_controller_translation_y']\n",
    "sess1_rZ = df_sess1['r_controller_translation_z']\n",
    "\n",
    "x = np.array(sess1_rX)\n",
    "y = np.array(sess1_rY)\n",
    "z = np.array(sess1_rZ)\n",
    "\n",
    "# The number of control points and knots\n",
    "k = 3  # degree of the B-spline\n",
    "t = np.linspace(0, 1, len(sess1_rZ))\n",
    "\n",
    "# Create the B-spline representation for each dimension\n",
    "spl_x = make_interp_spline(t, x, k=k)\n",
    "spl_y = make_interp_spline(t, y, k=k)\n",
    "spl_z = make_interp_spline(t, z, k=k)\n",
    "\n",
    "# Evaluate the B-spline over a dense set of points for a smooth trajectory\n",
    "dense_t = np.linspace(0, 1, 5 * len(sess1_rZ))  # points in the smoothed curve; can be adjusted\n",
    "x_smooth = spl_x(dense_t)\n",
    "y_smooth = spl_y(dense_t)\n",
    "z_smooth = spl_z(dense_t)\n",
    "\n",
    "new_x_smooth = []\n",
    "new_y_smooth = []\n",
    "new_z_smooth = []\n",
    "for index in range(len(x_smooth)):\n",
    "    if (index % 50 != 0) :\n",
    "        continue\n",
    "    new_x_smooth.append(x_smooth[index])\n",
    "    new_y_smooth.append(y_smooth[index])\n",
    "    new_z_smooth.append(z_smooth[index])\n",
    "\n",
    "fig1.add_trace(go.Scatter3d(\n",
    "    x = sess1_rX,\n",
    "    y = sess1_rY,\n",
    "    z = sess1_rZ,\n",
    "    mode='markers',\n",
    "    marker=dict(\n",
    "        size=2,\n",
    "        colorscale='viridis',  # colorscale\n",
    "        opacity=0.8,\n",
    "    ),\n",
    "    name='ORIGINAL',\n",
    "    showlegend=True)\n",
    ")\n",
    "fig1.add_trace(go.Scatter3d(\n",
    "    x = new_x_smooth,\n",
    "    y = new_y_smooth,\n",
    "    z = new_z_smooth,\n",
    "    mode='lines',\n",
    "    marker=dict(\n",
    "        size=2,\n",
    "        colorscale='sunset_r',  # colorscale\n",
    "        opacity=0.8,\n",
    "    ),\n",
    "    name='SMOOTHED',\n",
    "    showlegend=True)\n",
    ")\n",
    "fig1.update_layout(\n",
    "    title_text='PAN RIGHT SUB 4 SESS 1', \n",
    "    scene_aspectmode='data'\n",
    ")\n",
    "fig1.show()\n",
    "print(len(sess1_rX))\n",
    "print(len(x_smooth))\n",
    "\n",
    "\n",
    "\n",
    "\n",
    "# Gets new df\n",
    "df_sess2 = pd.read_csv(path_sess2)\n",
    "drop_df(df_sess2, 4)\n",
    "\n",
    "fig2 = go.Figure()\n",
    "sess2_rX = df_sess2['r_controller_translation_x']\n",
    "sess2_rY = df_sess2['r_controller_translation_y']\n",
    "sess2_rZ = df_sess2['r_controller_translation_z']\n",
    "print(len(sess2_rX))\n",
    "\n",
    "x = np.array(sess2_rX)\n",
    "y = np.array(sess2_rY)\n",
    "z = np.array(sess2_rZ)\n",
    "\n",
    "# The number of control points and knots\n",
    "k = 3  # degree of the B-spline\n",
    "t = np.linspace(0, 1, len(sess2_rZ))\n",
    "\n",
    "# Create the B-spline representation for each dimension\n",
    "spl_x = make_interp_spline(t, x, k=k)\n",
    "spl_y = make_interp_spline(t, y, k=k)\n",
    "spl_z = make_interp_spline(t, z, k=k)\n",
    "\n",
    "# Evaluate the B-spline over a dense set of points for a smooth trajectory\n",
    "dense_t = np.linspace(0, 1, 5 * len(sess2_rZ))  # points in the smoothed curve; can be adjusted\n",
    "x_smooth = spl_x(dense_t)\n",
    "y_smooth = spl_y(dense_t)\n",
    "z_smooth = spl_z(dense_t)\n",
    "\n",
    "new_x_smooth = []\n",
    "new_y_smooth = []\n",
    "new_z_smooth = []\n",
    "for index in range(len(x_smooth)):\n",
    "    if (index % 50 != 0) :\n",
    "        continue\n",
    "    new_x_smooth.append(x_smooth[index])\n",
    "    new_y_smooth.append(y_smooth[index])\n",
    "    new_z_smooth.append(z_smooth[index])\n",
    "    \n",
    "\n",
    "fig2.add_trace(go.Scatter3d(\n",
    "    x = sess2_rX,\n",
    "    y = sess2_rY,\n",
    "    z = sess2_rZ,\n",
    "    mode='markers',\n",
    "    marker=dict(\n",
    "        size=2,\n",
    "        colorscale='viridis',  # colorscale\n",
    "        opacity=0.8,\n",
    "    ),\n",
    "    name='ORIGINAL',\n",
    "    showlegend=True)\n",
    ")\n",
    "fig2.add_trace(go.Scatter3d(\n",
    "    x = new_x_smooth,\n",
    "    y = new_y_smooth,\n",
    "    z = new_z_smooth,\n",
    "    mode='lines',\n",
    "    marker=dict(\n",
    "        size=2,\n",
    "        colorscale='sunset_r',  # colorscale\n",
    "        opacity=0.8,\n",
    "    ),\n",
    "    name='SMOOTHED',\n",
    "    showlegend=True)\n",
    ")\n",
    "fig2.update_layout(\n",
    "    title_text='PAN RIGHT SUB 6 SESS 1', \n",
    "    scene_aspectmode='data'\n",
    ")\n",
    "fig2.show()\n",
    "print(len(x_smooth))\n",
    "\n",
    "#fig2.update_layout(title_text='Smoothed: BOX SELECT SUB 1 SESS 1', scene_aspectmode='data')\n",
    "#fig2.show()"
   ]
  },
  {
   "cell_type": "code",
   "execution_count": 4,
   "metadata": {},
   "outputs": [
    {
     "data": {
      "application/vnd.plotly.v1+json": {
       "config": {
        "plotlyServerURL": "https://plot.ly"
       },
       "data": [
        {
         "marker": {
          "colorscale": [
           [
            0,
            "#440154"
           ],
           [
            0.1111111111111111,
            "#482878"
           ],
           [
            0.2222222222222222,
            "#3e4989"
           ],
           [
            0.3333333333333333,
            "#31688e"
           ],
           [
            0.4444444444444444,
            "#26828e"
           ],
           [
            0.5555555555555556,
            "#1f9e89"
           ],
           [
            0.6666666666666666,
            "#35b779"
           ],
           [
            0.7777777777777778,
            "#6ece58"
           ],
           [
            0.8888888888888888,
            "#b5de2b"
           ],
           [
            1,
            "#fde725"
           ]
          ],
          "opacity": 0.8,
          "size": 2
         },
         "mode": "markers",
         "name": "ORIGINAL",
         "showlegend": true,
         "type": "scatter3d",
         "x": [
          -0.589,
          -0.589,
          -0.59,
          -0.59,
          -0.592,
          -0.594,
          -0.597,
          -0.599,
          -0.601,
          -0.603,
          -0.605,
          -0.607,
          -0.608,
          -0.61,
          -0.611,
          -0.613,
          -0.614,
          -0.615,
          -0.616,
          -0.617,
          -0.618,
          -0.619,
          -0.62,
          -0.62,
          -0.621,
          -0.621,
          -0.622,
          -0.622,
          -0.622,
          -0.623,
          -0.623,
          -0.623,
          -0.623,
          -0.622,
          -0.622,
          -0.622,
          -0.622,
          -0.622,
          -0.622,
          -0.621,
          -0.621,
          -0.62,
          -0.619,
          -0.619,
          -0.618,
          -0.618,
          -0.617,
          -0.616,
          -0.616,
          -0.616,
          -0.616,
          -0.615,
          -0.615,
          -0.615,
          -0.614,
          -0.614,
          -0.614,
          -0.613,
          -0.613,
          -0.613,
          -0.613,
          -0.613
         ],
         "y": [
          1.524,
          1.524,
          1.522,
          1.52,
          1.517,
          1.513,
          1.508,
          1.502,
          1.496,
          1.49,
          1.484,
          1.477,
          1.47,
          1.463,
          1.455,
          1.448,
          1.44,
          1.431,
          1.423,
          1.415,
          1.407,
          1.399,
          1.391,
          1.383,
          1.376,
          1.368,
          1.361,
          1.353,
          1.345,
          1.338,
          1.331,
          1.324,
          1.317,
          1.311,
          1.304,
          1.298,
          1.291,
          1.285,
          1.279,
          1.273,
          1.268,
          1.262,
          1.257,
          1.252,
          1.247,
          1.242,
          1.237,
          1.232,
          1.228,
          1.223,
          1.219,
          1.215,
          1.212,
          1.208,
          1.206,
          1.204,
          1.202,
          1.2,
          1.199,
          1.198,
          1.197,
          1.197
         ],
         "z": [
          0.281,
          0.281,
          0.282,
          0.284,
          0.285,
          0.285,
          0.285,
          0.286,
          0.287,
          0.288,
          0.289,
          0.29,
          0.291,
          0.293,
          0.294,
          0.296,
          0.298,
          0.299,
          0.3,
          0.302,
          0.302,
          0.303,
          0.304,
          0.304,
          0.305,
          0.305,
          0.306,
          0.306,
          0.306,
          0.305,
          0.305,
          0.305,
          0.305,
          0.305,
          0.304,
          0.303,
          0.302,
          0.301,
          0.3,
          0.3,
          0.299,
          0.298,
          0.297,
          0.296,
          0.295,
          0.295,
          0.294,
          0.293,
          0.292,
          0.291,
          0.29,
          0.289,
          0.288,
          0.287,
          0.287,
          0.286,
          0.286,
          0.285,
          0.285,
          0.284,
          0.284,
          0.284
         ]
        },
        {
         "marker": {
          "colorscale": [
           [
            0,
            "rgb(92, 83, 165)"
           ],
           [
            0.16666666666666666,
            "rgb(160, 89, 160)"
           ],
           [
            0.3333333333333333,
            "rgb(206, 102, 147)"
           ],
           [
            0.5,
            "rgb(235, 127, 134)"
           ],
           [
            0.6666666666666666,
            "rgb(248, 160, 126)"
           ],
           [
            0.8333333333333334,
            "rgb(250, 196, 132)"
           ],
           [
            1,
            "rgb(243, 231, 155)"
           ]
          ],
          "opacity": 0.8,
          "size": 2
         },
         "mode": "lines",
         "name": "SMOOTHED",
         "showlegend": true,
         "type": "scatter3d",
         "x": [
          -0.589,
          -0.6230891822424438,
          -0.6129926252961966
         ],
         "y": [
          1.524,
          1.3337259817106148,
          1.1977490994267395
         ],
         "z": [
          0.281,
          0.30491347909260585,
          0.28388722173910286
         ]
        }
       ],
       "layout": {
        "scene": {
         "aspectmode": "data"
        },
        "template": {
         "data": {
          "bar": [
           {
            "error_x": {
             "color": "#2a3f5f"
            },
            "error_y": {
             "color": "#2a3f5f"
            },
            "marker": {
             "line": {
              "color": "#E5ECF6",
              "width": 0.5
             },
             "pattern": {
              "fillmode": "overlay",
              "size": 10,
              "solidity": 0.2
             }
            },
            "type": "bar"
           }
          ],
          "barpolar": [
           {
            "marker": {
             "line": {
              "color": "#E5ECF6",
              "width": 0.5
             },
             "pattern": {
              "fillmode": "overlay",
              "size": 10,
              "solidity": 0.2
             }
            },
            "type": "barpolar"
           }
          ],
          "carpet": [
           {
            "aaxis": {
             "endlinecolor": "#2a3f5f",
             "gridcolor": "white",
             "linecolor": "white",
             "minorgridcolor": "white",
             "startlinecolor": "#2a3f5f"
            },
            "baxis": {
             "endlinecolor": "#2a3f5f",
             "gridcolor": "white",
             "linecolor": "white",
             "minorgridcolor": "white",
             "startlinecolor": "#2a3f5f"
            },
            "type": "carpet"
           }
          ],
          "choropleth": [
           {
            "colorbar": {
             "outlinewidth": 0,
             "ticks": ""
            },
            "type": "choropleth"
           }
          ],
          "contour": [
           {
            "colorbar": {
             "outlinewidth": 0,
             "ticks": ""
            },
            "colorscale": [
             [
              0,
              "#0d0887"
             ],
             [
              0.1111111111111111,
              "#46039f"
             ],
             [
              0.2222222222222222,
              "#7201a8"
             ],
             [
              0.3333333333333333,
              "#9c179e"
             ],
             [
              0.4444444444444444,
              "#bd3786"
             ],
             [
              0.5555555555555556,
              "#d8576b"
             ],
             [
              0.6666666666666666,
              "#ed7953"
             ],
             [
              0.7777777777777778,
              "#fb9f3a"
             ],
             [
              0.8888888888888888,
              "#fdca26"
             ],
             [
              1,
              "#f0f921"
             ]
            ],
            "type": "contour"
           }
          ],
          "contourcarpet": [
           {
            "colorbar": {
             "outlinewidth": 0,
             "ticks": ""
            },
            "type": "contourcarpet"
           }
          ],
          "heatmap": [
           {
            "colorbar": {
             "outlinewidth": 0,
             "ticks": ""
            },
            "colorscale": [
             [
              0,
              "#0d0887"
             ],
             [
              0.1111111111111111,
              "#46039f"
             ],
             [
              0.2222222222222222,
              "#7201a8"
             ],
             [
              0.3333333333333333,
              "#9c179e"
             ],
             [
              0.4444444444444444,
              "#bd3786"
             ],
             [
              0.5555555555555556,
              "#d8576b"
             ],
             [
              0.6666666666666666,
              "#ed7953"
             ],
             [
              0.7777777777777778,
              "#fb9f3a"
             ],
             [
              0.8888888888888888,
              "#fdca26"
             ],
             [
              1,
              "#f0f921"
             ]
            ],
            "type": "heatmap"
           }
          ],
          "heatmapgl": [
           {
            "colorbar": {
             "outlinewidth": 0,
             "ticks": ""
            },
            "colorscale": [
             [
              0,
              "#0d0887"
             ],
             [
              0.1111111111111111,
              "#46039f"
             ],
             [
              0.2222222222222222,
              "#7201a8"
             ],
             [
              0.3333333333333333,
              "#9c179e"
             ],
             [
              0.4444444444444444,
              "#bd3786"
             ],
             [
              0.5555555555555556,
              "#d8576b"
             ],
             [
              0.6666666666666666,
              "#ed7953"
             ],
             [
              0.7777777777777778,
              "#fb9f3a"
             ],
             [
              0.8888888888888888,
              "#fdca26"
             ],
             [
              1,
              "#f0f921"
             ]
            ],
            "type": "heatmapgl"
           }
          ],
          "histogram": [
           {
            "marker": {
             "pattern": {
              "fillmode": "overlay",
              "size": 10,
              "solidity": 0.2
             }
            },
            "type": "histogram"
           }
          ],
          "histogram2d": [
           {
            "colorbar": {
             "outlinewidth": 0,
             "ticks": ""
            },
            "colorscale": [
             [
              0,
              "#0d0887"
             ],
             [
              0.1111111111111111,
              "#46039f"
             ],
             [
              0.2222222222222222,
              "#7201a8"
             ],
             [
              0.3333333333333333,
              "#9c179e"
             ],
             [
              0.4444444444444444,
              "#bd3786"
             ],
             [
              0.5555555555555556,
              "#d8576b"
             ],
             [
              0.6666666666666666,
              "#ed7953"
             ],
             [
              0.7777777777777778,
              "#fb9f3a"
             ],
             [
              0.8888888888888888,
              "#fdca26"
             ],
             [
              1,
              "#f0f921"
             ]
            ],
            "type": "histogram2d"
           }
          ],
          "histogram2dcontour": [
           {
            "colorbar": {
             "outlinewidth": 0,
             "ticks": ""
            },
            "colorscale": [
             [
              0,
              "#0d0887"
             ],
             [
              0.1111111111111111,
              "#46039f"
             ],
             [
              0.2222222222222222,
              "#7201a8"
             ],
             [
              0.3333333333333333,
              "#9c179e"
             ],
             [
              0.4444444444444444,
              "#bd3786"
             ],
             [
              0.5555555555555556,
              "#d8576b"
             ],
             [
              0.6666666666666666,
              "#ed7953"
             ],
             [
              0.7777777777777778,
              "#fb9f3a"
             ],
             [
              0.8888888888888888,
              "#fdca26"
             ],
             [
              1,
              "#f0f921"
             ]
            ],
            "type": "histogram2dcontour"
           }
          ],
          "mesh3d": [
           {
            "colorbar": {
             "outlinewidth": 0,
             "ticks": ""
            },
            "type": "mesh3d"
           }
          ],
          "parcoords": [
           {
            "line": {
             "colorbar": {
              "outlinewidth": 0,
              "ticks": ""
             }
            },
            "type": "parcoords"
           }
          ],
          "pie": [
           {
            "automargin": true,
            "type": "pie"
           }
          ],
          "scatter": [
           {
            "fillpattern": {
             "fillmode": "overlay",
             "size": 10,
             "solidity": 0.2
            },
            "type": "scatter"
           }
          ],
          "scatter3d": [
           {
            "line": {
             "colorbar": {
              "outlinewidth": 0,
              "ticks": ""
             }
            },
            "marker": {
             "colorbar": {
              "outlinewidth": 0,
              "ticks": ""
             }
            },
            "type": "scatter3d"
           }
          ],
          "scattercarpet": [
           {
            "marker": {
             "colorbar": {
              "outlinewidth": 0,
              "ticks": ""
             }
            },
            "type": "scattercarpet"
           }
          ],
          "scattergeo": [
           {
            "marker": {
             "colorbar": {
              "outlinewidth": 0,
              "ticks": ""
             }
            },
            "type": "scattergeo"
           }
          ],
          "scattergl": [
           {
            "marker": {
             "colorbar": {
              "outlinewidth": 0,
              "ticks": ""
             }
            },
            "type": "scattergl"
           }
          ],
          "scattermapbox": [
           {
            "marker": {
             "colorbar": {
              "outlinewidth": 0,
              "ticks": ""
             }
            },
            "type": "scattermapbox"
           }
          ],
          "scatterpolar": [
           {
            "marker": {
             "colorbar": {
              "outlinewidth": 0,
              "ticks": ""
             }
            },
            "type": "scatterpolar"
           }
          ],
          "scatterpolargl": [
           {
            "marker": {
             "colorbar": {
              "outlinewidth": 0,
              "ticks": ""
             }
            },
            "type": "scatterpolargl"
           }
          ],
          "scatterternary": [
           {
            "marker": {
             "colorbar": {
              "outlinewidth": 0,
              "ticks": ""
             }
            },
            "type": "scatterternary"
           }
          ],
          "surface": [
           {
            "colorbar": {
             "outlinewidth": 0,
             "ticks": ""
            },
            "colorscale": [
             [
              0,
              "#0d0887"
             ],
             [
              0.1111111111111111,
              "#46039f"
             ],
             [
              0.2222222222222222,
              "#7201a8"
             ],
             [
              0.3333333333333333,
              "#9c179e"
             ],
             [
              0.4444444444444444,
              "#bd3786"
             ],
             [
              0.5555555555555556,
              "#d8576b"
             ],
             [
              0.6666666666666666,
              "#ed7953"
             ],
             [
              0.7777777777777778,
              "#fb9f3a"
             ],
             [
              0.8888888888888888,
              "#fdca26"
             ],
             [
              1,
              "#f0f921"
             ]
            ],
            "type": "surface"
           }
          ],
          "table": [
           {
            "cells": {
             "fill": {
              "color": "#EBF0F8"
             },
             "line": {
              "color": "white"
             }
            },
            "header": {
             "fill": {
              "color": "#C8D4E3"
             },
             "line": {
              "color": "white"
             }
            },
            "type": "table"
           }
          ]
         },
         "layout": {
          "annotationdefaults": {
           "arrowcolor": "#2a3f5f",
           "arrowhead": 0,
           "arrowwidth": 1
          },
          "autotypenumbers": "strict",
          "coloraxis": {
           "colorbar": {
            "outlinewidth": 0,
            "ticks": ""
           }
          },
          "colorscale": {
           "diverging": [
            [
             0,
             "#8e0152"
            ],
            [
             0.1,
             "#c51b7d"
            ],
            [
             0.2,
             "#de77ae"
            ],
            [
             0.3,
             "#f1b6da"
            ],
            [
             0.4,
             "#fde0ef"
            ],
            [
             0.5,
             "#f7f7f7"
            ],
            [
             0.6,
             "#e6f5d0"
            ],
            [
             0.7,
             "#b8e186"
            ],
            [
             0.8,
             "#7fbc41"
            ],
            [
             0.9,
             "#4d9221"
            ],
            [
             1,
             "#276419"
            ]
           ],
           "sequential": [
            [
             0,
             "#0d0887"
            ],
            [
             0.1111111111111111,
             "#46039f"
            ],
            [
             0.2222222222222222,
             "#7201a8"
            ],
            [
             0.3333333333333333,
             "#9c179e"
            ],
            [
             0.4444444444444444,
             "#bd3786"
            ],
            [
             0.5555555555555556,
             "#d8576b"
            ],
            [
             0.6666666666666666,
             "#ed7953"
            ],
            [
             0.7777777777777778,
             "#fb9f3a"
            ],
            [
             0.8888888888888888,
             "#fdca26"
            ],
            [
             1,
             "#f0f921"
            ]
           ],
           "sequentialminus": [
            [
             0,
             "#0d0887"
            ],
            [
             0.1111111111111111,
             "#46039f"
            ],
            [
             0.2222222222222222,
             "#7201a8"
            ],
            [
             0.3333333333333333,
             "#9c179e"
            ],
            [
             0.4444444444444444,
             "#bd3786"
            ],
            [
             0.5555555555555556,
             "#d8576b"
            ],
            [
             0.6666666666666666,
             "#ed7953"
            ],
            [
             0.7777777777777778,
             "#fb9f3a"
            ],
            [
             0.8888888888888888,
             "#fdca26"
            ],
            [
             1,
             "#f0f921"
            ]
           ]
          },
          "colorway": [
           "#636efa",
           "#EF553B",
           "#00cc96",
           "#ab63fa",
           "#FFA15A",
           "#19d3f3",
           "#FF6692",
           "#B6E880",
           "#FF97FF",
           "#FECB52"
          ],
          "font": {
           "color": "#2a3f5f"
          },
          "geo": {
           "bgcolor": "white",
           "lakecolor": "white",
           "landcolor": "#E5ECF6",
           "showlakes": true,
           "showland": true,
           "subunitcolor": "white"
          },
          "hoverlabel": {
           "align": "left"
          },
          "hovermode": "closest",
          "mapbox": {
           "style": "light"
          },
          "paper_bgcolor": "white",
          "plot_bgcolor": "#E5ECF6",
          "polar": {
           "angularaxis": {
            "gridcolor": "white",
            "linecolor": "white",
            "ticks": ""
           },
           "bgcolor": "#E5ECF6",
           "radialaxis": {
            "gridcolor": "white",
            "linecolor": "white",
            "ticks": ""
           }
          },
          "scene": {
           "xaxis": {
            "backgroundcolor": "#E5ECF6",
            "gridcolor": "white",
            "gridwidth": 2,
            "linecolor": "white",
            "showbackground": true,
            "ticks": "",
            "zerolinecolor": "white"
           },
           "yaxis": {
            "backgroundcolor": "#E5ECF6",
            "gridcolor": "white",
            "gridwidth": 2,
            "linecolor": "white",
            "showbackground": true,
            "ticks": "",
            "zerolinecolor": "white"
           },
           "zaxis": {
            "backgroundcolor": "#E5ECF6",
            "gridcolor": "white",
            "gridwidth": 2,
            "linecolor": "white",
            "showbackground": true,
            "ticks": "",
            "zerolinecolor": "white"
           }
          },
          "shapedefaults": {
           "line": {
            "color": "#2a3f5f"
           }
          },
          "ternary": {
           "aaxis": {
            "gridcolor": "white",
            "linecolor": "white",
            "ticks": ""
           },
           "baxis": {
            "gridcolor": "white",
            "linecolor": "white",
            "ticks": ""
           },
           "bgcolor": "#E5ECF6",
           "caxis": {
            "gridcolor": "white",
            "linecolor": "white",
            "ticks": ""
           }
          },
          "title": {
           "x": 0.05
          },
          "xaxis": {
           "automargin": true,
           "gridcolor": "white",
           "linecolor": "white",
           "ticks": "",
           "title": {
            "standoff": 15
           },
           "zerolinecolor": "white",
           "zerolinewidth": 2
          },
          "yaxis": {
           "automargin": true,
           "gridcolor": "white",
           "linecolor": "white",
           "ticks": "",
           "title": {
            "standoff": 15
           },
           "zerolinecolor": "white",
           "zerolinewidth": 2
          }
         }
        },
        "title": {
         "text": "PAN DOWN SUB 11 SESS 1"
        }
       }
      }
     },
     "metadata": {},
     "output_type": "display_data"
    },
    {
     "data": {
      "application/vnd.plotly.v1+json": {
       "config": {
        "plotlyServerURL": "https://plot.ly"
       },
       "data": [
        {
         "marker": {
          "colorscale": [
           [
            0,
            "#440154"
           ],
           [
            0.1111111111111111,
            "#482878"
           ],
           [
            0.2222222222222222,
            "#3e4989"
           ],
           [
            0.3333333333333333,
            "#31688e"
           ],
           [
            0.4444444444444444,
            "#26828e"
           ],
           [
            0.5555555555555556,
            "#1f9e89"
           ],
           [
            0.6666666666666666,
            "#35b779"
           ],
           [
            0.7777777777777778,
            "#6ece58"
           ],
           [
            0.8888888888888888,
            "#b5de2b"
           ],
           [
            1,
            "#fde725"
           ]
          ],
          "opacity": 0.8,
          "size": 2
         },
         "mode": "markers",
         "name": "ORIGINAL",
         "showlegend": true,
         "type": "scatter3d",
         "x": [
          -0.696,
          -0.694,
          -0.693,
          -0.69,
          -0.689,
          -0.688,
          -0.686,
          -0.684,
          -0.681,
          -0.679,
          -0.676,
          -0.674,
          -0.671,
          -0.668,
          -0.665,
          -0.662,
          -0.659,
          -0.657,
          -0.655,
          -0.653,
          -0.65,
          -0.647,
          -0.644,
          -0.642,
          -0.64,
          -0.638,
          -0.636,
          -0.634,
          -0.633,
          -0.632,
          -0.632,
          -0.632,
          -0.632,
          -0.632,
          -0.633,
          -0.634,
          -0.636,
          -0.637,
          -0.639,
          -0.641,
          -0.642,
          -0.644,
          -0.646,
          -0.648,
          -0.649,
          -0.651,
          -0.653,
          -0.655,
          -0.656,
          -0.658,
          -0.659,
          -0.661,
          -0.663,
          -0.665,
          -0.667,
          -0.668,
          -0.67,
          -0.671
         ],
         "y": [
          1.457,
          1.463,
          1.469,
          1.474,
          1.478,
          1.481,
          1.483,
          1.486,
          1.487,
          1.487,
          1.486,
          1.485,
          1.484,
          1.481,
          1.478,
          1.475,
          1.471,
          1.466,
          1.459,
          1.453,
          1.446,
          1.44,
          1.434,
          1.428,
          1.421,
          1.416,
          1.41,
          1.405,
          1.399,
          1.393,
          1.386,
          1.38,
          1.373,
          1.368,
          1.362,
          1.355,
          1.348,
          1.342,
          1.337,
          1.333,
          1.328,
          1.323,
          1.318,
          1.314,
          1.311,
          1.309,
          1.306,
          1.303,
          1.301,
          1.299,
          1.298,
          1.297,
          1.296,
          1.296,
          1.296,
          1.295,
          1.294,
          1.295
         ],
         "z": [
          0.365,
          0.363,
          0.361,
          0.358,
          0.355,
          0.35,
          0.345,
          0.339,
          0.331,
          0.324,
          0.317,
          0.308,
          0.3,
          0.291,
          0.282,
          0.274,
          0.266,
          0.259,
          0.251,
          0.243,
          0.237,
          0.232,
          0.227,
          0.223,
          0.218,
          0.215,
          0.212,
          0.21,
          0.209,
          0.207,
          0.206,
          0.205,
          0.205,
          0.206,
          0.207,
          0.208,
          0.211,
          0.213,
          0.217,
          0.221,
          0.224,
          0.227,
          0.23,
          0.233,
          0.237,
          0.241,
          0.245,
          0.249,
          0.253,
          0.257,
          0.261,
          0.266,
          0.271,
          0.276,
          0.281,
          0.286,
          0.291,
          0.296
         ]
        },
        {
         "marker": {
          "colorscale": [
           [
            0,
            "rgb(92, 83, 165)"
           ],
           [
            0.16666666666666666,
            "rgb(160, 89, 160)"
           ],
           [
            0.3333333333333333,
            "rgb(206, 102, 147)"
           ],
           [
            0.5,
            "rgb(235, 127, 134)"
           ],
           [
            0.6666666666666666,
            "rgb(248, 160, 126)"
           ],
           [
            0.8333333333333334,
            "rgb(250, 196, 132)"
           ],
           [
            1,
            "rgb(243, 231, 155)"
           ]
          ],
          "opacity": 0.8,
          "size": 2
         },
         "mode": "lines",
         "name": "SMOOTHED",
         "showlegend": true,
         "type": "scatter3d",
         "x": [
          -0.696,
          -0.6828720543117159,
          -0.6627573854485115,
          -0.6436850763297581,
          -0.6319175837822932,
          -0.6368659900789982,
          -0.6494293140355482,
          -0.6623088580645724
         ],
         "y": [
          1.457,
          1.4866220983772602,
          1.4758121525488597,
          1.4332418860534972,
          1.3894148544174807,
          1.3426407037159993,
          1.3104535212045036,
          1.296276669173649
         ],
         "z": [
          0.365,
          0.33607431721274084,
          0.2759550279707197,
          0.22645420186935472,
          0.20640438258152585,
          0.21270815497681977,
          0.23807009842995697,
          0.2692131535443165
         ]
        }
       ],
       "layout": {
        "scene": {
         "aspectmode": "data"
        },
        "template": {
         "data": {
          "bar": [
           {
            "error_x": {
             "color": "#2a3f5f"
            },
            "error_y": {
             "color": "#2a3f5f"
            },
            "marker": {
             "line": {
              "color": "#E5ECF6",
              "width": 0.5
             },
             "pattern": {
              "fillmode": "overlay",
              "size": 10,
              "solidity": 0.2
             }
            },
            "type": "bar"
           }
          ],
          "barpolar": [
           {
            "marker": {
             "line": {
              "color": "#E5ECF6",
              "width": 0.5
             },
             "pattern": {
              "fillmode": "overlay",
              "size": 10,
              "solidity": 0.2
             }
            },
            "type": "barpolar"
           }
          ],
          "carpet": [
           {
            "aaxis": {
             "endlinecolor": "#2a3f5f",
             "gridcolor": "white",
             "linecolor": "white",
             "minorgridcolor": "white",
             "startlinecolor": "#2a3f5f"
            },
            "baxis": {
             "endlinecolor": "#2a3f5f",
             "gridcolor": "white",
             "linecolor": "white",
             "minorgridcolor": "white",
             "startlinecolor": "#2a3f5f"
            },
            "type": "carpet"
           }
          ],
          "choropleth": [
           {
            "colorbar": {
             "outlinewidth": 0,
             "ticks": ""
            },
            "type": "choropleth"
           }
          ],
          "contour": [
           {
            "colorbar": {
             "outlinewidth": 0,
             "ticks": ""
            },
            "colorscale": [
             [
              0,
              "#0d0887"
             ],
             [
              0.1111111111111111,
              "#46039f"
             ],
             [
              0.2222222222222222,
              "#7201a8"
             ],
             [
              0.3333333333333333,
              "#9c179e"
             ],
             [
              0.4444444444444444,
              "#bd3786"
             ],
             [
              0.5555555555555556,
              "#d8576b"
             ],
             [
              0.6666666666666666,
              "#ed7953"
             ],
             [
              0.7777777777777778,
              "#fb9f3a"
             ],
             [
              0.8888888888888888,
              "#fdca26"
             ],
             [
              1,
              "#f0f921"
             ]
            ],
            "type": "contour"
           }
          ],
          "contourcarpet": [
           {
            "colorbar": {
             "outlinewidth": 0,
             "ticks": ""
            },
            "type": "contourcarpet"
           }
          ],
          "heatmap": [
           {
            "colorbar": {
             "outlinewidth": 0,
             "ticks": ""
            },
            "colorscale": [
             [
              0,
              "#0d0887"
             ],
             [
              0.1111111111111111,
              "#46039f"
             ],
             [
              0.2222222222222222,
              "#7201a8"
             ],
             [
              0.3333333333333333,
              "#9c179e"
             ],
             [
              0.4444444444444444,
              "#bd3786"
             ],
             [
              0.5555555555555556,
              "#d8576b"
             ],
             [
              0.6666666666666666,
              "#ed7953"
             ],
             [
              0.7777777777777778,
              "#fb9f3a"
             ],
             [
              0.8888888888888888,
              "#fdca26"
             ],
             [
              1,
              "#f0f921"
             ]
            ],
            "type": "heatmap"
           }
          ],
          "heatmapgl": [
           {
            "colorbar": {
             "outlinewidth": 0,
             "ticks": ""
            },
            "colorscale": [
             [
              0,
              "#0d0887"
             ],
             [
              0.1111111111111111,
              "#46039f"
             ],
             [
              0.2222222222222222,
              "#7201a8"
             ],
             [
              0.3333333333333333,
              "#9c179e"
             ],
             [
              0.4444444444444444,
              "#bd3786"
             ],
             [
              0.5555555555555556,
              "#d8576b"
             ],
             [
              0.6666666666666666,
              "#ed7953"
             ],
             [
              0.7777777777777778,
              "#fb9f3a"
             ],
             [
              0.8888888888888888,
              "#fdca26"
             ],
             [
              1,
              "#f0f921"
             ]
            ],
            "type": "heatmapgl"
           }
          ],
          "histogram": [
           {
            "marker": {
             "pattern": {
              "fillmode": "overlay",
              "size": 10,
              "solidity": 0.2
             }
            },
            "type": "histogram"
           }
          ],
          "histogram2d": [
           {
            "colorbar": {
             "outlinewidth": 0,
             "ticks": ""
            },
            "colorscale": [
             [
              0,
              "#0d0887"
             ],
             [
              0.1111111111111111,
              "#46039f"
             ],
             [
              0.2222222222222222,
              "#7201a8"
             ],
             [
              0.3333333333333333,
              "#9c179e"
             ],
             [
              0.4444444444444444,
              "#bd3786"
             ],
             [
              0.5555555555555556,
              "#d8576b"
             ],
             [
              0.6666666666666666,
              "#ed7953"
             ],
             [
              0.7777777777777778,
              "#fb9f3a"
             ],
             [
              0.8888888888888888,
              "#fdca26"
             ],
             [
              1,
              "#f0f921"
             ]
            ],
            "type": "histogram2d"
           }
          ],
          "histogram2dcontour": [
           {
            "colorbar": {
             "outlinewidth": 0,
             "ticks": ""
            },
            "colorscale": [
             [
              0,
              "#0d0887"
             ],
             [
              0.1111111111111111,
              "#46039f"
             ],
             [
              0.2222222222222222,
              "#7201a8"
             ],
             [
              0.3333333333333333,
              "#9c179e"
             ],
             [
              0.4444444444444444,
              "#bd3786"
             ],
             [
              0.5555555555555556,
              "#d8576b"
             ],
             [
              0.6666666666666666,
              "#ed7953"
             ],
             [
              0.7777777777777778,
              "#fb9f3a"
             ],
             [
              0.8888888888888888,
              "#fdca26"
             ],
             [
              1,
              "#f0f921"
             ]
            ],
            "type": "histogram2dcontour"
           }
          ],
          "mesh3d": [
           {
            "colorbar": {
             "outlinewidth": 0,
             "ticks": ""
            },
            "type": "mesh3d"
           }
          ],
          "parcoords": [
           {
            "line": {
             "colorbar": {
              "outlinewidth": 0,
              "ticks": ""
             }
            },
            "type": "parcoords"
           }
          ],
          "pie": [
           {
            "automargin": true,
            "type": "pie"
           }
          ],
          "scatter": [
           {
            "fillpattern": {
             "fillmode": "overlay",
             "size": 10,
             "solidity": 0.2
            },
            "type": "scatter"
           }
          ],
          "scatter3d": [
           {
            "line": {
             "colorbar": {
              "outlinewidth": 0,
              "ticks": ""
             }
            },
            "marker": {
             "colorbar": {
              "outlinewidth": 0,
              "ticks": ""
             }
            },
            "type": "scatter3d"
           }
          ],
          "scattercarpet": [
           {
            "marker": {
             "colorbar": {
              "outlinewidth": 0,
              "ticks": ""
             }
            },
            "type": "scattercarpet"
           }
          ],
          "scattergeo": [
           {
            "marker": {
             "colorbar": {
              "outlinewidth": 0,
              "ticks": ""
             }
            },
            "type": "scattergeo"
           }
          ],
          "scattergl": [
           {
            "marker": {
             "colorbar": {
              "outlinewidth": 0,
              "ticks": ""
             }
            },
            "type": "scattergl"
           }
          ],
          "scattermapbox": [
           {
            "marker": {
             "colorbar": {
              "outlinewidth": 0,
              "ticks": ""
             }
            },
            "type": "scattermapbox"
           }
          ],
          "scatterpolar": [
           {
            "marker": {
             "colorbar": {
              "outlinewidth": 0,
              "ticks": ""
             }
            },
            "type": "scatterpolar"
           }
          ],
          "scatterpolargl": [
           {
            "marker": {
             "colorbar": {
              "outlinewidth": 0,
              "ticks": ""
             }
            },
            "type": "scatterpolargl"
           }
          ],
          "scatterternary": [
           {
            "marker": {
             "colorbar": {
              "outlinewidth": 0,
              "ticks": ""
             }
            },
            "type": "scatterternary"
           }
          ],
          "surface": [
           {
            "colorbar": {
             "outlinewidth": 0,
             "ticks": ""
            },
            "colorscale": [
             [
              0,
              "#0d0887"
             ],
             [
              0.1111111111111111,
              "#46039f"
             ],
             [
              0.2222222222222222,
              "#7201a8"
             ],
             [
              0.3333333333333333,
              "#9c179e"
             ],
             [
              0.4444444444444444,
              "#bd3786"
             ],
             [
              0.5555555555555556,
              "#d8576b"
             ],
             [
              0.6666666666666666,
              "#ed7953"
             ],
             [
              0.7777777777777778,
              "#fb9f3a"
             ],
             [
              0.8888888888888888,
              "#fdca26"
             ],
             [
              1,
              "#f0f921"
             ]
            ],
            "type": "surface"
           }
          ],
          "table": [
           {
            "cells": {
             "fill": {
              "color": "#EBF0F8"
             },
             "line": {
              "color": "white"
             }
            },
            "header": {
             "fill": {
              "color": "#C8D4E3"
             },
             "line": {
              "color": "white"
             }
            },
            "type": "table"
           }
          ]
         },
         "layout": {
          "annotationdefaults": {
           "arrowcolor": "#2a3f5f",
           "arrowhead": 0,
           "arrowwidth": 1
          },
          "autotypenumbers": "strict",
          "coloraxis": {
           "colorbar": {
            "outlinewidth": 0,
            "ticks": ""
           }
          },
          "colorscale": {
           "diverging": [
            [
             0,
             "#8e0152"
            ],
            [
             0.1,
             "#c51b7d"
            ],
            [
             0.2,
             "#de77ae"
            ],
            [
             0.3,
             "#f1b6da"
            ],
            [
             0.4,
             "#fde0ef"
            ],
            [
             0.5,
             "#f7f7f7"
            ],
            [
             0.6,
             "#e6f5d0"
            ],
            [
             0.7,
             "#b8e186"
            ],
            [
             0.8,
             "#7fbc41"
            ],
            [
             0.9,
             "#4d9221"
            ],
            [
             1,
             "#276419"
            ]
           ],
           "sequential": [
            [
             0,
             "#0d0887"
            ],
            [
             0.1111111111111111,
             "#46039f"
            ],
            [
             0.2222222222222222,
             "#7201a8"
            ],
            [
             0.3333333333333333,
             "#9c179e"
            ],
            [
             0.4444444444444444,
             "#bd3786"
            ],
            [
             0.5555555555555556,
             "#d8576b"
            ],
            [
             0.6666666666666666,
             "#ed7953"
            ],
            [
             0.7777777777777778,
             "#fb9f3a"
            ],
            [
             0.8888888888888888,
             "#fdca26"
            ],
            [
             1,
             "#f0f921"
            ]
           ],
           "sequentialminus": [
            [
             0,
             "#0d0887"
            ],
            [
             0.1111111111111111,
             "#46039f"
            ],
            [
             0.2222222222222222,
             "#7201a8"
            ],
            [
             0.3333333333333333,
             "#9c179e"
            ],
            [
             0.4444444444444444,
             "#bd3786"
            ],
            [
             0.5555555555555556,
             "#d8576b"
            ],
            [
             0.6666666666666666,
             "#ed7953"
            ],
            [
             0.7777777777777778,
             "#fb9f3a"
            ],
            [
             0.8888888888888888,
             "#fdca26"
            ],
            [
             1,
             "#f0f921"
            ]
           ]
          },
          "colorway": [
           "#636efa",
           "#EF553B",
           "#00cc96",
           "#ab63fa",
           "#FFA15A",
           "#19d3f3",
           "#FF6692",
           "#B6E880",
           "#FF97FF",
           "#FECB52"
          ],
          "font": {
           "color": "#2a3f5f"
          },
          "geo": {
           "bgcolor": "white",
           "lakecolor": "white",
           "landcolor": "#E5ECF6",
           "showlakes": true,
           "showland": true,
           "subunitcolor": "white"
          },
          "hoverlabel": {
           "align": "left"
          },
          "hovermode": "closest",
          "mapbox": {
           "style": "light"
          },
          "paper_bgcolor": "white",
          "plot_bgcolor": "#E5ECF6",
          "polar": {
           "angularaxis": {
            "gridcolor": "white",
            "linecolor": "white",
            "ticks": ""
           },
           "bgcolor": "#E5ECF6",
           "radialaxis": {
            "gridcolor": "white",
            "linecolor": "white",
            "ticks": ""
           }
          },
          "scene": {
           "xaxis": {
            "backgroundcolor": "#E5ECF6",
            "gridcolor": "white",
            "gridwidth": 2,
            "linecolor": "white",
            "showbackground": true,
            "ticks": "",
            "zerolinecolor": "white"
           },
           "yaxis": {
            "backgroundcolor": "#E5ECF6",
            "gridcolor": "white",
            "gridwidth": 2,
            "linecolor": "white",
            "showbackground": true,
            "ticks": "",
            "zerolinecolor": "white"
           },
           "zaxis": {
            "backgroundcolor": "#E5ECF6",
            "gridcolor": "white",
            "gridwidth": 2,
            "linecolor": "white",
            "showbackground": true,
            "ticks": "",
            "zerolinecolor": "white"
           }
          },
          "shapedefaults": {
           "line": {
            "color": "#2a3f5f"
           }
          },
          "ternary": {
           "aaxis": {
            "gridcolor": "white",
            "linecolor": "white",
            "ticks": ""
           },
           "baxis": {
            "gridcolor": "white",
            "linecolor": "white",
            "ticks": ""
           },
           "bgcolor": "#E5ECF6",
           "caxis": {
            "gridcolor": "white",
            "linecolor": "white",
            "ticks": ""
           }
          },
          "title": {
           "x": 0.05
          },
          "xaxis": {
           "automargin": true,
           "gridcolor": "white",
           "linecolor": "white",
           "ticks": "",
           "title": {
            "standoff": 15
           },
           "zerolinecolor": "white",
           "zerolinewidth": 2
          },
          "yaxis": {
           "automargin": true,
           "gridcolor": "white",
           "linecolor": "white",
           "ticks": "",
           "title": {
            "standoff": 15
           },
           "zerolinecolor": "white",
           "zerolinewidth": 2
          }
         }
        },
        "title": {
         "text": "ROT BACK X SUB 11 SESS 1"
        }
       }
      }
     },
     "metadata": {},
     "output_type": "display_data"
    }
   ],
   "source": [
    "import numpy as np\n",
    "from scipy.interpolate import BSpline, make_interp_spline\n",
    "\n",
    "\n",
    "def drop_df(df, trial_num):\n",
    "    df.drop(df[(df[\"trigger_pull_amount_right\"] == 0) & (df[\"trigger_pull_amount_left\"] == 0)].index, inplace=True)\n",
    "    df.drop(df[(df['gesture_counter_UI']) != trial_num].index, inplace=True)\n",
    "    df.reset_index(drop=True, inplace=True)\n",
    "\n",
    "\n",
    "#path_sess1 = 'C:\\\\Users\\\\katie\\\\Desktop\\\\cpsc\\\\VRelax\\\\gestureInterface\\\\CleanedData\\\\Sub11\\\\Freeform_Sub11_Sess1\\\\cleaned_session_F_BoxSelect_subjID_11_05-10-23_03-50-54.csv'\n",
    "path_sess1 = 'C:\\\\Users\\\\katie\\\\Desktop\\\\cpsc\\\\VRelax\\\\gestureInterface\\\\CleanedData\\\\Sub11\\\\Freeform_Sub11_Sess1\\\\cleaned_session_F_PanDown_subjID_11_05-10-23_03-50-41.csv'\n",
    "path_sess2 = 'C:\\\\Users\\\\katie\\\\Desktop\\\\cpsc\\\\VRelax\\\\gestureInterface\\\\CleanedData\\\\Sub11\\\\Freeform_Sub11_Sess1\\\\cleaned_session_F_RotBackX_subjID_11_05-10-23_03-52-41.csv'\n",
    "path_sess3 = 'C:\\\\Users\\\\katie\\\\Desktop\\\\cpsc\\\\VRelax\\\\gestureInterface\\\\CleanedData\\\\Sub11\\\\Freeform_Sub11_Sess1\\\\cleaned_session_F_BoxSelect_subjID_11_05-10-23_03-50-54.csv'\n",
    "df_sess3 = pd.read_csv(path_sess3)\n",
    "drop_df(df_sess3, 1)\n",
    "\n",
    "# Gets new df\n",
    "df_sess1 = pd.read_csv(path_sess1)\n",
    "drop_df(df_sess1, 1)\n",
    "\n",
    "fig1 = go.Figure()\n",
    "sess1_rX = df_sess1['r_controller_translation_x']\n",
    "sess1_rY = df_sess1['r_controller_translation_y']\n",
    "sess1_rZ = df_sess1['r_controller_translation_z']\n",
    "\n",
    "x = np.array(sess1_rX)\n",
    "y = np.array(sess1_rY)\n",
    "z = np.array(sess1_rZ)\n",
    "\n",
    "# The number of control points and knots\n",
    "k = 3  # degree of the B-spline\n",
    "t = np.linspace(0, 1, len(sess1_rZ))\n",
    "\n",
    "# Create the B-spline representation for each dimension\n",
    "spl_x = make_interp_spline(t, x, k=k)\n",
    "spl_y = make_interp_spline(t, y, k=k)\n",
    "spl_z = make_interp_spline(t, z, k=k)\n",
    "\n",
    "# Evaluate the B-spline over a dense set of points for a smooth trajectory\n",
    "dense_t = np.linspace(0, 1, 5 * len(sess1_rZ))  # points in the smoothed curve; can be adjusted\n",
    "x_smooth = spl_x(dense_t)\n",
    "y_smooth = spl_y(dense_t)\n",
    "z_smooth = spl_z(dense_t)\n",
    "\n",
    "new_x_smooth = []\n",
    "new_y_smooth = []\n",
    "new_z_smooth = []\n",
    "for index in range(len(x_smooth)):\n",
    "    if (index % 150 != 0) :\n",
    "        continue\n",
    "    new_x_smooth.append(x_smooth[index])\n",
    "    new_y_smooth.append(y_smooth[index])\n",
    "    new_z_smooth.append(z_smooth[index])\n",
    "\n",
    "fig1.add_trace(go.Scatter3d(\n",
    "    x = sess1_rX,\n",
    "    y = sess1_rY,\n",
    "    z = sess1_rZ,\n",
    "    mode='markers',\n",
    "    marker=dict(\n",
    "        size=2,\n",
    "        colorscale='viridis',  # colorscale\n",
    "        opacity=0.8,\n",
    "    ),\n",
    "    name='ORIGINAL',\n",
    "    showlegend=True)\n",
    ")\n",
    "fig1.add_trace(go.Scatter3d(\n",
    "    x = new_x_smooth,\n",
    "    y = new_y_smooth,\n",
    "    z = new_z_smooth,\n",
    "    mode='lines',\n",
    "    marker=dict(\n",
    "        size=2,\n",
    "        colorscale='sunset_r',  # colorscale\n",
    "        opacity=0.8,\n",
    "    ),\n",
    "    name='SMOOTHED',\n",
    "    showlegend=True)\n",
    ")\n",
    "fig1.update_layout(\n",
    "    title_text='PAN DOWN SUB 11 SESS 1', \n",
    "    scene_aspectmode='data'\n",
    ")\n",
    "fig1.show()\n",
    "\n",
    "\n",
    "\n",
    "\n",
    "\n",
    "# Gets new df\n",
    "df_sess2 = pd.read_csv(path_sess2)\n",
    "drop_df(df_sess2, 1)\n",
    "\n",
    "fig2 = go.Figure()\n",
    "sess2_rX = df_sess2['r_controller_translation_x']\n",
    "sess2_rY = df_sess2['r_controller_translation_y']\n",
    "sess2_rZ = df_sess2['r_controller_translation_z']\n",
    "\n",
    "x = np.array(sess2_rX)\n",
    "y = np.array(sess2_rY)\n",
    "z = np.array(sess2_rZ)\n",
    "\n",
    "# The number of control points and knots\n",
    "k = 3  # degree of the B-spline\n",
    "t = np.linspace(0, 1, len(sess2_rZ))\n",
    "\n",
    "# Create the B-spline representation for each dimension\n",
    "spl_x = make_interp_spline(t, x, k=k)\n",
    "spl_y = make_interp_spline(t, y, k=k)\n",
    "spl_z = make_interp_spline(t, z, k=k)\n",
    "\n",
    "# Evaluate the B-spline over a dense set of points for a smooth trajectory\n",
    "dense_t = np.linspace(0, 1, 20 * len(sess2_rZ))  # points in the smoothed curve; can be adjusted\n",
    "x_smooth = spl_x(dense_t)\n",
    "y_smooth = spl_y(dense_t)\n",
    "z_smooth = spl_z(dense_t)\n",
    "\n",
    "new_x_smooth = []\n",
    "new_y_smooth = []\n",
    "new_z_smooth = []\n",
    "for index in range(len(x_smooth)):\n",
    "    if (index % 150 != 0) :\n",
    "        continue\n",
    "    new_x_smooth.append(x_smooth[index])\n",
    "    new_y_smooth.append(y_smooth[index])\n",
    "    new_z_smooth.append(z_smooth[index])\n",
    "    \n",
    "\n",
    "fig2.add_trace(go.Scatter3d(\n",
    "    x = sess2_rX,\n",
    "    y = sess2_rY,\n",
    "    z = sess2_rZ,\n",
    "    mode='markers',\n",
    "    marker=dict(\n",
    "        size=2,\n",
    "        colorscale='viridis',  # colorscale\n",
    "        opacity=0.8,\n",
    "    ),\n",
    "    name='ORIGINAL',\n",
    "    showlegend=True)\n",
    ")\n",
    "fig2.add_trace(go.Scatter3d(\n",
    "    x = new_x_smooth,\n",
    "    y = new_y_smooth,\n",
    "    z = new_z_smooth,\n",
    "    mode='lines',\n",
    "    marker=dict(\n",
    "        size=2,\n",
    "        colorscale='sunset_r',  # colorscale\n",
    "        opacity=0.8,\n",
    "    ),\n",
    "    name='SMOOTHED',\n",
    "    showlegend=True)\n",
    ")\n",
    "fig2.update_layout(\n",
    "    title_text='ROT BACK X SUB 11 SESS 1', \n",
    "    scene_aspectmode='data'\n",
    ")\n",
    "fig2.show()"
   ]
  }
 ],
 "metadata": {
  "kernelspec": {
   "display_name": "Python 3",
   "language": "python",
   "name": "python3"
  },
  "language_info": {
   "codemirror_mode": {
    "name": "ipython",
    "version": 3
   },
   "file_extension": ".py",
   "mimetype": "text/x-python",
   "name": "python",
   "nbconvert_exporter": "python",
   "pygments_lexer": "ipython3",
   "version": "3.11.4"
  },
  "orig_nbformat": 4
 },
 "nbformat": 4,
 "nbformat_minor": 2
}
